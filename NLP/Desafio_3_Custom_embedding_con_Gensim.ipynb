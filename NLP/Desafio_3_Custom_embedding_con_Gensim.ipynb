{
  "nbformat": 4,
  "nbformat_minor": 0,
  "metadata": {
    "colab": {
      "name": "Desafio_3_Custom embedding con Gensim.ipynb",
      "provenance": [],
      "collapsed_sections": [],
      "include_colab_link": true
    },
    "kernelspec": {
      "name": "python3",
      "display_name": "Python 3"
    }
  },
  "cells": [
    {
      "cell_type": "markdown",
      "metadata": {
        "id": "view-in-github",
        "colab_type": "text"
      },
      "source": [
        "<a href=\"https://colab.research.google.com/github/pedromperezc/CEIA/blob/master/NLP/Desafio_3_Custom_embedding_con_Gensim.ipynb\" target=\"_parent\"><img src=\"https://colab.research.google.com/assets/colab-badge.svg\" alt=\"Open In Colab\"/></a>"
      ]
    },
    {
      "cell_type": "markdown",
      "metadata": {
        "id": "sZd5yLnnHOK0"
      },
      "source": [
        "<img src=\"https://github.com/hernancontigiani/ceia_memorias_especializacion/raw/master/Figures/logoFIUBA.jpg\" width=\"500\" align=\"center\">\n",
        "\n",
        "\n",
        "# Procesamiento de lenguaje natural\n",
        "## Custom embedddings con Gensim\n",
        "\n"
      ]
    },
    {
      "cell_type": "markdown",
      "metadata": {
        "id": "vA7nqkumo9z9"
      },
      "source": [
        "### Objetivo\n",
        "El objetivo es utilizar documentos / corpus para crear embeddings de palabras basado en ese contexto. Se utilizará canciones de bandas para generar los embeddings, es decir, que los vectores tendrán la forma en función de como esa banda haya utilizado las palabras en sus canciones."
      ]
    },
    {
      "cell_type": "code",
      "metadata": {
        "id": "lFToQs5FK5uZ"
      },
      "source": [
        "import pandas as pd\n",
        "import matplotlib.pyplot as plt\n",
        "import seaborn as sns\n",
        "import os\n",
        "\n",
        "import multiprocessing\n",
        "from gensim.models import Word2Vec\n",
        "import spacy\n",
        "import regex as re\n",
        "\n",
        "import multiprocessing"
      ],
      "execution_count": null,
      "outputs": []
    },
    {
      "cell_type": "code",
      "source": [
        "from google.colab import drive\n",
        "drive.mount('/content/drive')"
      ],
      "metadata": {
        "colab": {
          "base_uri": "https://localhost:8080/"
        },
        "id": "zJpIHoQoODfH",
        "outputId": "4505ad29-cf53-4944-8fa9-4068c98a7d7e"
      },
      "execution_count": null,
      "outputs": [
        {
          "output_type": "stream",
          "name": "stdout",
          "text": [
            "Drive already mounted at /content/drive; to attempt to forcibly remount, call drive.mount(\"/content/drive\", force_remount=True).\n"
          ]
        }
      ]
    },
    {
      "cell_type": "code",
      "source": [
        "os.chdir('drive/MyDrive/NLP/')"
      ],
      "metadata": {
        "id": "8OLMk7P7OOH2"
      },
      "execution_count": null,
      "outputs": []
    },
    {
      "cell_type": "markdown",
      "metadata": {
        "id": "g07zJxG7H9vG"
      },
      "source": [
        "### Datos\n",
        "Utilizaremos como dataset peliculas tomadas de la página IMDB."
      ]
    },
    {
      "cell_type": "code",
      "source": [
        "df = pd.read_csv(\"TMDb_updated.CSV\")\n",
        "df"
      ],
      "metadata": {
        "colab": {
          "base_uri": "https://localhost:8080/",
          "height": 423
        },
        "id": "6NipP-BUoNm2",
        "outputId": "bdc6d80c-b03e-4cf4-f69a-cfc53c1701d7"
      },
      "execution_count": null,
      "outputs": [
        {
          "output_type": "execute_result",
          "data": {
            "text/plain": [
              "      Unnamed: 0                           title  \\\n",
              "0              0                        Ad Astra   \n",
              "1              1                       Bloodshot   \n",
              "2              2               Bad Boys for Life   \n",
              "3              3                         Ant-Man   \n",
              "4              4  Percy Jackson: Sea of Monsters   \n",
              "...          ...                             ...   \n",
              "9995        9995                           Cargo   \n",
              "9996        9996                  The Good Night   \n",
              "9997        9997              The World Is Yours   \n",
              "9998        9998             The Grand Seduction   \n",
              "9999        9999        Woochi: The Demon Slayer   \n",
              "\n",
              "                                               overview original_language  \\\n",
              "0     The near future, a time when both hope and har...                en   \n",
              "1     After he and his wife are murdered, marine Ray...                en   \n",
              "2     Marcus and Mike are forced to confront new thr...                en   \n",
              "3     Armed with the astonishing ability to shrink i...                en   \n",
              "4     In their quest to confront the ultimate evil, ...                en   \n",
              "...                                                 ...               ...   \n",
              "9995  The story of CARGO takes place on rusty space-...                de   \n",
              "9996  Gary, a musician, is trapped in an unhappy rel...                en   \n",
              "9997  To escape his life of crime, a Paris drug deal...                fr   \n",
              "9998  A small fishing village must procure a local d...                en   \n",
              "9999  Spanning four centuries in Korea, this epic ac...                ko   \n",
              "\n",
              "      vote_count  vote_average  \n",
              "0           2853           5.9  \n",
              "1           1349           7.2  \n",
              "2           2530           7.1  \n",
              "3          13611           7.1  \n",
              "4           3542           5.9  \n",
              "...          ...           ...  \n",
              "9995         225           5.9  \n",
              "9996          67           5.6  \n",
              "9997         234           7.1  \n",
              "9998         169           6.7  \n",
              "9999          78           6.7  \n",
              "\n",
              "[10000 rows x 6 columns]"
            ],
            "text/html": [
              "\n",
              "  <div id=\"df-0e97e65d-cb3d-4649-808b-13b1f86e0134\">\n",
              "    <div class=\"colab-df-container\">\n",
              "      <div>\n",
              "<style scoped>\n",
              "    .dataframe tbody tr th:only-of-type {\n",
              "        vertical-align: middle;\n",
              "    }\n",
              "\n",
              "    .dataframe tbody tr th {\n",
              "        vertical-align: top;\n",
              "    }\n",
              "\n",
              "    .dataframe thead th {\n",
              "        text-align: right;\n",
              "    }\n",
              "</style>\n",
              "<table border=\"1\" class=\"dataframe\">\n",
              "  <thead>\n",
              "    <tr style=\"text-align: right;\">\n",
              "      <th></th>\n",
              "      <th>Unnamed: 0</th>\n",
              "      <th>title</th>\n",
              "      <th>overview</th>\n",
              "      <th>original_language</th>\n",
              "      <th>vote_count</th>\n",
              "      <th>vote_average</th>\n",
              "    </tr>\n",
              "  </thead>\n",
              "  <tbody>\n",
              "    <tr>\n",
              "      <th>0</th>\n",
              "      <td>0</td>\n",
              "      <td>Ad Astra</td>\n",
              "      <td>The near future, a time when both hope and har...</td>\n",
              "      <td>en</td>\n",
              "      <td>2853</td>\n",
              "      <td>5.9</td>\n",
              "    </tr>\n",
              "    <tr>\n",
              "      <th>1</th>\n",
              "      <td>1</td>\n",
              "      <td>Bloodshot</td>\n",
              "      <td>After he and his wife are murdered, marine Ray...</td>\n",
              "      <td>en</td>\n",
              "      <td>1349</td>\n",
              "      <td>7.2</td>\n",
              "    </tr>\n",
              "    <tr>\n",
              "      <th>2</th>\n",
              "      <td>2</td>\n",
              "      <td>Bad Boys for Life</td>\n",
              "      <td>Marcus and Mike are forced to confront new thr...</td>\n",
              "      <td>en</td>\n",
              "      <td>2530</td>\n",
              "      <td>7.1</td>\n",
              "    </tr>\n",
              "    <tr>\n",
              "      <th>3</th>\n",
              "      <td>3</td>\n",
              "      <td>Ant-Man</td>\n",
              "      <td>Armed with the astonishing ability to shrink i...</td>\n",
              "      <td>en</td>\n",
              "      <td>13611</td>\n",
              "      <td>7.1</td>\n",
              "    </tr>\n",
              "    <tr>\n",
              "      <th>4</th>\n",
              "      <td>4</td>\n",
              "      <td>Percy Jackson: Sea of Monsters</td>\n",
              "      <td>In their quest to confront the ultimate evil, ...</td>\n",
              "      <td>en</td>\n",
              "      <td>3542</td>\n",
              "      <td>5.9</td>\n",
              "    </tr>\n",
              "    <tr>\n",
              "      <th>...</th>\n",
              "      <td>...</td>\n",
              "      <td>...</td>\n",
              "      <td>...</td>\n",
              "      <td>...</td>\n",
              "      <td>...</td>\n",
              "      <td>...</td>\n",
              "    </tr>\n",
              "    <tr>\n",
              "      <th>9995</th>\n",
              "      <td>9995</td>\n",
              "      <td>Cargo</td>\n",
              "      <td>The story of CARGO takes place on rusty space-...</td>\n",
              "      <td>de</td>\n",
              "      <td>225</td>\n",
              "      <td>5.9</td>\n",
              "    </tr>\n",
              "    <tr>\n",
              "      <th>9996</th>\n",
              "      <td>9996</td>\n",
              "      <td>The Good Night</td>\n",
              "      <td>Gary, a musician, is trapped in an unhappy rel...</td>\n",
              "      <td>en</td>\n",
              "      <td>67</td>\n",
              "      <td>5.6</td>\n",
              "    </tr>\n",
              "    <tr>\n",
              "      <th>9997</th>\n",
              "      <td>9997</td>\n",
              "      <td>The World Is Yours</td>\n",
              "      <td>To escape his life of crime, a Paris drug deal...</td>\n",
              "      <td>fr</td>\n",
              "      <td>234</td>\n",
              "      <td>7.1</td>\n",
              "    </tr>\n",
              "    <tr>\n",
              "      <th>9998</th>\n",
              "      <td>9998</td>\n",
              "      <td>The Grand Seduction</td>\n",
              "      <td>A small fishing village must procure a local d...</td>\n",
              "      <td>en</td>\n",
              "      <td>169</td>\n",
              "      <td>6.7</td>\n",
              "    </tr>\n",
              "    <tr>\n",
              "      <th>9999</th>\n",
              "      <td>9999</td>\n",
              "      <td>Woochi: The Demon Slayer</td>\n",
              "      <td>Spanning four centuries in Korea, this epic ac...</td>\n",
              "      <td>ko</td>\n",
              "      <td>78</td>\n",
              "      <td>6.7</td>\n",
              "    </tr>\n",
              "  </tbody>\n",
              "</table>\n",
              "<p>10000 rows × 6 columns</p>\n",
              "</div>\n",
              "      <button class=\"colab-df-convert\" onclick=\"convertToInteractive('df-0e97e65d-cb3d-4649-808b-13b1f86e0134')\"\n",
              "              title=\"Convert this dataframe to an interactive table.\"\n",
              "              style=\"display:none;\">\n",
              "        \n",
              "  <svg xmlns=\"http://www.w3.org/2000/svg\" height=\"24px\"viewBox=\"0 0 24 24\"\n",
              "       width=\"24px\">\n",
              "    <path d=\"M0 0h24v24H0V0z\" fill=\"none\"/>\n",
              "    <path d=\"M18.56 5.44l.94 2.06.94-2.06 2.06-.94-2.06-.94-.94-2.06-.94 2.06-2.06.94zm-11 1L8.5 8.5l.94-2.06 2.06-.94-2.06-.94L8.5 2.5l-.94 2.06-2.06.94zm10 10l.94 2.06.94-2.06 2.06-.94-2.06-.94-.94-2.06-.94 2.06-2.06.94z\"/><path d=\"M17.41 7.96l-1.37-1.37c-.4-.4-.92-.59-1.43-.59-.52 0-1.04.2-1.43.59L10.3 9.45l-7.72 7.72c-.78.78-.78 2.05 0 2.83L4 21.41c.39.39.9.59 1.41.59.51 0 1.02-.2 1.41-.59l7.78-7.78 2.81-2.81c.8-.78.8-2.07 0-2.86zM5.41 20L4 18.59l7.72-7.72 1.47 1.35L5.41 20z\"/>\n",
              "  </svg>\n",
              "      </button>\n",
              "      \n",
              "  <style>\n",
              "    .colab-df-container {\n",
              "      display:flex;\n",
              "      flex-wrap:wrap;\n",
              "      gap: 12px;\n",
              "    }\n",
              "\n",
              "    .colab-df-convert {\n",
              "      background-color: #E8F0FE;\n",
              "      border: none;\n",
              "      border-radius: 50%;\n",
              "      cursor: pointer;\n",
              "      display: none;\n",
              "      fill: #1967D2;\n",
              "      height: 32px;\n",
              "      padding: 0 0 0 0;\n",
              "      width: 32px;\n",
              "    }\n",
              "\n",
              "    .colab-df-convert:hover {\n",
              "      background-color: #E2EBFA;\n",
              "      box-shadow: 0px 1px 2px rgba(60, 64, 67, 0.3), 0px 1px 3px 1px rgba(60, 64, 67, 0.15);\n",
              "      fill: #174EA6;\n",
              "    }\n",
              "\n",
              "    [theme=dark] .colab-df-convert {\n",
              "      background-color: #3B4455;\n",
              "      fill: #D2E3FC;\n",
              "    }\n",
              "\n",
              "    [theme=dark] .colab-df-convert:hover {\n",
              "      background-color: #434B5C;\n",
              "      box-shadow: 0px 1px 3px 1px rgba(0, 0, 0, 0.15);\n",
              "      filter: drop-shadow(0px 1px 2px rgba(0, 0, 0, 0.3));\n",
              "      fill: #FFFFFF;\n",
              "    }\n",
              "  </style>\n",
              "\n",
              "      <script>\n",
              "        const buttonEl =\n",
              "          document.querySelector('#df-0e97e65d-cb3d-4649-808b-13b1f86e0134 button.colab-df-convert');\n",
              "        buttonEl.style.display =\n",
              "          google.colab.kernel.accessAllowed ? 'block' : 'none';\n",
              "\n",
              "        async function convertToInteractive(key) {\n",
              "          const element = document.querySelector('#df-0e97e65d-cb3d-4649-808b-13b1f86e0134');\n",
              "          const dataTable =\n",
              "            await google.colab.kernel.invokeFunction('convertToInteractive',\n",
              "                                                     [key], {});\n",
              "          if (!dataTable) return;\n",
              "\n",
              "          const docLinkHtml = 'Like what you see? Visit the ' +\n",
              "            '<a target=\"_blank\" href=https://colab.research.google.com/notebooks/data_table.ipynb>data table notebook</a>'\n",
              "            + ' to learn more about interactive tables.';\n",
              "          element.innerHTML = '';\n",
              "          dataTable['output_type'] = 'display_data';\n",
              "          await google.colab.output.renderOutput(dataTable, element);\n",
              "          const docLink = document.createElement('div');\n",
              "          docLink.innerHTML = docLinkHtml;\n",
              "          element.appendChild(docLink);\n",
              "        }\n",
              "      </script>\n",
              "    </div>\n",
              "  </div>\n",
              "  "
            ]
          },
          "metadata": {},
          "execution_count": 7
        }
      ]
    },
    {
      "cell_type": "code",
      "metadata": {
        "id": "LEpKubK9XzXN",
        "colab": {
          "base_uri": "https://localhost:8080/"
        },
        "outputId": "1ce80277-613c-445a-bac3-504d1a31bea1"
      },
      "source": [
        "print(\"Cantidad de documentos:\", df.shape[0])"
      ],
      "execution_count": null,
      "outputs": [
        {
          "output_type": "stream",
          "name": "stdout",
          "text": [
            "Cantidad de documentos: 10000\n"
          ]
        }
      ]
    },
    {
      "cell_type": "markdown",
      "metadata": {
        "id": "ab94qaFlrA1G"
      },
      "source": [
        "### 1 - Preprocesamiento"
      ]
    },
    {
      "cell_type": "code",
      "source": [
        "# seleccionamos el título y resumen de la pelicula\n",
        "df1 = df[['title','overview']]\n",
        "\n",
        "# Unimos el título y el resumen en una sola columna.\n",
        "df2 = df1.apply(lambda x: ','.join(x.astype(str)), axis=1)\n",
        "\n",
        "# Creamos un nuevo dataframe\n",
        "df_final = pd.DataFrame({'clean': df2}) "
      ],
      "metadata": {
        "id": "V6th6LR0pBZe"
      },
      "execution_count": null,
      "outputs": []
    },
    {
      "cell_type": "code",
      "source": [
        "df_final"
      ],
      "metadata": {
        "colab": {
          "base_uri": "https://localhost:8080/",
          "height": 423
        },
        "id": "abj0G3uHpOQ2",
        "outputId": "1cb83ad0-1b18-42d9-c7fa-3067c6d652b3"
      },
      "execution_count": null,
      "outputs": [
        {
          "output_type": "execute_result",
          "data": {
            "text/plain": [
              "                                                  clean\n",
              "0     Ad Astra,The near future, a time when both hop...\n",
              "1     Bloodshot,After he and his wife are murdered, ...\n",
              "2     Bad Boys for Life,Marcus and Mike are forced t...\n",
              "3     Ant-Man,Armed with the astonishing ability to ...\n",
              "4     Percy Jackson: Sea of Monsters,In their quest ...\n",
              "...                                                 ...\n",
              "9995  Cargo,The story of CARGO takes place on rusty ...\n",
              "9996  The Good Night,Gary, a musician, is trapped in...\n",
              "9997  The World Is Yours,To escape his life of crime...\n",
              "9998  The Grand Seduction,A small fishing village mu...\n",
              "9999  Woochi: The Demon Slayer,Spanning four centuri...\n",
              "\n",
              "[10000 rows x 1 columns]"
            ],
            "text/html": [
              "\n",
              "  <div id=\"df-d4bc6bc4-03b1-4f17-a841-e9259fa55da2\">\n",
              "    <div class=\"colab-df-container\">\n",
              "      <div>\n",
              "<style scoped>\n",
              "    .dataframe tbody tr th:only-of-type {\n",
              "        vertical-align: middle;\n",
              "    }\n",
              "\n",
              "    .dataframe tbody tr th {\n",
              "        vertical-align: top;\n",
              "    }\n",
              "\n",
              "    .dataframe thead th {\n",
              "        text-align: right;\n",
              "    }\n",
              "</style>\n",
              "<table border=\"1\" class=\"dataframe\">\n",
              "  <thead>\n",
              "    <tr style=\"text-align: right;\">\n",
              "      <th></th>\n",
              "      <th>clean</th>\n",
              "    </tr>\n",
              "  </thead>\n",
              "  <tbody>\n",
              "    <tr>\n",
              "      <th>0</th>\n",
              "      <td>Ad Astra,The near future, a time when both hop...</td>\n",
              "    </tr>\n",
              "    <tr>\n",
              "      <th>1</th>\n",
              "      <td>Bloodshot,After he and his wife are murdered, ...</td>\n",
              "    </tr>\n",
              "    <tr>\n",
              "      <th>2</th>\n",
              "      <td>Bad Boys for Life,Marcus and Mike are forced t...</td>\n",
              "    </tr>\n",
              "    <tr>\n",
              "      <th>3</th>\n",
              "      <td>Ant-Man,Armed with the astonishing ability to ...</td>\n",
              "    </tr>\n",
              "    <tr>\n",
              "      <th>4</th>\n",
              "      <td>Percy Jackson: Sea of Monsters,In their quest ...</td>\n",
              "    </tr>\n",
              "    <tr>\n",
              "      <th>...</th>\n",
              "      <td>...</td>\n",
              "    </tr>\n",
              "    <tr>\n",
              "      <th>9995</th>\n",
              "      <td>Cargo,The story of CARGO takes place on rusty ...</td>\n",
              "    </tr>\n",
              "    <tr>\n",
              "      <th>9996</th>\n",
              "      <td>The Good Night,Gary, a musician, is trapped in...</td>\n",
              "    </tr>\n",
              "    <tr>\n",
              "      <th>9997</th>\n",
              "      <td>The World Is Yours,To escape his life of crime...</td>\n",
              "    </tr>\n",
              "    <tr>\n",
              "      <th>9998</th>\n",
              "      <td>The Grand Seduction,A small fishing village mu...</td>\n",
              "    </tr>\n",
              "    <tr>\n",
              "      <th>9999</th>\n",
              "      <td>Woochi: The Demon Slayer,Spanning four centuri...</td>\n",
              "    </tr>\n",
              "  </tbody>\n",
              "</table>\n",
              "<p>10000 rows × 1 columns</p>\n",
              "</div>\n",
              "      <button class=\"colab-df-convert\" onclick=\"convertToInteractive('df-d4bc6bc4-03b1-4f17-a841-e9259fa55da2')\"\n",
              "              title=\"Convert this dataframe to an interactive table.\"\n",
              "              style=\"display:none;\">\n",
              "        \n",
              "  <svg xmlns=\"http://www.w3.org/2000/svg\" height=\"24px\"viewBox=\"0 0 24 24\"\n",
              "       width=\"24px\">\n",
              "    <path d=\"M0 0h24v24H0V0z\" fill=\"none\"/>\n",
              "    <path d=\"M18.56 5.44l.94 2.06.94-2.06 2.06-.94-2.06-.94-.94-2.06-.94 2.06-2.06.94zm-11 1L8.5 8.5l.94-2.06 2.06-.94-2.06-.94L8.5 2.5l-.94 2.06-2.06.94zm10 10l.94 2.06.94-2.06 2.06-.94-2.06-.94-.94-2.06-.94 2.06-2.06.94z\"/><path d=\"M17.41 7.96l-1.37-1.37c-.4-.4-.92-.59-1.43-.59-.52 0-1.04.2-1.43.59L10.3 9.45l-7.72 7.72c-.78.78-.78 2.05 0 2.83L4 21.41c.39.39.9.59 1.41.59.51 0 1.02-.2 1.41-.59l7.78-7.78 2.81-2.81c.8-.78.8-2.07 0-2.86zM5.41 20L4 18.59l7.72-7.72 1.47 1.35L5.41 20z\"/>\n",
              "  </svg>\n",
              "      </button>\n",
              "      \n",
              "  <style>\n",
              "    .colab-df-container {\n",
              "      display:flex;\n",
              "      flex-wrap:wrap;\n",
              "      gap: 12px;\n",
              "    }\n",
              "\n",
              "    .colab-df-convert {\n",
              "      background-color: #E8F0FE;\n",
              "      border: none;\n",
              "      border-radius: 50%;\n",
              "      cursor: pointer;\n",
              "      display: none;\n",
              "      fill: #1967D2;\n",
              "      height: 32px;\n",
              "      padding: 0 0 0 0;\n",
              "      width: 32px;\n",
              "    }\n",
              "\n",
              "    .colab-df-convert:hover {\n",
              "      background-color: #E2EBFA;\n",
              "      box-shadow: 0px 1px 2px rgba(60, 64, 67, 0.3), 0px 1px 3px 1px rgba(60, 64, 67, 0.15);\n",
              "      fill: #174EA6;\n",
              "    }\n",
              "\n",
              "    [theme=dark] .colab-df-convert {\n",
              "      background-color: #3B4455;\n",
              "      fill: #D2E3FC;\n",
              "    }\n",
              "\n",
              "    [theme=dark] .colab-df-convert:hover {\n",
              "      background-color: #434B5C;\n",
              "      box-shadow: 0px 1px 3px 1px rgba(0, 0, 0, 0.15);\n",
              "      filter: drop-shadow(0px 1px 2px rgba(0, 0, 0, 0.3));\n",
              "      fill: #FFFFFF;\n",
              "    }\n",
              "  </style>\n",
              "\n",
              "      <script>\n",
              "        const buttonEl =\n",
              "          document.querySelector('#df-d4bc6bc4-03b1-4f17-a841-e9259fa55da2 button.colab-df-convert');\n",
              "        buttonEl.style.display =\n",
              "          google.colab.kernel.accessAllowed ? 'block' : 'none';\n",
              "\n",
              "        async function convertToInteractive(key) {\n",
              "          const element = document.querySelector('#df-d4bc6bc4-03b1-4f17-a841-e9259fa55da2');\n",
              "          const dataTable =\n",
              "            await google.colab.kernel.invokeFunction('convertToInteractive',\n",
              "                                                     [key], {});\n",
              "          if (!dataTable) return;\n",
              "\n",
              "          const docLinkHtml = 'Like what you see? Visit the ' +\n",
              "            '<a target=\"_blank\" href=https://colab.research.google.com/notebooks/data_table.ipynb>data table notebook</a>'\n",
              "            + ' to learn more about interactive tables.';\n",
              "          element.innerHTML = '';\n",
              "          dataTable['output_type'] = 'display_data';\n",
              "          await google.colab.output.renderOutput(dataTable, element);\n",
              "          const docLink = document.createElement('div');\n",
              "          docLink.innerHTML = docLinkHtml;\n",
              "          element.appendChild(docLink);\n",
              "        }\n",
              "      </script>\n",
              "    </div>\n",
              "  </div>\n",
              "  "
            ]
          },
          "metadata": {},
          "execution_count": 10
        }
      ]
    },
    {
      "cell_type": "code",
      "source": [
        "# Deshabilitar Named Entity \n",
        "nlp = spacy.load('en', disable=['ner', 'parser'])\n",
        "\n",
        "def cleaning(doc):\n",
        "    # Tokenización y lematización\n",
        "    txt = [token.lemma_ for token in doc if not token.is_stop]\n",
        "\n",
        "    if len(txt) > 2:\n",
        "        return ' '.join(txt)"
      ],
      "metadata": {
        "id": "pXKjkFDf_o-I"
      },
      "execution_count": null,
      "outputs": []
    },
    {
      "cell_type": "code",
      "source": [
        "#elimino caracteres no alfabeticos:\n",
        "iterador = (re.sub(\"[^A-Za-z']+\", ' ', str(row)).lower() for row in df_final['clean'])"
      ],
      "metadata": {
        "id": "OXyKauZeALBg"
      },
      "execution_count": null,
      "outputs": []
    },
    {
      "cell_type": "code",
      "source": [
        "#Creo un pipeline para limpiar los documentos\n",
        "txt = [cleaning(doc) for doc in nlp.pipe(iterador, batch_size=5000, n_threads=-1)]"
      ],
      "metadata": {
        "id": "rhMIuDloBE1B"
      },
      "execution_count": null,
      "outputs": []
    },
    {
      "cell_type": "code",
      "source": [
        "df_clean = pd.DataFrame({'frase': txt})\n",
        "df_clean = df_clean.dropna().drop_duplicates()\n",
        "df_clean"
      ],
      "metadata": {
        "colab": {
          "base_uri": "https://localhost:8080/",
          "height": 423
        },
        "id": "USBAT1DdCuGi",
        "outputId": "69655124-fb76-464d-ad47-8df82b92795f"
      },
      "execution_count": null,
      "outputs": [
        {
          "output_type": "execute_result",
          "data": {
            "text/plain": [
              "                                                  frase\n",
              "0     ad astra near future time hope hardship drive ...\n",
              "1     bloodshot wife murder marine ray garrison resu...\n",
              "2     bad boy life marcus mike force confront new th...\n",
              "3     ant man arm astonishing ability shrink scale i...\n",
              "4     percy jackson sea monster quest confront ultim...\n",
              "...                                                 ...\n",
              "9995  cargo story cargo take place rusty space freig...\n",
              "9996  good night gary musician trap unhappy relation...\n",
              "9997  world escape life crime paris drug dealer take...\n",
              "9998  grand seduction small fishing village procure ...\n",
              "9999  woochi demon slayer span century korea epic ac...\n",
              "\n",
              "[9992 rows x 1 columns]"
            ],
            "text/html": [
              "\n",
              "  <div id=\"df-81955e10-78fd-468f-a0bd-1a3a7f9ae288\">\n",
              "    <div class=\"colab-df-container\">\n",
              "      <div>\n",
              "<style scoped>\n",
              "    .dataframe tbody tr th:only-of-type {\n",
              "        vertical-align: middle;\n",
              "    }\n",
              "\n",
              "    .dataframe tbody tr th {\n",
              "        vertical-align: top;\n",
              "    }\n",
              "\n",
              "    .dataframe thead th {\n",
              "        text-align: right;\n",
              "    }\n",
              "</style>\n",
              "<table border=\"1\" class=\"dataframe\">\n",
              "  <thead>\n",
              "    <tr style=\"text-align: right;\">\n",
              "      <th></th>\n",
              "      <th>frase</th>\n",
              "    </tr>\n",
              "  </thead>\n",
              "  <tbody>\n",
              "    <tr>\n",
              "      <th>0</th>\n",
              "      <td>ad astra near future time hope hardship drive ...</td>\n",
              "    </tr>\n",
              "    <tr>\n",
              "      <th>1</th>\n",
              "      <td>bloodshot wife murder marine ray garrison resu...</td>\n",
              "    </tr>\n",
              "    <tr>\n",
              "      <th>2</th>\n",
              "      <td>bad boy life marcus mike force confront new th...</td>\n",
              "    </tr>\n",
              "    <tr>\n",
              "      <th>3</th>\n",
              "      <td>ant man arm astonishing ability shrink scale i...</td>\n",
              "    </tr>\n",
              "    <tr>\n",
              "      <th>4</th>\n",
              "      <td>percy jackson sea monster quest confront ultim...</td>\n",
              "    </tr>\n",
              "    <tr>\n",
              "      <th>...</th>\n",
              "      <td>...</td>\n",
              "    </tr>\n",
              "    <tr>\n",
              "      <th>9995</th>\n",
              "      <td>cargo story cargo take place rusty space freig...</td>\n",
              "    </tr>\n",
              "    <tr>\n",
              "      <th>9996</th>\n",
              "      <td>good night gary musician trap unhappy relation...</td>\n",
              "    </tr>\n",
              "    <tr>\n",
              "      <th>9997</th>\n",
              "      <td>world escape life crime paris drug dealer take...</td>\n",
              "    </tr>\n",
              "    <tr>\n",
              "      <th>9998</th>\n",
              "      <td>grand seduction small fishing village procure ...</td>\n",
              "    </tr>\n",
              "    <tr>\n",
              "      <th>9999</th>\n",
              "      <td>woochi demon slayer span century korea epic ac...</td>\n",
              "    </tr>\n",
              "  </tbody>\n",
              "</table>\n",
              "<p>9992 rows × 1 columns</p>\n",
              "</div>\n",
              "      <button class=\"colab-df-convert\" onclick=\"convertToInteractive('df-81955e10-78fd-468f-a0bd-1a3a7f9ae288')\"\n",
              "              title=\"Convert this dataframe to an interactive table.\"\n",
              "              style=\"display:none;\">\n",
              "        \n",
              "  <svg xmlns=\"http://www.w3.org/2000/svg\" height=\"24px\"viewBox=\"0 0 24 24\"\n",
              "       width=\"24px\">\n",
              "    <path d=\"M0 0h24v24H0V0z\" fill=\"none\"/>\n",
              "    <path d=\"M18.56 5.44l.94 2.06.94-2.06 2.06-.94-2.06-.94-.94-2.06-.94 2.06-2.06.94zm-11 1L8.5 8.5l.94-2.06 2.06-.94-2.06-.94L8.5 2.5l-.94 2.06-2.06.94zm10 10l.94 2.06.94-2.06 2.06-.94-2.06-.94-.94-2.06-.94 2.06-2.06.94z\"/><path d=\"M17.41 7.96l-1.37-1.37c-.4-.4-.92-.59-1.43-.59-.52 0-1.04.2-1.43.59L10.3 9.45l-7.72 7.72c-.78.78-.78 2.05 0 2.83L4 21.41c.39.39.9.59 1.41.59.51 0 1.02-.2 1.41-.59l7.78-7.78 2.81-2.81c.8-.78.8-2.07 0-2.86zM5.41 20L4 18.59l7.72-7.72 1.47 1.35L5.41 20z\"/>\n",
              "  </svg>\n",
              "      </button>\n",
              "      \n",
              "  <style>\n",
              "    .colab-df-container {\n",
              "      display:flex;\n",
              "      flex-wrap:wrap;\n",
              "      gap: 12px;\n",
              "    }\n",
              "\n",
              "    .colab-df-convert {\n",
              "      background-color: #E8F0FE;\n",
              "      border: none;\n",
              "      border-radius: 50%;\n",
              "      cursor: pointer;\n",
              "      display: none;\n",
              "      fill: #1967D2;\n",
              "      height: 32px;\n",
              "      padding: 0 0 0 0;\n",
              "      width: 32px;\n",
              "    }\n",
              "\n",
              "    .colab-df-convert:hover {\n",
              "      background-color: #E2EBFA;\n",
              "      box-shadow: 0px 1px 2px rgba(60, 64, 67, 0.3), 0px 1px 3px 1px rgba(60, 64, 67, 0.15);\n",
              "      fill: #174EA6;\n",
              "    }\n",
              "\n",
              "    [theme=dark] .colab-df-convert {\n",
              "      background-color: #3B4455;\n",
              "      fill: #D2E3FC;\n",
              "    }\n",
              "\n",
              "    [theme=dark] .colab-df-convert:hover {\n",
              "      background-color: #434B5C;\n",
              "      box-shadow: 0px 1px 3px 1px rgba(0, 0, 0, 0.15);\n",
              "      filter: drop-shadow(0px 1px 2px rgba(0, 0, 0, 0.3));\n",
              "      fill: #FFFFFF;\n",
              "    }\n",
              "  </style>\n",
              "\n",
              "      <script>\n",
              "        const buttonEl =\n",
              "          document.querySelector('#df-81955e10-78fd-468f-a0bd-1a3a7f9ae288 button.colab-df-convert');\n",
              "        buttonEl.style.display =\n",
              "          google.colab.kernel.accessAllowed ? 'block' : 'none';\n",
              "\n",
              "        async function convertToInteractive(key) {\n",
              "          const element = document.querySelector('#df-81955e10-78fd-468f-a0bd-1a3a7f9ae288');\n",
              "          const dataTable =\n",
              "            await google.colab.kernel.invokeFunction('convertToInteractive',\n",
              "                                                     [key], {});\n",
              "          if (!dataTable) return;\n",
              "\n",
              "          const docLinkHtml = 'Like what you see? Visit the ' +\n",
              "            '<a target=\"_blank\" href=https://colab.research.google.com/notebooks/data_table.ipynb>data table notebook</a>'\n",
              "            + ' to learn more about interactive tables.';\n",
              "          element.innerHTML = '';\n",
              "          dataTable['output_type'] = 'display_data';\n",
              "          await google.colab.output.renderOutput(dataTable, element);\n",
              "          const docLink = document.createElement('div');\n",
              "          docLink.innerHTML = docLinkHtml;\n",
              "          element.appendChild(docLink);\n",
              "        }\n",
              "      </script>\n",
              "    </div>\n",
              "  </div>\n",
              "  "
            ]
          },
          "metadata": {},
          "execution_count": 14
        }
      ]
    },
    {
      "cell_type": "code",
      "source": [
        "# Separo los tokens\n",
        "corpus = df_clean.frase.apply(lambda x: x.split()).values\n",
        "corpus"
      ],
      "metadata": {
        "colab": {
          "base_uri": "https://localhost:8080/"
        },
        "id": "Xl8UeCW8FmPW",
        "outputId": "c7a458ec-9a1a-48cd-c10c-df64ee5f05b9"
      },
      "execution_count": null,
      "outputs": [
        {
          "output_type": "execute_result",
          "data": {
            "text/plain": [
              "array([list(['ad', 'astra', 'near', 'future', 'time', 'hope', 'hardship', 'drive', 'humanity', 'look', 'star', 'mysterious', 'phenomenon', 'menace', 'destroy', 'life', 'planet', 'earth', 'astronaut', 'roy', 'mcbride', 'undertake', 'mission', 'immensity', 'space', 'peril', 'uncover', 'truth', 'lost', 'expedition', 'decade', 'boldly', 'face', 'emptiness', 'silence', 'search', 'unknown']),\n",
              "       list(['bloodshot', 'wife', 'murder', 'marine', 'ray', 'garrison', 'resurrect', 'team', 'scientist', 'enhance', 'nanotechnology', 'superhuman', 'biotech', 'kill', 'machine', \"'\", 'bloodshot', \"'\", 'ray', 'train', 'fellow', 'super', 'soldier', 'recall', 'life', 'memory', 'flood', 'remember', 'man', 'kill', 'wife', 'break', 'facility', 'revenge', 'discover', 'conspiracy', 'think']),\n",
              "       list(['bad', 'boy', 'life', 'marcus', 'mike', 'force', 'confront', 'new', 'threat', 'career', 'change', 'midlife', 'crisis', 'join', 'newly', 'create', 'elite', 'team', 'ammo', 'miami', 'police', 'department', 'ruthless', 'armando', 'armas', 'vicious', 'leader', 'miami', 'drug', 'cartel']),\n",
              "       ...,\n",
              "       list(['world', 'escape', 'life', 'crime', 'paris', 'drug', 'dealer', 'take', 'job', 'involve', 'spain', 'unhinge', 'gangster', 'longtime', 'crush', 'scheme', 'mother']),\n",
              "       list(['grand', 'seduction', 'small', 'fishing', 'village', 'procure', 'local', 'doctor', 'secure', 'lucrative', 'business', 'contract', 'unlikely', 'candidate', 'big', 'city', 'doctor', 'paul', 'lewis', 'land', 'lap', 'trial', 'residence', 'townsfolk', 'rally', 'charm', 'stay', 'doctor', 's', 'time', 'village', 'wind', 'close', 'act', 'mayor', 'murray', 'french', 'choice', 'pull', 'stop', 'begin', 'grand', 'seduction']),\n",
              "       list(['woochi', 'demon', 'slayer', 'span', 'century', 'korea', 'epic', 'action', 'adventure', 'concern', 'powerful', 'pipe', 'trio', 'wizard', 'protect'])],\n",
              "      dtype=object)"
            ]
          },
          "metadata": {},
          "execution_count": 15
        }
      ]
    },
    {
      "cell_type": "markdown",
      "metadata": {
        "id": "BaXV6nlHr5Aa"
      },
      "source": [
        "### 2 - Crear los vectores (word2vec)"
      ]
    },
    {
      "cell_type": "code",
      "source": [
        "from gensim.models.phrases import Phrases, Phraser"
      ],
      "metadata": {
        "id": "w9MW1bg1Ghw_"
      },
      "execution_count": null,
      "outputs": []
    },
    {
      "cell_type": "code",
      "source": [
        "# El modulo Phrases permite detectar frases \n",
        "phrases = Phrases(corpus, min_count=30, progress_per=10000)"
      ],
      "metadata": {
        "id": "c5y3iWYUGoJ0"
      },
      "execution_count": null,
      "outputs": []
    },
    {
      "cell_type": "code",
      "source": [
        "sentences = phrases[corpus]"
      ],
      "metadata": {
        "colab": {
          "base_uri": "https://localhost:8080/"
        },
        "id": "mDQA8kWNH20k",
        "outputId": "3d72c588-b6fb-4072-9fc3-0f146bfe7689"
      },
      "execution_count": null,
      "outputs": [
        {
          "output_type": "stream",
          "name": "stderr",
          "text": [
            "/usr/local/lib/python3.7/dist-packages/gensim/models/phrases.py:598: UserWarning: For a faster implementation, use the gensim.models.phrases.Phraser class\n",
            "  warnings.warn(\"For a faster implementation, use the gensim.models.phrases.Phraser class\")\n"
          ]
        }
      ]
    },
    {
      "cell_type": "code",
      "metadata": {
        "id": "OSb0v7h8r7hK"
      },
      "source": [
        "from gensim.models.callbacks import CallbackAny2Vec\n",
        "# Durante el entrenamiento gensim por defecto no informa el \"loss\" en cada época\n",
        "# Sobracargamos el callback para poder tener esta información\n",
        "class callback(CallbackAny2Vec):\n",
        "    \"\"\"\n",
        "    Callback to print loss after each epoch\n",
        "    \"\"\"\n",
        "    def __init__(self):\n",
        "        self.epoch = 0\n",
        "\n",
        "    def on_epoch_end(self, model):\n",
        "        loss = model.get_latest_training_loss()\n",
        "        if self.epoch == 0:\n",
        "            print('Loss after epoch {}: {}'.format(self.epoch, loss))\n",
        "        else:\n",
        "            print('Loss after epoch {}: {}'.format(self.epoch, loss- self.loss_previous_step))\n",
        "        self.epoch += 1\n",
        "        self.loss_previous_step = loss"
      ],
      "execution_count": null,
      "outputs": []
    },
    {
      "cell_type": "code",
      "source": [
        "#Verifico el número de cores de colab\n",
        "multiprocessing.cpu_count()"
      ],
      "metadata": {
        "colab": {
          "base_uri": "https://localhost:8080/"
        },
        "id": "BKRWBudFWLoC",
        "outputId": "eb75f2f2-64d7-4389-ecac-4b12ce4df878"
      },
      "execution_count": null,
      "outputs": [
        {
          "output_type": "execute_result",
          "data": {
            "text/plain": [
              "2"
            ]
          },
          "metadata": {},
          "execution_count": 34
        }
      ]
    },
    {
      "cell_type": "code",
      "metadata": {
        "id": "i0wnDdv9sJ47"
      },
      "source": [
        "# Crearmos el modelo generador de vectoeres\n",
        "# En este caso utilizaremos la estructura modelo Skipgram\n",
        "w2v_model = Word2Vec(min_count=10,     # frecuencia mínima de palabra para incluirla en el vocabulario\n",
        "                     window=8,         # cant de palabras antes y desp de la predicha\n",
        "                     size=300,         # dimensionalidad de los vectores \n",
        "                     negative=20,      # cantidad de negative samples... 0 es no se usa\n",
        "                     workers=2,       # si tienen más cores pueden cambiar este valor\n",
        "                     sg=1  )           # modelo 0:CBOW  1:skipgram"
      ],
      "execution_count": null,
      "outputs": []
    },
    {
      "cell_type": "code",
      "metadata": {
        "id": "5lTt8wErsf17",
        "colab": {
          "base_uri": "https://localhost:8080/"
        },
        "outputId": "2749c7d3-108e-4679-a0bd-7eb7a1321575"
      },
      "source": [
        "# Buildear el vocabularui con los tokens\n",
        "w2v_model.build_vocab(sentences)"
      ],
      "execution_count": null,
      "outputs": [
        {
          "output_type": "stream",
          "name": "stderr",
          "text": [
            "/usr/local/lib/python3.7/dist-packages/gensim/models/phrases.py:598: UserWarning: For a faster implementation, use the gensim.models.phrases.Phraser class\n",
            "  warnings.warn(\"For a faster implementation, use the gensim.models.phrases.Phraser class\")\n"
          ]
        }
      ]
    },
    {
      "cell_type": "code",
      "metadata": {
        "id": "TNc9qt4os5AT",
        "colab": {
          "base_uri": "https://localhost:8080/"
        },
        "outputId": "14b51812-0175-4ff4-d6d0-7eeff64c4d54"
      },
      "source": [
        "# Cantidad de filas/docs encontradas en el corpus\n",
        "print(\"Cantidad de docs en el corpus:\", w2v_model.corpus_count)"
      ],
      "execution_count": null,
      "outputs": [
        {
          "output_type": "stream",
          "name": "stdout",
          "text": [
            "Cantidad de docs en el corpus: 9992\n"
          ]
        }
      ]
    },
    {
      "cell_type": "code",
      "metadata": {
        "id": "idw9cHF3tSMl",
        "colab": {
          "base_uri": "https://localhost:8080/"
        },
        "outputId": "42ff5a0d-4e10-4622-ddba-da4f417c5ca4"
      },
      "source": [
        "# Cantidad de words encontradas en el corpus\n",
        "print(\"Cantidad de words distintas en el corpus:\", len(w2v_model.wv.vocab))"
      ],
      "execution_count": null,
      "outputs": [
        {
          "output_type": "stream",
          "name": "stdout",
          "text": [
            "Cantidad de words distintas en el corpus: 4355\n"
          ]
        }
      ]
    },
    {
      "cell_type": "markdown",
      "metadata": {
        "id": "fC9mZ8DPk-UC"
      },
      "source": [
        "### 3 - Entrenar el modelo generador"
      ]
    },
    {
      "cell_type": "code",
      "metadata": {
        "id": "QSp-x0PAsq56",
        "colab": {
          "base_uri": "https://localhost:8080/"
        },
        "outputId": "d8bb7607-28da-49f9-faad-2bd0110e22f6"
      },
      "source": [
        "# Entrenamos el modelo generador de vectores\n",
        "# Utilizamos nuestro callback\n",
        "w2v_model.train(sentences,\n",
        "                 total_examples=w2v_model.corpus_count,\n",
        "                 epochs=100,\n",
        "                 compute_loss = True,\n",
        "                 callbacks=[callback()]\n",
        "                 )"
      ],
      "execution_count": null,
      "outputs": [
        {
          "output_type": "stream",
          "name": "stderr",
          "text": [
            "/usr/local/lib/python3.7/dist-packages/gensim/models/phrases.py:598: UserWarning: For a faster implementation, use the gensim.models.phrases.Phraser class\n",
            "  warnings.warn(\"For a faster implementation, use the gensim.models.phrases.Phraser class\")\n"
          ]
        },
        {
          "output_type": "stream",
          "name": "stdout",
          "text": [
            "Loss after epoch 0: 3256977.25\n",
            "Loss after epoch 1: 2514079.75\n",
            "Loss after epoch 2: 2427739.5\n",
            "Loss after epoch 3: 2289603.5\n",
            "Loss after epoch 4: 2315224.0\n",
            "Loss after epoch 5: 2240345.0\n",
            "Loss after epoch 6: 2206877.0\n",
            "Loss after epoch 7: 2200050.0\n",
            "Loss after epoch 8: 2174940.0\n",
            "Loss after epoch 9: 2144230.0\n",
            "Loss after epoch 10: 2119562.0\n",
            "Loss after epoch 11: 2055614.0\n",
            "Loss after epoch 12: 2078168.0\n",
            "Loss after epoch 13: 2059218.0\n",
            "Loss after epoch 14: 2080956.0\n",
            "Loss after epoch 15: 2131164.0\n",
            "Loss after epoch 16: 2211400.0\n",
            "Loss after epoch 17: 2093340.0\n",
            "Loss after epoch 18: 2073832.0\n",
            "Loss after epoch 19: 2072068.0\n",
            "Loss after epoch 20: 2007616.0\n",
            "Loss after epoch 21: 2040344.0\n",
            "Loss after epoch 22: 2046452.0\n",
            "Loss after epoch 23: 2032580.0\n",
            "Loss after epoch 24: 1977612.0\n",
            "Loss after epoch 25: 1973876.0\n",
            "Loss after epoch 26: 1974248.0\n",
            "Loss after epoch 27: 2010376.0\n",
            "Loss after epoch 28: 1961636.0\n",
            "Loss after epoch 29: 2014232.0\n",
            "Loss after epoch 30: 2001412.0\n",
            "Loss after epoch 31: 665452.0\n",
            "Loss after epoch 32: 403208.0\n",
            "Loss after epoch 33: 405408.0\n",
            "Loss after epoch 34: 389936.0\n",
            "Loss after epoch 35: 389056.0\n",
            "Loss after epoch 36: 382504.0\n",
            "Loss after epoch 37: 387736.0\n",
            "Loss after epoch 38: 387264.0\n",
            "Loss after epoch 39: 384312.0\n",
            "Loss after epoch 40: 370224.0\n",
            "Loss after epoch 41: 368512.0\n",
            "Loss after epoch 42: 363184.0\n",
            "Loss after epoch 43: 370592.0\n",
            "Loss after epoch 44: 366232.0\n",
            "Loss after epoch 45: 357152.0\n",
            "Loss after epoch 46: 361768.0\n",
            "Loss after epoch 47: 355056.0\n",
            "Loss after epoch 48: 348056.0\n",
            "Loss after epoch 49: 352856.0\n",
            "Loss after epoch 50: 349216.0\n",
            "Loss after epoch 51: 346280.0\n",
            "Loss after epoch 52: 357800.0\n",
            "Loss after epoch 53: 341208.0\n",
            "Loss after epoch 54: 334896.0\n",
            "Loss after epoch 55: 331584.0\n",
            "Loss after epoch 56: 322584.0\n",
            "Loss after epoch 57: 320968.0\n",
            "Loss after epoch 58: 325056.0\n",
            "Loss after epoch 59: 322880.0\n",
            "Loss after epoch 60: 318360.0\n",
            "Loss after epoch 61: 314216.0\n",
            "Loss after epoch 62: 310760.0\n",
            "Loss after epoch 63: 309800.0\n",
            "Loss after epoch 64: 306888.0\n",
            "Loss after epoch 65: 305760.0\n",
            "Loss after epoch 66: 301168.0\n",
            "Loss after epoch 67: 301872.0\n",
            "Loss after epoch 68: 290120.0\n",
            "Loss after epoch 69: 293152.0\n",
            "Loss after epoch 70: 288712.0\n",
            "Loss after epoch 71: 288496.0\n",
            "Loss after epoch 72: 280112.0\n",
            "Loss after epoch 73: 284392.0\n",
            "Loss after epoch 74: 279752.0\n",
            "Loss after epoch 75: 270352.0\n",
            "Loss after epoch 76: 271240.0\n",
            "Loss after epoch 77: 273488.0\n",
            "Loss after epoch 78: 268520.0\n",
            "Loss after epoch 79: 267456.0\n",
            "Loss after epoch 80: 268072.0\n",
            "Loss after epoch 81: 257528.0\n",
            "Loss after epoch 82: 260504.0\n",
            "Loss after epoch 83: 276312.0\n",
            "Loss after epoch 84: 257424.0\n",
            "Loss after epoch 85: 255432.0\n",
            "Loss after epoch 86: 253560.0\n",
            "Loss after epoch 87: 244304.0\n",
            "Loss after epoch 88: 245840.0\n",
            "Loss after epoch 89: 240496.0\n",
            "Loss after epoch 90: 237608.0\n",
            "Loss after epoch 91: 242720.0\n",
            "Loss after epoch 92: 254096.0\n",
            "Loss after epoch 93: 235656.0\n",
            "Loss after epoch 94: 235400.0\n",
            "Loss after epoch 95: 232040.0\n",
            "Loss after epoch 96: 229176.0\n",
            "Loss after epoch 97: 231064.0\n",
            "Loss after epoch 98: 227888.0\n",
            "Loss after epoch 99: 225272.0\n"
          ]
        },
        {
          "output_type": "execute_result",
          "data": {
            "text/plain": [
              "(22049444, 27517600)"
            ]
          },
          "metadata": {},
          "execution_count": 39
        }
      ]
    },
    {
      "cell_type": "code",
      "source": [
        "w2v_model.wv.save_word2vec_format(\"word2vec.model\")"
      ],
      "metadata": {
        "id": "keHATGc_YgI2"
      },
      "execution_count": null,
      "outputs": []
    },
    {
      "cell_type": "code",
      "source": [
        "!python3 -m gensim.scripts.word2vec2tensor -i word2vec.model -o /my_model"
      ],
      "metadata": {
        "colab": {
          "base_uri": "https://localhost:8080/"
        },
        "id": "KQrV11JdaLje",
        "outputId": "f95aabae-4bdc-4525-bcfc-a27528499ba1"
      },
      "execution_count": null,
      "outputs": [
        {
          "output_type": "stream",
          "name": "stdout",
          "text": [
            "2022-04-06 01:11:32,548 - word2vec2tensor - INFO - running /usr/local/lib/python3.7/dist-packages/gensim/scripts/word2vec2tensor.py -i word2vec.model -o /my_model\n",
            "2022-04-06 01:11:32,549 - utils_any2vec - INFO - loading projection weights from word2vec.model\n",
            "2022-04-06 01:11:34,242 - utils_any2vec - INFO - loaded (4355, 300) matrix from word2vec.model\n",
            "2022-04-06 01:11:35,202 - word2vec2tensor - INFO - 2D tensor file saved to /my_model_tensor.tsv\n",
            "2022-04-06 01:11:35,203 - word2vec2tensor - INFO - Tensor metadata file saved to /my_model_metadata.tsv\n",
            "2022-04-06 01:11:35,203 - word2vec2tensor - INFO - finished running word2vec2tensor.py\n"
          ]
        }
      ]
    },
    {
      "cell_type": "code",
      "source": [
        "!ls my_model"
      ],
      "metadata": {
        "colab": {
          "base_uri": "https://localhost:8080/"
        },
        "id": "43f4t-8ZdLVn",
        "outputId": "fb6f417a-0d82-4ee9-899b-1ef2b95c10e1"
      },
      "execution_count": null,
      "outputs": [
        {
          "output_type": "stream",
          "name": "stdout",
          "text": [
            "my_model_metadata.tsv  my_model_tensor.tsv\n"
          ]
        }
      ]
    },
    {
      "cell_type": "code",
      "source": [
        "!cd my_model/"
      ],
      "metadata": {
        "id": "oa-_gBoodQeP"
      },
      "execution_count": null,
      "outputs": []
    },
    {
      "cell_type": "code",
      "source": [
        "!ls"
      ],
      "metadata": {
        "colab": {
          "base_uri": "https://localhost:8080/"
        },
        "id": "ErNHKAWkp5b3",
        "outputId": "94ccadf7-efe3-4d1a-b356-c9fa9d92ecc1"
      },
      "execution_count": null,
      "outputs": [
        {
          "output_type": "stream",
          "name": "stdout",
          "text": [
            " desafio_2ipynb.ipynb\t\t\t        TMDb_updated.CSV\n",
            "'Desafio_3_Custom embedding con Gensim.ipynb'   word2vec.ipynb\n",
            " my_model\t\t\t\t        word2vec.model\n"
          ]
        }
      ]
    },
    {
      "cell_type": "markdown",
      "metadata": {
        "id": "ddT9NVuNlCAe"
      },
      "source": [
        "### 4 - Ensayar"
      ]
    },
    {
      "cell_type": "code",
      "metadata": {
        "id": "6cHN9xGLuPEm",
        "colab": {
          "base_uri": "https://localhost:8080/"
        },
        "outputId": "bfe32425-395b-44b6-cd21-910ebe98b5d1"
      },
      "source": [
        "# Palabras que MÁS se relacionan con...:\n",
        "w2v_model.wv.most_similar(positive=[\"police\"], topn=10)"
      ],
      "execution_count": null,
      "outputs": [
        {
          "output_type": "execute_result",
          "data": {
            "text/plain": [
              "[('detective', 0.3753027319908142),\n",
              " ('department', 0.33261585235595703),\n",
              " ('cop', 0.3245007395744324),\n",
              " ('police_officer', 0.2976311445236206),\n",
              " ('homicide', 0.29239848256111145),\n",
              " ('robbery', 0.2861417531967163),\n",
              " ('inspector', 0.2732832431793213),\n",
              " ('rookie', 0.2691398859024048),\n",
              " ('killer', 0.2626540958881378),\n",
              " ('foul', 0.2598835229873657)]"
            ]
          },
          "metadata": {},
          "execution_count": 69
        }
      ]
    },
    {
      "cell_type": "markdown",
      "source": [
        "### Se puede ver que la palabra police se encuentra muy relacionadas a palabras que hacen referencia al ambito policial, por ejemplo, department o detective. "
      ],
      "metadata": {
        "id": "zWGMeKs5w6CQ"
      }
    },
    {
      "cell_type": "code",
      "source": [
        "# Palabras que MÁS se relacionan con...:\n",
        "w2v_model.wv.most_similar(positive=[\"crime\"], topn=10)"
      ],
      "metadata": {
        "colab": {
          "base_uri": "https://localhost:8080/"
        },
        "id": "7-OYAvhxcg1U",
        "outputId": "8d26fcb9-084d-4f73-9441-39317c8dab6b"
      },
      "execution_count": null,
      "outputs": [
        {
          "output_type": "execute_result",
          "data": {
            "text/plain": [
              "[('murder', 0.36579328775405884),\n",
              " ('commit', 0.36166104674339294),\n",
              " ('syndicate', 0.32888126373291016),\n",
              " ('cop', 0.31186699867248535),\n",
              " ('frame', 0.30485498905181885),\n",
              " ('gotham', 0.2971848249435425),\n",
              " ('criminal', 0.2860395908355713),\n",
              " ('boss', 0.276999831199646),\n",
              " ('heist', 0.2709220349788666),\n",
              " ('batman', 0.2661207318305969)]"
            ]
          },
          "metadata": {},
          "execution_count": 70
        }
      ]
    },
    {
      "cell_type": "markdown",
      "source": [
        "### Se observa que la palabra crime esta muy relacionada con murder lo cual tiene sentido, se observa que existe una relación con la palabra Gotham la cual hace referencia a una serie de televisión basada en los personajes de Batman."
      ],
      "metadata": {
        "id": "nMrLbBz_xxnY"
      }
    },
    {
      "cell_type": "code",
      "source": [
        "# Palabras que MÁS se relacionan con...:\n",
        "w2v_model.wv.most_similar(positive=[\"gotham\"], topn=10)"
      ],
      "metadata": {
        "colab": {
          "base_uri": "https://localhost:8080/"
        },
        "id": "SSK7OY7zySf4",
        "outputId": "678222da-063b-4051-ee2d-e4b2d20c5f85"
      },
      "execution_count": null,
      "outputs": [
        {
          "output_type": "execute_result",
          "data": {
            "text/plain": [
              "[('batman', 0.6556724309921265),\n",
              " ('joker', 0.49717873334884644),\n",
              " ('city', 0.34742623567581177),\n",
              " ('superman', 0.326465904712677),\n",
              " ('vigilante', 0.31686848402023315),\n",
              " ('wayne', 0.306171178817749),\n",
              " ('penguin', 0.29732394218444824),\n",
              " ('crime', 0.2971847653388977),\n",
              " ('knight', 0.2820934057235718),\n",
              " ('bruce', 0.2772892117500305)]"
            ]
          },
          "metadata": {},
          "execution_count": 86
        }
      ]
    },
    {
      "cell_type": "markdown",
      "source": [
        "### Se observa que la palabra \"gotham\" esta muy relacionada con varios de los personajes de Batman lo cual tiene sentido. "
      ],
      "metadata": {
        "id": "esXC2Ihbylpx"
      }
    },
    {
      "cell_type": "code",
      "source": [
        "# Palabras que MÁS se relacionan con...:\n",
        "w2v_model.wv.most_similar(positive=[\"batman\"], topn=10)"
      ],
      "metadata": {
        "colab": {
          "base_uri": "https://localhost:8080/"
        },
        "id": "-44GmBgLciqA",
        "outputId": "beee7394-6f21-4f2c-aed3-fcdf40f31167"
      },
      "execution_count": null,
      "outputs": [
        {
          "output_type": "execute_result",
          "data": {
            "text/plain": [
              "[('gotham', 0.6556724309921265),\n",
              " ('joker', 0.4767673909664154),\n",
              " ('superman', 0.46002453565597534),\n",
              " ('robin', 0.37576743960380554),\n",
              " ('lego', 0.3550025522708893),\n",
              " ('wayne', 0.3524987995624542),\n",
              " ('lantern', 0.3328215479850769),\n",
              " ('masked', 0.3229440450668335),\n",
              " ('counterpart', 0.3016071319580078),\n",
              " ('knight', 0.3014240264892578)]"
            ]
          },
          "metadata": {},
          "execution_count": 74
        }
      ]
    },
    {
      "cell_type": "markdown",
      "source": [
        "### Se observa que la palabra \"batman\" se encuentra muy relacionada con diferentes personajes de la pelicula así como otros super heroes como superman."
      ],
      "metadata": {
        "id": "Rgh_7EFUy-0Q"
      }
    },
    {
      "cell_type": "code",
      "source": [
        "w2v_model.wv.most_similar(positive=[\"superhero\"], topn=10)"
      ],
      "metadata": {
        "colab": {
          "base_uri": "https://localhost:8080/"
        },
        "id": "-DzNjxHEfzbs",
        "outputId": "fdb44257-b9a7-4d6c-f992-e37cf0283327"
      },
      "execution_count": null,
      "outputs": [
        {
          "output_type": "execute_result",
          "data": {
            "text/plain": [
              "[('superpower', 0.3013066053390503),\n",
              " ('titan', 0.30071550607681274),\n",
              " ('superman', 0.28203892707824707),\n",
              " ('batman', 0.2797221839427948),\n",
              " ('crimson', 0.27679550647735596),\n",
              " ('invitation', 0.26957833766937256),\n",
              " ('blade', 0.26519566774368286),\n",
              " ('genetically', 0.26397833228111267),\n",
              " ('futuristic', 0.26139533519744873),\n",
              " ('spider', 0.2568950653076172)]"
            ]
          },
          "metadata": {},
          "execution_count": 76
        }
      ]
    },
    {
      "cell_type": "code",
      "source": [
        "w2v_model.wv.most_similar(positive=[\"spider\"], topn=10)"
      ],
      "metadata": {
        "colab": {
          "base_uri": "https://localhost:8080/"
        },
        "id": "cq3qVvZ_f5cE",
        "outputId": "540aefe7-8df6-4cab-c147-a6c9a16cb893"
      },
      "execution_count": null,
      "outputs": [
        {
          "output_type": "execute_result",
          "data": {
            "text/plain": [
              "[('parker', 0.39420950412750244),\n",
              " ('graduation', 0.2892509400844574),\n",
              " ('shape', 0.28842002153396606),\n",
              " ('peter', 0.26810330152511597),\n",
              " ('genetically', 0.2678210139274597),\n",
              " ('july', 0.26629865169525146),\n",
              " ('mutate', 0.26561713218688965),\n",
              " ('ego', 0.2629801034927368),\n",
              " ('superhero', 0.2568950653076172),\n",
              " ('stockholm', 0.2546631395816803)]"
            ]
          },
          "metadata": {},
          "execution_count": 78
        }
      ]
    },
    {
      "cell_type": "code",
      "metadata": {
        "id": "XPLDPgzBmQXt",
        "colab": {
          "base_uri": "https://localhost:8080/"
        },
        "outputId": "6ed1d9b5-674b-4e09-c861-5ce9c2eaab72"
      },
      "source": [
        "# Palabras que MÁS se relacionan con...:\n",
        "w2v_model.wv.most_similar(positive=[\"money\"], topn=10)"
      ],
      "execution_count": null,
      "outputs": [
        {
          "output_type": "execute_result",
          "data": {
            "text/plain": [
              "[('million', 0.3378453254699707),\n",
              " ('cash', 0.29531335830688477),\n",
              " ('stash', 0.2948591709136963),\n",
              " ('job', 0.29136571288108826),\n",
              " ('earn', 0.2854808568954468),\n",
              " ('prostitute', 0.2797958254814148),\n",
              " ('decide', 0.2781282365322113),\n",
              " ('casino', 0.2642675042152405),\n",
              " ('crook', 0.2629411816596985),\n",
              " ('drug_lord', 0.2618781328201294)]"
            ]
          },
          "metadata": {},
          "execution_count": 82
        }
      ]
    },
    {
      "cell_type": "code",
      "source": [
        "# Comparamos tres palabras para ver cual no se corresponde\n",
        "w2v_model.wv.doesnt_match(['drug', 'police', 'love'])"
      ],
      "metadata": {
        "colab": {
          "base_uri": "https://localhost:8080/",
          "height": 124
        },
        "id": "jLjO8TgFvbiv",
        "outputId": "6a4f7487-1bda-4c66-e985-fbc839c3c600"
      },
      "execution_count": null,
      "outputs": [
        {
          "output_type": "stream",
          "name": "stderr",
          "text": [
            "/usr/local/lib/python3.7/dist-packages/gensim/models/keyedvectors.py:895: FutureWarning:\n",
            "\n",
            "arrays to stack must be passed as a \"sequence\" type such as list or tuple. Support for non-sequence iterables such as generators is deprecated as of NumPy 1.16 and will raise an error in the future.\n",
            "\n"
          ]
        },
        {
          "output_type": "execute_result",
          "data": {
            "text/plain": [
              "'love'"
            ],
            "application/vnd.google.colaboratory.intrinsic+json": {
              "type": "string"
            }
          },
          "metadata": {},
          "execution_count": 85
        }
      ]
    },
    {
      "cell_type": "markdown",
      "source": [
        "### Entre las tres palabras la menos relacionada es love."
      ],
      "metadata": {
        "id": "jaeQW0GzzUf5"
      }
    },
    {
      "cell_type": "markdown",
      "metadata": {
        "id": "_g8UVWe6lFmh"
      },
      "source": [
        "### 5 - Visualizar agrupación de vectores"
      ]
    },
    {
      "cell_type": "code",
      "metadata": {
        "id": "pDxEVXAivjr9"
      },
      "source": [
        "from sklearn.decomposition import IncrementalPCA    \n",
        "from sklearn.manifold import TSNE                   \n",
        "import numpy as np                                  \n",
        "\n",
        "def reduce_dimensions(model):\n",
        "    num_dimensions = 2  \n",
        "\n",
        "    vectors = np.asarray(model.wv.vectors)\n",
        "    labels = np.asarray(model.wv.index2word)  \n",
        "\n",
        "    tsne = TSNE(n_components=num_dimensions, random_state=0)\n",
        "    vectors = tsne.fit_transform(vectors)\n",
        "\n",
        "    x_vals = [v[0] for v in vectors]\n",
        "    y_vals = [v[1] for v in vectors]\n",
        "    return x_vals, y_vals, labels"
      ],
      "execution_count": null,
      "outputs": []
    },
    {
      "cell_type": "code",
      "metadata": {
        "id": "NCCXtDpcugmd",
        "colab": {
          "base_uri": "https://localhost:8080/",
          "height": 681
        },
        "outputId": "46487dc7-413c-4d13-98a6-5e1926ca5e33"
      },
      "source": [
        "# Graficar los embedddings en 2D\n",
        "import plotly.graph_objects as go\n",
        "import plotly.express as px\n",
        "\n",
        "x_vals, y_vals, labels = reduce_dimensions(w2v_model)\n",
        "\n",
        "MAX_WORDS=200\n",
        "fig = px.scatter(x=x_vals[:MAX_WORDS], y=y_vals[:MAX_WORDS], text=labels[:MAX_WORDS])\n",
        "fig.show(renderer=\"colab\") # esto para plotly en colab"
      ],
      "execution_count": null,
      "outputs": [
        {
          "output_type": "stream",
          "name": "stderr",
          "text": [
            "/usr/local/lib/python3.7/dist-packages/sklearn/manifold/_t_sne.py:783: FutureWarning:\n",
            "\n",
            "The default initialization in TSNE will change from 'random' to 'pca' in 1.2.\n",
            "\n",
            "/usr/local/lib/python3.7/dist-packages/sklearn/manifold/_t_sne.py:793: FutureWarning:\n",
            "\n",
            "The default learning rate in TSNE will change from 200.0 to 'auto' in 1.2.\n",
            "\n"
          ]
        },
        {
          "output_type": "display_data",
          "data": {
            "text/html": [
              "<html>\n",
              "<head><meta charset=\"utf-8\" /></head>\n",
              "<body>\n",
              "    <div>            <script src=\"https://cdnjs.cloudflare.com/ajax/libs/mathjax/2.7.5/MathJax.js?config=TeX-AMS-MML_SVG\"></script><script type=\"text/javascript\">if (window.MathJax) {MathJax.Hub.Config({SVG: {font: \"STIX-Web\"}});}</script>                <script type=\"text/javascript\">window.PlotlyConfig = {MathJaxConfig: 'local'};</script>\n",
              "        <script src=\"https://cdn.plot.ly/plotly-2.8.3.min.js\"></script>                <div id=\"36c9e9d6-8dc8-4bc9-8bce-a53d59bef19f\" class=\"plotly-graph-div\" style=\"height:525px; width:100%;\"></div>            <script type=\"text/javascript\">                                    window.PLOTLYENV=window.PLOTLYENV || {};                                    if (document.getElementById(\"36c9e9d6-8dc8-4bc9-8bce-a53d59bef19f\")) {                    Plotly.newPlot(                        \"36c9e9d6-8dc8-4bc9-8bce-a53d59bef19f\",                        [{\"hovertemplate\":\"x=%{x}<br>y=%{y}<br>text=%{text}<extra></extra>\",\"legendgroup\":\"\",\"marker\":{\"color\":\"#636efa\",\"symbol\":\"circle\"},\"mode\":\"markers+text\",\"name\":\"\",\"orientation\":\"v\",\"showlegend\":false,\"text\":[\"life\",\"find\",\"man\",\"world\",\"family\",\"new\",\"s\",\"young\",\"friend\",\"love\",\"'\",\"time\",\"live\",\"woman\",\"year\",\"day\",\"girl\",\"story\",\"help\",\"try\",\"father\",\"take\",\"turn\",\"come\",\"discover\",\"force\",\"begin\",\"set\",\"film\",\"work\",\"meet\",\"way\",\"wife\",\"home\",\"go\",\"lead\",\"leave\",\"city\",\"son\",\"secret\",\"get\",\"murder\",\"kill\",\"daughter\",\"team\",\"death\",\"group\",\"save\",\"know\",\"mother\",\"old\",\"child\",\"return\",\"mysterious\",\"face\",\"decide\",\"night\",\"war\",\"fight\",\"house\",\"plan\",\"year_old\",\"american\",\"boy\",\"follow\",\"end\",\"brother\",\"good\",\"town\",\"run\",\"learn\",\"escape\",\"start\",\"people\",\"dream\",\"want\",\"lose\",\"name\",\"school\",\"soon\",\"bring\",\"battle\",\"movie\",\"star\",\"order\",\"fall\",\"change\",\"new_york\",\"evil\",\"stop\",\"big\",\"sister\",\"power\",\"adventure\",\"past\",\"great\",\"thing\",\"attempt\",\"look\",\"relationship\",\"long\",\"struggle\",\"human\",\"police\",\"send\",\"game\",\"like\",\"mission\",\"dead\",\"job\",\"earth\",\"little\",\"make\",\"break\",\"crime\",\"event\",\"journey\",\"student\",\"dark\",\"high\",\"search\",\"gang\",\"husband\",\"agent\",\"couple\",\"travel\",\"bad\",\"parent\",\"die\",\"head\",\"high_school\",\"local\",\"king\",\"real\",\"land\",\"beautiful\",\"series\",\"kid\",\"away\",\"criminal\",\"killer\",\"race\",\"grow\",\"dangerous\",\"cop\",\"play\",\"small\",\"money\",\"detective\",\"call\",\"island\",\"hope\",\"future\",\"place\",\"steal\",\"country\",\"girlfriend\",\"prison\",\"base\",\"arrive\",\"true\",\"tell\",\"john\",\"ex\",\"control\",\"seek\",\"rescue\",\"car\",\"crew\",\"win\",\"destroy\",\"street\",\"encounter\",\"realize\",\"move\",\"believe\",\"think\",\"black\",\"revenge\",\"see\",\"fall_love\",\"drug\",\"use\",\"join\",\"threaten\",\"rise\",\"action\",\"deadly\",\"heart\",\"party\",\"college\",\"hero\",\"protect\",\"soldier\",\"survive\",\"attack\",\"catch\",\"alien\",\"jack\",\"happen\"],\"x\":[-0.6730237007141113,-8.283957481384277,-0.41792649030685425,0.06042297184467316,-0.7403153777122498,-0.4460996389389038,-0.5868241190910339,-0.7333508729934692,-0.7516894340515137,-1.246921420097351,-0.34108424186706543,-0.42973238229751587,-0.9110796451568604,-0.8602830171585083,-0.3713517487049103,-0.5217892527580261,-1.263556957244873,-0.5915840268135071,-0.4046252369880676,-0.5725850462913513,-1.0069189071655273,-0.3008638322353363,-0.42449983954429626,-0.5776267051696777,-0.5059172511100769,0.2067522555589676,-0.5280649065971375,-0.285501092672348,-0.006696322932839394,-0.6369695663452148,-0.8566696643829346,-0.4233461320400238,-1.0652635097503662,-0.8899528384208679,-0.7717160582542419,-0.07809315621852875,-0.6837302446365356,-0.21124900877475739,-0.8572773933410645,-0.1327020674943924,-0.8909342885017395,-0.3922843039035797,-0.0098982322961092,-1.2142349481582642,0.9622471928596497,-0.25875017046928406,0.09039933234453201,0.3177138566970825,-0.28437042236328125,-1.6271519660949707,-0.6627746820449829,-1.0210697650909424,-0.3286013901233673,-0.05075940489768982,-0.1948789358139038,-0.887405276298523,-1.0154898166656494,1.3634958267211914,0.4123208820819855,-1.2934890985488892,0.24198336899280548,-1.4123690128326416,-0.20458225905895233,-1.0301473140716553,-0.40180686116218567,-0.4229232370853424,-0.9146026372909546,-0.767295241355896,-0.7489731907844543,-0.4412229657173157,-0.7699357271194458,0.14898474514484406,-0.8020596504211426,-0.08213010430335999,-1.2112910747528076,-0.7229835987091064,-0.62769615650177,-0.5656758546829224,-2.8393828868865967,-0.6014167070388794,-0.3519711494445801,1.2676161527633667,-0.08247778564691544,0.20659056305885315,-0.14537088572978973,-0.6244258284568787,-0.7500939965248108,-0.7504541277885437,1.3281959295272827,0.43761059641838074,-0.9426998496055603,-1.7742385864257812,0.6556224226951599,-0.4506986737251282,-0.5669394135475159,-0.31833547353744507,-0.8266799449920654,-0.22015796601772308,-0.7492948174476624,-1.7587056159973145,-0.8100116848945618,-0.8488460779190063,1.435995101928711,0.18908202648162842,0.3505566120147705,1.193769931793213,-0.7984572649002075,1.5619502067565918,-0.10391078144311905,-0.9890568256378174,2.2956786155700684,-1.0963212251663208,-0.536095917224884,-0.6059454679489136,0.4659386873245239,-0.017569508403539658,-0.002020103856921196,-2.959186553955078,0.27050021290779114,1.465437889099121,-0.0024953316897153854,-0.28038445115089417,-2.299065351486206,1.1787642240524292,-1.4051246643066406,-0.48763543367385864,-0.7555246949195862,-1.4932036399841309,-0.8658463358879089,-0.33031079173088074,-3.3627381324768066,-0.5472334623336792,1.631438970565796,-0.49194803833961487,0.584245502948761,-1.0708060264587402,0.6859160661697388,-2.036092758178711,-0.928760826587677,0.4352513253688812,-0.02305629849433899,1.6913282871246338,-1.3125851154327393,0.5816490650177002,0.3581901788711548,-2.2737252712249756,-0.5913248658180237,-1.9597060680389404,0.11423774808645248,0.04054337367415428,2.062500238418579,-0.2481825053691864,0.13662764430046082,-0.17582935094833374,0.38881218433380127,-0.510503351688385,-1.4243052005767822,0.008571123704314232,0.09780620038509369,-0.7401853203773499,-0.7310973405838013,-0.9302847385406494,0.5707241892814636,-1.903205394744873,1.3604882955551147,0.028747523203492165,1.0135070085525513,-0.7709174752235413,2.3096513748168945,0.07256116718053818,1.2350728511810303,0.120817631483078,-0.13721467554569244,-0.6234824061393738,-2.841179132461548,-0.43689799308776855,-0.7150131464004517,1.6896098852157593,2.17305588722229,-0.6961184144020081,-1.6016099452972412,-1.9343644380569458,0.655488908290863,-0.3464664816856384,0.20598584413528442,-0.5954724550247192,0.6413622498512268,0.7611303329467773,-0.5858619213104248,-2.2785534858703613,-3.5885815620422363,0.7382004857063293,0.2483568787574768,2.107290029525757,0.27973029017448425,1.0880342721939087,-0.5234505534172058,2.508993625640869,-0.6042046546936035,-0.8910594582557678],\"xaxis\":\"x\",\"y\":[-0.2715803384780884,1.0316201448440552,0.13629822432994843,-0.4124308228492737,0.19221536815166473,0.011147902347147465,-0.1839960813522339,0.28547218441963196,0.07892018556594849,-0.427899032831192,-0.18278412520885468,-0.1967765986919403,-0.08665307611227036,0.15849676728248596,-0.18816709518432617,-0.21274825930595398,0.1173493042588234,-0.7739548087120056,0.21443241834640503,0.14166952669620514,0.41843095421791077,0.2284153252840042,0.15380162000656128,-0.030025413259863853,0.19477558135986328,0.3070744276046753,0.0458943136036396,-0.1823531687259674,-1.8800855875015259,0.12738439440727234,-0.033572662621736526,0.039660483598709106,0.19311784207820892,0.2875120937824249,0.27288591861724854,0.11687832325696945,0.3239891827106476,-0.09185836464166641,0.40352314710617065,0.21680410206317902,0.2723000645637512,1.8208128213882446,0.8572520613670349,0.40778622031211853,0.5717588067054749,0.3142489194869995,0.4464670419692993,-0.009172658436000347,0.019632048904895782,0.43179619312286377,0.24468296766281128,0.07149451225996017,0.2371712625026703,0.44497981667518616,-0.2700241208076477,0.24548949301242828,0.2713641822338104,-0.160746231675148,0.132973775267601,1.1017825603485107,0.18854443728923798,0.03627578169107437,-0.269716739654541,-0.04804901033639908,-0.3766386806964874,-0.03481019288301468,0.6515838503837585,-0.4509761929512024,1.1947331428527832,0.5987672805786133,0.175418883562088,0.37759479880332947,-0.019249776378273964,-0.38494768738746643,-0.5822558403015137,0.1154690757393837,0.4177390933036804,0.12471984326839447,-0.425973504781723,0.28111135959625244,-0.18856799602508545,-0.13258978724479675,-2.2286977767944336,-1.9975260496139526,0.2409314066171646,-0.04182489588856697,-0.819507360458374,-0.2334110587835312,-0.42116212844848633,-0.005875026807188988,-0.835212230682373,0.3363494575023651,-0.31449317932128906,-1.9724727869033813,-0.08243648707866669,-0.43947601318359375,-0.09661639481782913,0.2059601992368698,-0.6794224381446838,-0.6337639093399048,0.05171038210391998,-0.22376611828804016,-0.7111697793006897,2.4484474658966064,0.9192922711372375,-1.9348212480545044,-0.4851953983306885,0.5386334657669067,0.7068993449211121,0.46975570917129517,-0.2838093638420105,0.18925777077674866,-0.274158239364624,-0.06148455664515495,1.7989860773086548,-0.9379178285598755,-0.7339028716087341,-0.5994893312454224,-0.44817617535591125,1.6991671323776245,0.9613091945648193,2.485240936279297,0.5607816576957703,1.6704299449920654,0.15662725269794464,0.19319215416908264,-0.1336534023284912,0.25729483366012573,0.6886157989501953,0.1785350888967514,-0.7252567410469055,1.0003544092178345,-1.3588895797729492,-0.2619483470916748,-0.863090991973877,0.1268230527639389,-1.711748719215393,-0.08893639594316483,0.1509145349264145,2.017434597015381,1.88783860206604,-1.4346307516098022,-0.34201642870903015,0.5888830423355103,2.557194232940674,-1.1327232122421265,0.39144113659858704,1.7431076765060425,2.732339859008789,0.11529660224914551,1.0562851428985596,0.0480969101190567,-0.7203838229179382,-0.10554490238428116,2.146995782852173,0.2584134638309479,0.5027308464050293,-3.0199460983276367,-2.820795774459839,0.689023494720459,-1.0444309711456299,-0.8077118396759033,0.15939681231975555,0.8904829621315002,-1.0957731008529663,0.5670403242111206,0.7406030893325806,1.176202654838562,0.6264178156852722,-2.122025966644287,-0.23631519079208374,-0.5434240698814392,0.19890497624874115,0.3206649422645569,0.9445151686668396,0.1435408741235733,-0.05493272468447685,1.3862162828445435,1.0843818187713623,-0.41363227367401123,-0.4888325333595276,-2.5585739612579346,-0.19909612834453583,0.48978498578071594,-0.09400007873773575,-0.669931948184967,-1.4804233312606812,0.09688486158847809,-0.43634945154190063,-0.2599146068096161,-0.5553932189941406,-0.5330451726913452,0.5461623072624207,0.4741872251033783,-0.0553802028298378,0.9729087352752686,0.9504519701004028,-0.2733985185623169,-0.34510669112205505,0.03861777484416962],\"yaxis\":\"y\",\"type\":\"scatter\"}],                        {\"template\":{\"data\":{\"bar\":[{\"error_x\":{\"color\":\"#2a3f5f\"},\"error_y\":{\"color\":\"#2a3f5f\"},\"marker\":{\"line\":{\"color\":\"#E5ECF6\",\"width\":0.5},\"pattern\":{\"fillmode\":\"overlay\",\"size\":10,\"solidity\":0.2}},\"type\":\"bar\"}],\"barpolar\":[{\"marker\":{\"line\":{\"color\":\"#E5ECF6\",\"width\":0.5},\"pattern\":{\"fillmode\":\"overlay\",\"size\":10,\"solidity\":0.2}},\"type\":\"barpolar\"}],\"carpet\":[{\"aaxis\":{\"endlinecolor\":\"#2a3f5f\",\"gridcolor\":\"white\",\"linecolor\":\"white\",\"minorgridcolor\":\"white\",\"startlinecolor\":\"#2a3f5f\"},\"baxis\":{\"endlinecolor\":\"#2a3f5f\",\"gridcolor\":\"white\",\"linecolor\":\"white\",\"minorgridcolor\":\"white\",\"startlinecolor\":\"#2a3f5f\"},\"type\":\"carpet\"}],\"choropleth\":[{\"colorbar\":{\"outlinewidth\":0,\"ticks\":\"\"},\"type\":\"choropleth\"}],\"contour\":[{\"colorbar\":{\"outlinewidth\":0,\"ticks\":\"\"},\"colorscale\":[[0.0,\"#0d0887\"],[0.1111111111111111,\"#46039f\"],[0.2222222222222222,\"#7201a8\"],[0.3333333333333333,\"#9c179e\"],[0.4444444444444444,\"#bd3786\"],[0.5555555555555556,\"#d8576b\"],[0.6666666666666666,\"#ed7953\"],[0.7777777777777778,\"#fb9f3a\"],[0.8888888888888888,\"#fdca26\"],[1.0,\"#f0f921\"]],\"type\":\"contour\"}],\"contourcarpet\":[{\"colorbar\":{\"outlinewidth\":0,\"ticks\":\"\"},\"type\":\"contourcarpet\"}],\"heatmap\":[{\"colorbar\":{\"outlinewidth\":0,\"ticks\":\"\"},\"colorscale\":[[0.0,\"#0d0887\"],[0.1111111111111111,\"#46039f\"],[0.2222222222222222,\"#7201a8\"],[0.3333333333333333,\"#9c179e\"],[0.4444444444444444,\"#bd3786\"],[0.5555555555555556,\"#d8576b\"],[0.6666666666666666,\"#ed7953\"],[0.7777777777777778,\"#fb9f3a\"],[0.8888888888888888,\"#fdca26\"],[1.0,\"#f0f921\"]],\"type\":\"heatmap\"}],\"heatmapgl\":[{\"colorbar\":{\"outlinewidth\":0,\"ticks\":\"\"},\"colorscale\":[[0.0,\"#0d0887\"],[0.1111111111111111,\"#46039f\"],[0.2222222222222222,\"#7201a8\"],[0.3333333333333333,\"#9c179e\"],[0.4444444444444444,\"#bd3786\"],[0.5555555555555556,\"#d8576b\"],[0.6666666666666666,\"#ed7953\"],[0.7777777777777778,\"#fb9f3a\"],[0.8888888888888888,\"#fdca26\"],[1.0,\"#f0f921\"]],\"type\":\"heatmapgl\"}],\"histogram\":[{\"marker\":{\"pattern\":{\"fillmode\":\"overlay\",\"size\":10,\"solidity\":0.2}},\"type\":\"histogram\"}],\"histogram2d\":[{\"colorbar\":{\"outlinewidth\":0,\"ticks\":\"\"},\"colorscale\":[[0.0,\"#0d0887\"],[0.1111111111111111,\"#46039f\"],[0.2222222222222222,\"#7201a8\"],[0.3333333333333333,\"#9c179e\"],[0.4444444444444444,\"#bd3786\"],[0.5555555555555556,\"#d8576b\"],[0.6666666666666666,\"#ed7953\"],[0.7777777777777778,\"#fb9f3a\"],[0.8888888888888888,\"#fdca26\"],[1.0,\"#f0f921\"]],\"type\":\"histogram2d\"}],\"histogram2dcontour\":[{\"colorbar\":{\"outlinewidth\":0,\"ticks\":\"\"},\"colorscale\":[[0.0,\"#0d0887\"],[0.1111111111111111,\"#46039f\"],[0.2222222222222222,\"#7201a8\"],[0.3333333333333333,\"#9c179e\"],[0.4444444444444444,\"#bd3786\"],[0.5555555555555556,\"#d8576b\"],[0.6666666666666666,\"#ed7953\"],[0.7777777777777778,\"#fb9f3a\"],[0.8888888888888888,\"#fdca26\"],[1.0,\"#f0f921\"]],\"type\":\"histogram2dcontour\"}],\"mesh3d\":[{\"colorbar\":{\"outlinewidth\":0,\"ticks\":\"\"},\"type\":\"mesh3d\"}],\"parcoords\":[{\"line\":{\"colorbar\":{\"outlinewidth\":0,\"ticks\":\"\"}},\"type\":\"parcoords\"}],\"pie\":[{\"automargin\":true,\"type\":\"pie\"}],\"scatter\":[{\"marker\":{\"colorbar\":{\"outlinewidth\":0,\"ticks\":\"\"}},\"type\":\"scatter\"}],\"scatter3d\":[{\"line\":{\"colorbar\":{\"outlinewidth\":0,\"ticks\":\"\"}},\"marker\":{\"colorbar\":{\"outlinewidth\":0,\"ticks\":\"\"}},\"type\":\"scatter3d\"}],\"scattercarpet\":[{\"marker\":{\"colorbar\":{\"outlinewidth\":0,\"ticks\":\"\"}},\"type\":\"scattercarpet\"}],\"scattergeo\":[{\"marker\":{\"colorbar\":{\"outlinewidth\":0,\"ticks\":\"\"}},\"type\":\"scattergeo\"}],\"scattergl\":[{\"marker\":{\"colorbar\":{\"outlinewidth\":0,\"ticks\":\"\"}},\"type\":\"scattergl\"}],\"scattermapbox\":[{\"marker\":{\"colorbar\":{\"outlinewidth\":0,\"ticks\":\"\"}},\"type\":\"scattermapbox\"}],\"scatterpolar\":[{\"marker\":{\"colorbar\":{\"outlinewidth\":0,\"ticks\":\"\"}},\"type\":\"scatterpolar\"}],\"scatterpolargl\":[{\"marker\":{\"colorbar\":{\"outlinewidth\":0,\"ticks\":\"\"}},\"type\":\"scatterpolargl\"}],\"scatterternary\":[{\"marker\":{\"colorbar\":{\"outlinewidth\":0,\"ticks\":\"\"}},\"type\":\"scatterternary\"}],\"surface\":[{\"colorbar\":{\"outlinewidth\":0,\"ticks\":\"\"},\"colorscale\":[[0.0,\"#0d0887\"],[0.1111111111111111,\"#46039f\"],[0.2222222222222222,\"#7201a8\"],[0.3333333333333333,\"#9c179e\"],[0.4444444444444444,\"#bd3786\"],[0.5555555555555556,\"#d8576b\"],[0.6666666666666666,\"#ed7953\"],[0.7777777777777778,\"#fb9f3a\"],[0.8888888888888888,\"#fdca26\"],[1.0,\"#f0f921\"]],\"type\":\"surface\"}],\"table\":[{\"cells\":{\"fill\":{\"color\":\"#EBF0F8\"},\"line\":{\"color\":\"white\"}},\"header\":{\"fill\":{\"color\":\"#C8D4E3\"},\"line\":{\"color\":\"white\"}},\"type\":\"table\"}]},\"layout\":{\"annotationdefaults\":{\"arrowcolor\":\"#2a3f5f\",\"arrowhead\":0,\"arrowwidth\":1},\"autotypenumbers\":\"strict\",\"coloraxis\":{\"colorbar\":{\"outlinewidth\":0,\"ticks\":\"\"}},\"colorscale\":{\"diverging\":[[0,\"#8e0152\"],[0.1,\"#c51b7d\"],[0.2,\"#de77ae\"],[0.3,\"#f1b6da\"],[0.4,\"#fde0ef\"],[0.5,\"#f7f7f7\"],[0.6,\"#e6f5d0\"],[0.7,\"#b8e186\"],[0.8,\"#7fbc41\"],[0.9,\"#4d9221\"],[1,\"#276419\"]],\"sequential\":[[0.0,\"#0d0887\"],[0.1111111111111111,\"#46039f\"],[0.2222222222222222,\"#7201a8\"],[0.3333333333333333,\"#9c179e\"],[0.4444444444444444,\"#bd3786\"],[0.5555555555555556,\"#d8576b\"],[0.6666666666666666,\"#ed7953\"],[0.7777777777777778,\"#fb9f3a\"],[0.8888888888888888,\"#fdca26\"],[1.0,\"#f0f921\"]],\"sequentialminus\":[[0.0,\"#0d0887\"],[0.1111111111111111,\"#46039f\"],[0.2222222222222222,\"#7201a8\"],[0.3333333333333333,\"#9c179e\"],[0.4444444444444444,\"#bd3786\"],[0.5555555555555556,\"#d8576b\"],[0.6666666666666666,\"#ed7953\"],[0.7777777777777778,\"#fb9f3a\"],[0.8888888888888888,\"#fdca26\"],[1.0,\"#f0f921\"]]},\"colorway\":[\"#636efa\",\"#EF553B\",\"#00cc96\",\"#ab63fa\",\"#FFA15A\",\"#19d3f3\",\"#FF6692\",\"#B6E880\",\"#FF97FF\",\"#FECB52\"],\"font\":{\"color\":\"#2a3f5f\"},\"geo\":{\"bgcolor\":\"white\",\"lakecolor\":\"white\",\"landcolor\":\"#E5ECF6\",\"showlakes\":true,\"showland\":true,\"subunitcolor\":\"white\"},\"hoverlabel\":{\"align\":\"left\"},\"hovermode\":\"closest\",\"mapbox\":{\"style\":\"light\"},\"paper_bgcolor\":\"white\",\"plot_bgcolor\":\"#E5ECF6\",\"polar\":{\"angularaxis\":{\"gridcolor\":\"white\",\"linecolor\":\"white\",\"ticks\":\"\"},\"bgcolor\":\"#E5ECF6\",\"radialaxis\":{\"gridcolor\":\"white\",\"linecolor\":\"white\",\"ticks\":\"\"}},\"scene\":{\"xaxis\":{\"backgroundcolor\":\"#E5ECF6\",\"gridcolor\":\"white\",\"gridwidth\":2,\"linecolor\":\"white\",\"showbackground\":true,\"ticks\":\"\",\"zerolinecolor\":\"white\"},\"yaxis\":{\"backgroundcolor\":\"#E5ECF6\",\"gridcolor\":\"white\",\"gridwidth\":2,\"linecolor\":\"white\",\"showbackground\":true,\"ticks\":\"\",\"zerolinecolor\":\"white\"},\"zaxis\":{\"backgroundcolor\":\"#E5ECF6\",\"gridcolor\":\"white\",\"gridwidth\":2,\"linecolor\":\"white\",\"showbackground\":true,\"ticks\":\"\",\"zerolinecolor\":\"white\"}},\"shapedefaults\":{\"line\":{\"color\":\"#2a3f5f\"}},\"ternary\":{\"aaxis\":{\"gridcolor\":\"white\",\"linecolor\":\"white\",\"ticks\":\"\"},\"baxis\":{\"gridcolor\":\"white\",\"linecolor\":\"white\",\"ticks\":\"\"},\"bgcolor\":\"#E5ECF6\",\"caxis\":{\"gridcolor\":\"white\",\"linecolor\":\"white\",\"ticks\":\"\"}},\"title\":{\"x\":0.05},\"xaxis\":{\"automargin\":true,\"gridcolor\":\"white\",\"linecolor\":\"white\",\"ticks\":\"\",\"title\":{\"standoff\":15},\"zerolinecolor\":\"white\",\"zerolinewidth\":2},\"yaxis\":{\"automargin\":true,\"gridcolor\":\"white\",\"linecolor\":\"white\",\"ticks\":\"\",\"title\":{\"standoff\":15},\"zerolinecolor\":\"white\",\"zerolinewidth\":2}}},\"xaxis\":{\"anchor\":\"y\",\"domain\":[0.0,1.0],\"title\":{\"text\":\"x\"}},\"yaxis\":{\"anchor\":\"x\",\"domain\":[0.0,1.0],\"title\":{\"text\":\"y\"}},\"legend\":{\"tracegroupgap\":0},\"margin\":{\"t\":60}},                        {\"responsive\": true}                    ).then(function(){\n",
              "                            \n",
              "var gd = document.getElementById('36c9e9d6-8dc8-4bc9-8bce-a53d59bef19f');\n",
              "var x = new MutationObserver(function (mutations, observer) {{\n",
              "        var display = window.getComputedStyle(gd).display;\n",
              "        if (!display || display === 'none') {{\n",
              "            console.log([gd, 'removed!']);\n",
              "            Plotly.purge(gd);\n",
              "            observer.disconnect();\n",
              "        }}\n",
              "}});\n",
              "\n",
              "// Listen for the removal of the full notebook cells\n",
              "var notebookContainer = gd.closest('#notebook-container');\n",
              "if (notebookContainer) {{\n",
              "    x.observe(notebookContainer, {childList: true});\n",
              "}}\n",
              "\n",
              "// Listen for the clearing of the current output cell\n",
              "var outputEl = gd.closest('.output');\n",
              "if (outputEl) {{\n",
              "    x.observe(outputEl, {childList: true});\n",
              "}}\n",
              "\n",
              "                        })                };                            </script>        </div>\n",
              "</body>\n",
              "</html>"
            ]
          },
          "metadata": {}
        }
      ]
    },
    {
      "cell_type": "code",
      "source": [
        ""
      ],
      "metadata": {
        "id": "Ip4DtCgm54QJ"
      },
      "execution_count": null,
      "outputs": []
    }
  ]
}