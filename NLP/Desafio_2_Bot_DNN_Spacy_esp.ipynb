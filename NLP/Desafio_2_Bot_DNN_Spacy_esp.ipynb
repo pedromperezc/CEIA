{
  "nbformat": 4,
  "nbformat_minor": 0,
  "metadata": {
    "colab": {
      "name": "Desafio_2_Bot_DNN_Spacy_esp.ipynb",
      "provenance": [],
      "collapsed_sections": [],
      "include_colab_link": true
    },
    "kernelspec": {
      "name": "python3",
      "display_name": "Python 3"
    },
    "language_info": {
      "name": "python"
    },
    "accelerator": "GPU",
    "widgets": {
      "application/vnd.jupyter.widget-state+json": {
        "eecbe330b6d048ba98d3e59575e86667": {
          "model_module": "@jupyter-widgets/controls",
          "model_name": "HBoxModel",
          "model_module_version": "1.5.0",
          "state": {
            "_dom_classes": [],
            "_model_module": "@jupyter-widgets/controls",
            "_model_module_version": "1.5.0",
            "_model_name": "HBoxModel",
            "_view_count": null,
            "_view_module": "@jupyter-widgets/controls",
            "_view_module_version": "1.5.0",
            "_view_name": "HBoxView",
            "box_style": "",
            "children": [
              "IPY_MODEL_b4f22bcb2c424b5d93ac5513e7e1d624",
              "IPY_MODEL_d8d6823977664b6e8aaf2c2eb6cfd1a5",
              "IPY_MODEL_559953f948d4464f985e9a7ada5d5875"
            ],
            "layout": "IPY_MODEL_cdc1b722450849a88cc89e52b409210e"
          }
        },
        "b4f22bcb2c424b5d93ac5513e7e1d624": {
          "model_module": "@jupyter-widgets/controls",
          "model_name": "HTMLModel",
          "model_module_version": "1.5.0",
          "state": {
            "_dom_classes": [],
            "_model_module": "@jupyter-widgets/controls",
            "_model_module_version": "1.5.0",
            "_model_name": "HTMLModel",
            "_view_count": null,
            "_view_module": "@jupyter-widgets/controls",
            "_view_module_version": "1.5.0",
            "_view_name": "HTMLView",
            "description": "",
            "description_tooltip": null,
            "layout": "IPY_MODEL_d099de83a3314fb0a4bc70004dfbc7f5",
            "placeholder": "​",
            "style": "IPY_MODEL_c7858e9e4f7f4c28b2a26a3a9fdb22e7",
            "value": "Downloading https://raw.githubusercontent.com/stanfordnlp/stanza-resources/main/resources_1.3.0.json: "
          }
        },
        "d8d6823977664b6e8aaf2c2eb6cfd1a5": {
          "model_module": "@jupyter-widgets/controls",
          "model_name": "FloatProgressModel",
          "model_module_version": "1.5.0",
          "state": {
            "_dom_classes": [],
            "_model_module": "@jupyter-widgets/controls",
            "_model_module_version": "1.5.0",
            "_model_name": "FloatProgressModel",
            "_view_count": null,
            "_view_module": "@jupyter-widgets/controls",
            "_view_module_version": "1.5.0",
            "_view_name": "ProgressView",
            "bar_style": "success",
            "description": "",
            "description_tooltip": null,
            "layout": "IPY_MODEL_32ed7ee980f74e52a45f244716141403",
            "max": 24459,
            "min": 0,
            "orientation": "horizontal",
            "style": "IPY_MODEL_a19393a193514c829e72e1a27191700a",
            "value": 24459
          }
        },
        "559953f948d4464f985e9a7ada5d5875": {
          "model_module": "@jupyter-widgets/controls",
          "model_name": "HTMLModel",
          "model_module_version": "1.5.0",
          "state": {
            "_dom_classes": [],
            "_model_module": "@jupyter-widgets/controls",
            "_model_module_version": "1.5.0",
            "_model_name": "HTMLModel",
            "_view_count": null,
            "_view_module": "@jupyter-widgets/controls",
            "_view_module_version": "1.5.0",
            "_view_name": "HTMLView",
            "description": "",
            "description_tooltip": null,
            "layout": "IPY_MODEL_d42884edc1bc44b9a55f2342aecd60ca",
            "placeholder": "​",
            "style": "IPY_MODEL_7800ee8ff5404b3b909afb914987e547",
            "value": " 142k/? [00:00&lt;00:00, 2.69MB/s]"
          }
        },
        "cdc1b722450849a88cc89e52b409210e": {
          "model_module": "@jupyter-widgets/base",
          "model_name": "LayoutModel",
          "model_module_version": "1.2.0",
          "state": {
            "_model_module": "@jupyter-widgets/base",
            "_model_module_version": "1.2.0",
            "_model_name": "LayoutModel",
            "_view_count": null,
            "_view_module": "@jupyter-widgets/base",
            "_view_module_version": "1.2.0",
            "_view_name": "LayoutView",
            "align_content": null,
            "align_items": null,
            "align_self": null,
            "border": null,
            "bottom": null,
            "display": null,
            "flex": null,
            "flex_flow": null,
            "grid_area": null,
            "grid_auto_columns": null,
            "grid_auto_flow": null,
            "grid_auto_rows": null,
            "grid_column": null,
            "grid_gap": null,
            "grid_row": null,
            "grid_template_areas": null,
            "grid_template_columns": null,
            "grid_template_rows": null,
            "height": null,
            "justify_content": null,
            "justify_items": null,
            "left": null,
            "margin": null,
            "max_height": null,
            "max_width": null,
            "min_height": null,
            "min_width": null,
            "object_fit": null,
            "object_position": null,
            "order": null,
            "overflow": null,
            "overflow_x": null,
            "overflow_y": null,
            "padding": null,
            "right": null,
            "top": null,
            "visibility": null,
            "width": null
          }
        },
        "d099de83a3314fb0a4bc70004dfbc7f5": {
          "model_module": "@jupyter-widgets/base",
          "model_name": "LayoutModel",
          "model_module_version": "1.2.0",
          "state": {
            "_model_module": "@jupyter-widgets/base",
            "_model_module_version": "1.2.0",
            "_model_name": "LayoutModel",
            "_view_count": null,
            "_view_module": "@jupyter-widgets/base",
            "_view_module_version": "1.2.0",
            "_view_name": "LayoutView",
            "align_content": null,
            "align_items": null,
            "align_self": null,
            "border": null,
            "bottom": null,
            "display": null,
            "flex": null,
            "flex_flow": null,
            "grid_area": null,
            "grid_auto_columns": null,
            "grid_auto_flow": null,
            "grid_auto_rows": null,
            "grid_column": null,
            "grid_gap": null,
            "grid_row": null,
            "grid_template_areas": null,
            "grid_template_columns": null,
            "grid_template_rows": null,
            "height": null,
            "justify_content": null,
            "justify_items": null,
            "left": null,
            "margin": null,
            "max_height": null,
            "max_width": null,
            "min_height": null,
            "min_width": null,
            "object_fit": null,
            "object_position": null,
            "order": null,
            "overflow": null,
            "overflow_x": null,
            "overflow_y": null,
            "padding": null,
            "right": null,
            "top": null,
            "visibility": null,
            "width": null
          }
        },
        "c7858e9e4f7f4c28b2a26a3a9fdb22e7": {
          "model_module": "@jupyter-widgets/controls",
          "model_name": "DescriptionStyleModel",
          "model_module_version": "1.5.0",
          "state": {
            "_model_module": "@jupyter-widgets/controls",
            "_model_module_version": "1.5.0",
            "_model_name": "DescriptionStyleModel",
            "_view_count": null,
            "_view_module": "@jupyter-widgets/base",
            "_view_module_version": "1.2.0",
            "_view_name": "StyleView",
            "description_width": ""
          }
        },
        "32ed7ee980f74e52a45f244716141403": {
          "model_module": "@jupyter-widgets/base",
          "model_name": "LayoutModel",
          "model_module_version": "1.2.0",
          "state": {
            "_model_module": "@jupyter-widgets/base",
            "_model_module_version": "1.2.0",
            "_model_name": "LayoutModel",
            "_view_count": null,
            "_view_module": "@jupyter-widgets/base",
            "_view_module_version": "1.2.0",
            "_view_name": "LayoutView",
            "align_content": null,
            "align_items": null,
            "align_self": null,
            "border": null,
            "bottom": null,
            "display": null,
            "flex": null,
            "flex_flow": null,
            "grid_area": null,
            "grid_auto_columns": null,
            "grid_auto_flow": null,
            "grid_auto_rows": null,
            "grid_column": null,
            "grid_gap": null,
            "grid_row": null,
            "grid_template_areas": null,
            "grid_template_columns": null,
            "grid_template_rows": null,
            "height": null,
            "justify_content": null,
            "justify_items": null,
            "left": null,
            "margin": null,
            "max_height": null,
            "max_width": null,
            "min_height": null,
            "min_width": null,
            "object_fit": null,
            "object_position": null,
            "order": null,
            "overflow": null,
            "overflow_x": null,
            "overflow_y": null,
            "padding": null,
            "right": null,
            "top": null,
            "visibility": null,
            "width": null
          }
        },
        "a19393a193514c829e72e1a27191700a": {
          "model_module": "@jupyter-widgets/controls",
          "model_name": "ProgressStyleModel",
          "model_module_version": "1.5.0",
          "state": {
            "_model_module": "@jupyter-widgets/controls",
            "_model_module_version": "1.5.0",
            "_model_name": "ProgressStyleModel",
            "_view_count": null,
            "_view_module": "@jupyter-widgets/base",
            "_view_module_version": "1.2.0",
            "_view_name": "StyleView",
            "bar_color": null,
            "description_width": ""
          }
        },
        "d42884edc1bc44b9a55f2342aecd60ca": {
          "model_module": "@jupyter-widgets/base",
          "model_name": "LayoutModel",
          "model_module_version": "1.2.0",
          "state": {
            "_model_module": "@jupyter-widgets/base",
            "_model_module_version": "1.2.0",
            "_model_name": "LayoutModel",
            "_view_count": null,
            "_view_module": "@jupyter-widgets/base",
            "_view_module_version": "1.2.0",
            "_view_name": "LayoutView",
            "align_content": null,
            "align_items": null,
            "align_self": null,
            "border": null,
            "bottom": null,
            "display": null,
            "flex": null,
            "flex_flow": null,
            "grid_area": null,
            "grid_auto_columns": null,
            "grid_auto_flow": null,
            "grid_auto_rows": null,
            "grid_column": null,
            "grid_gap": null,
            "grid_row": null,
            "grid_template_areas": null,
            "grid_template_columns": null,
            "grid_template_rows": null,
            "height": null,
            "justify_content": null,
            "justify_items": null,
            "left": null,
            "margin": null,
            "max_height": null,
            "max_width": null,
            "min_height": null,
            "min_width": null,
            "object_fit": null,
            "object_position": null,
            "order": null,
            "overflow": null,
            "overflow_x": null,
            "overflow_y": null,
            "padding": null,
            "right": null,
            "top": null,
            "visibility": null,
            "width": null
          }
        },
        "7800ee8ff5404b3b909afb914987e547": {
          "model_module": "@jupyter-widgets/controls",
          "model_name": "DescriptionStyleModel",
          "model_module_version": "1.5.0",
          "state": {
            "_model_module": "@jupyter-widgets/controls",
            "_model_module_version": "1.5.0",
            "_model_name": "DescriptionStyleModel",
            "_view_count": null,
            "_view_module": "@jupyter-widgets/base",
            "_view_module_version": "1.2.0",
            "_view_name": "StyleView",
            "description_width": ""
          }
        }
      }
    }
  },
  "cells": [
    {
      "cell_type": "markdown",
      "metadata": {
        "id": "view-in-github",
        "colab_type": "text"
      },
      "source": [
        "<a href=\"https://colab.research.google.com/github/pedromperezc/CEIA/blob/master/NLP/Desafio_2_Bot_DNN_Spacy_esp.ipynb\" target=\"_parent\"><img src=\"https://colab.research.google.com/assets/colab-badge.svg\" alt=\"Open In Colab\"/></a>"
      ]
    },
    {
      "cell_type": "markdown",
      "metadata": {
        "id": "Ue5hxxkdAQJg"
      },
      "source": [
        "<img src=\"https://github.com/hernancontigiani/ceia_memorias_especializacion/raw/master/Figures/logoFIUBA.jpg\" width=\"500\" align=\"center\">\n",
        "\n",
        "\n",
        "# Procesamiento de lenguaje natural\n",
        "## Bot con NLTK utilizando un corpus de wikipedia\n"
      ]
    },
    {
      "cell_type": "code",
      "source": [
        "#instalo librería stanza para procesar documentos en castellano\n",
        "!pip install stanza"
      ],
      "metadata": {
        "colab": {
          "base_uri": "https://localhost:8080/"
        },
        "id": "syAtegbK02yF",
        "outputId": "27722d2d-df05-4e1a-9524-b314aa85f766"
      },
      "execution_count": null,
      "outputs": [
        {
          "output_type": "stream",
          "name": "stdout",
          "text": [
            "Collecting stanza\n",
            "  Downloading stanza-1.3.0-py3-none-any.whl (432 kB)\n",
            "\u001b[K     |████████████████████████████████| 432 kB 5.5 MB/s \n",
            "\u001b[?25hCollecting emoji\n",
            "  Downloading emoji-1.7.0.tar.gz (175 kB)\n",
            "\u001b[K     |████████████████████████████████| 175 kB 36.2 MB/s \n",
            "\u001b[?25hRequirement already satisfied: numpy in /usr/local/lib/python3.7/dist-packages (from stanza) (1.21.5)\n",
            "Requirement already satisfied: torch>=1.3.0 in /usr/local/lib/python3.7/dist-packages (from stanza) (1.10.0+cu111)\n",
            "Requirement already satisfied: protobuf in /usr/local/lib/python3.7/dist-packages (from stanza) (3.17.3)\n",
            "Requirement already satisfied: requests in /usr/local/lib/python3.7/dist-packages (from stanza) (2.23.0)\n",
            "Requirement already satisfied: tqdm in /usr/local/lib/python3.7/dist-packages (from stanza) (4.63.0)\n",
            "Requirement already satisfied: six in /usr/local/lib/python3.7/dist-packages (from stanza) (1.15.0)\n",
            "Requirement already satisfied: typing-extensions in /usr/local/lib/python3.7/dist-packages (from torch>=1.3.0->stanza) (3.10.0.2)\n",
            "Requirement already satisfied: idna<3,>=2.5 in /usr/local/lib/python3.7/dist-packages (from requests->stanza) (2.10)\n",
            "Requirement already satisfied: chardet<4,>=3.0.2 in /usr/local/lib/python3.7/dist-packages (from requests->stanza) (3.0.4)\n",
            "Requirement already satisfied: urllib3!=1.25.0,!=1.25.1,<1.26,>=1.21.1 in /usr/local/lib/python3.7/dist-packages (from requests->stanza) (1.24.3)\n",
            "Requirement already satisfied: certifi>=2017.4.17 in /usr/local/lib/python3.7/dist-packages (from requests->stanza) (2021.10.8)\n",
            "Building wheels for collected packages: emoji\n",
            "  Building wheel for emoji (setup.py) ... \u001b[?25l\u001b[?25hdone\n",
            "  Created wheel for emoji: filename=emoji-1.7.0-py3-none-any.whl size=171046 sha256=4d10e2ba0b1a96cf70b193f541c6363e183497145a4ce86d91c425f97a80b41e\n",
            "  Stored in directory: /root/.cache/pip/wheels/8a/4e/b6/57b01db010d17ef6ea9b40300af725ef3e210cb1acfb7ac8b6\n",
            "Successfully built emoji\n",
            "Installing collected packages: emoji, stanza\n",
            "Successfully installed emoji-1.7.0 stanza-1.3.0\n"
          ]
        }
      ]
    },
    {
      "cell_type": "code",
      "source": [
        "# Installo spacy-stanza\n",
        "!pip install spacy_stanza"
      ],
      "metadata": {
        "colab": {
          "base_uri": "https://localhost:8080/"
        },
        "id": "HSB_uhcD-CWE",
        "outputId": "bca28810-869a-4be2-c921-c8ad92f88695"
      },
      "execution_count": null,
      "outputs": [
        {
          "output_type": "stream",
          "name": "stdout",
          "text": [
            "Collecting spacy_stanza\n",
            "  Downloading spacy_stanza-1.0.1-py3-none-any.whl (9.7 kB)\n",
            "Requirement already satisfied: stanza<1.4.0,>=1.2.0 in /usr/local/lib/python3.7/dist-packages (from spacy_stanza) (1.3.0)\n",
            "Collecting spacy<4.0.0,>=3.0.0\n",
            "  Downloading spacy-3.2.3-cp37-cp37m-manylinux_2_17_x86_64.manylinux2014_x86_64.whl (6.0 MB)\n",
            "\u001b[K     |████████████████████████████████| 6.0 MB 5.5 MB/s \n",
            "\u001b[?25hRequirement already satisfied: packaging>=20.0 in /usr/local/lib/python3.7/dist-packages (from spacy<4.0.0,>=3.0.0->spacy_stanza) (21.3)\n",
            "Requirement already satisfied: wasabi<1.1.0,>=0.8.1 in /usr/local/lib/python3.7/dist-packages (from spacy<4.0.0,>=3.0.0->spacy_stanza) (0.9.0)\n",
            "Collecting srsly<3.0.0,>=2.4.1\n",
            "  Downloading srsly-2.4.2-cp37-cp37m-manylinux_2_17_x86_64.manylinux2014_x86_64.whl (451 kB)\n",
            "\u001b[K     |████████████████████████████████| 451 kB 39.9 MB/s \n",
            "\u001b[?25hCollecting langcodes<4.0.0,>=3.2.0\n",
            "  Downloading langcodes-3.3.0-py3-none-any.whl (181 kB)\n",
            "\u001b[K     |████████████████████████████████| 181 kB 45.2 MB/s \n",
            "\u001b[?25hCollecting typer<0.5.0,>=0.3.0\n",
            "  Downloading typer-0.4.0-py3-none-any.whl (27 kB)\n",
            "Collecting pydantic!=1.8,!=1.8.1,<1.9.0,>=1.7.4\n",
            "  Downloading pydantic-1.8.2-cp37-cp37m-manylinux2014_x86_64.whl (10.1 MB)\n",
            "\u001b[K     |████████████████████████████████| 10.1 MB 8.2 MB/s \n",
            "\u001b[?25hCollecting catalogue<2.1.0,>=2.0.6\n",
            "  Downloading catalogue-2.0.7-py3-none-any.whl (17 kB)\n",
            "Requirement already satisfied: blis<0.8.0,>=0.4.0 in /usr/local/lib/python3.7/dist-packages (from spacy<4.0.0,>=3.0.0->spacy_stanza) (0.4.1)\n",
            "Collecting spacy-legacy<3.1.0,>=3.0.8\n",
            "  Downloading spacy_legacy-3.0.9-py2.py3-none-any.whl (20 kB)\n",
            "Collecting thinc<8.1.0,>=8.0.12\n",
            "  Downloading thinc-8.0.15-cp37-cp37m-manylinux_2_17_x86_64.manylinux2014_x86_64.whl (653 kB)\n",
            "\u001b[K     |████████████████████████████████| 653 kB 37.9 MB/s \n",
            "\u001b[?25hRequirement already satisfied: typing-extensions<4.0.0.0,>=3.7.4 in /usr/local/lib/python3.7/dist-packages (from spacy<4.0.0,>=3.0.0->spacy_stanza) (3.10.0.2)\n",
            "Collecting spacy-loggers<2.0.0,>=1.0.0\n",
            "  Downloading spacy_loggers-1.0.1-py3-none-any.whl (7.0 kB)\n",
            "Requirement already satisfied: preshed<3.1.0,>=3.0.2 in /usr/local/lib/python3.7/dist-packages (from spacy<4.0.0,>=3.0.0->spacy_stanza) (3.0.6)\n",
            "Requirement already satisfied: setuptools in /usr/local/lib/python3.7/dist-packages (from spacy<4.0.0,>=3.0.0->spacy_stanza) (57.4.0)\n",
            "Requirement already satisfied: jinja2 in /usr/local/lib/python3.7/dist-packages (from spacy<4.0.0,>=3.0.0->spacy_stanza) (2.11.3)\n",
            "Requirement already satisfied: murmurhash<1.1.0,>=0.28.0 in /usr/local/lib/python3.7/dist-packages (from spacy<4.0.0,>=3.0.0->spacy_stanza) (1.0.6)\n",
            "Requirement already satisfied: requests<3.0.0,>=2.13.0 in /usr/local/lib/python3.7/dist-packages (from spacy<4.0.0,>=3.0.0->spacy_stanza) (2.23.0)\n",
            "Requirement already satisfied: tqdm<5.0.0,>=4.38.0 in /usr/local/lib/python3.7/dist-packages (from spacy<4.0.0,>=3.0.0->spacy_stanza) (4.63.0)\n",
            "Collecting pathy>=0.3.5\n",
            "  Downloading pathy-0.6.1-py3-none-any.whl (42 kB)\n",
            "\u001b[K     |████████████████████████████████| 42 kB 407 kB/s \n",
            "\u001b[?25hRequirement already satisfied: numpy>=1.15.0 in /usr/local/lib/python3.7/dist-packages (from spacy<4.0.0,>=3.0.0->spacy_stanza) (1.21.5)\n",
            "Requirement already satisfied: cymem<2.1.0,>=2.0.2 in /usr/local/lib/python3.7/dist-packages (from spacy<4.0.0,>=3.0.0->spacy_stanza) (2.0.6)\n",
            "Requirement already satisfied: zipp>=0.5 in /usr/local/lib/python3.7/dist-packages (from catalogue<2.1.0,>=2.0.6->spacy<4.0.0,>=3.0.0->spacy_stanza) (3.7.0)\n",
            "Requirement already satisfied: pyparsing!=3.0.5,>=2.0.2 in /usr/local/lib/python3.7/dist-packages (from packaging>=20.0->spacy<4.0.0,>=3.0.0->spacy_stanza) (3.0.7)\n",
            "Requirement already satisfied: smart-open<6.0.0,>=5.0.0 in /usr/local/lib/python3.7/dist-packages (from pathy>=0.3.5->spacy<4.0.0,>=3.0.0->spacy_stanza) (5.2.1)\n",
            "Requirement already satisfied: chardet<4,>=3.0.2 in /usr/local/lib/python3.7/dist-packages (from requests<3.0.0,>=2.13.0->spacy<4.0.0,>=3.0.0->spacy_stanza) (3.0.4)\n",
            "Requirement already satisfied: urllib3!=1.25.0,!=1.25.1,<1.26,>=1.21.1 in /usr/local/lib/python3.7/dist-packages (from requests<3.0.0,>=2.13.0->spacy<4.0.0,>=3.0.0->spacy_stanza) (1.24.3)\n",
            "Requirement already satisfied: certifi>=2017.4.17 in /usr/local/lib/python3.7/dist-packages (from requests<3.0.0,>=2.13.0->spacy<4.0.0,>=3.0.0->spacy_stanza) (2021.10.8)\n",
            "Requirement already satisfied: idna<3,>=2.5 in /usr/local/lib/python3.7/dist-packages (from requests<3.0.0,>=2.13.0->spacy<4.0.0,>=3.0.0->spacy_stanza) (2.10)\n",
            "Requirement already satisfied: emoji in /usr/local/lib/python3.7/dist-packages (from stanza<1.4.0,>=1.2.0->spacy_stanza) (1.7.0)\n",
            "Requirement already satisfied: torch>=1.3.0 in /usr/local/lib/python3.7/dist-packages (from stanza<1.4.0,>=1.2.0->spacy_stanza) (1.10.0+cu111)\n",
            "Requirement already satisfied: protobuf in /usr/local/lib/python3.7/dist-packages (from stanza<1.4.0,>=1.2.0->spacy_stanza) (3.17.3)\n",
            "Requirement already satisfied: six in /usr/local/lib/python3.7/dist-packages (from stanza<1.4.0,>=1.2.0->spacy_stanza) (1.15.0)\n",
            "Requirement already satisfied: click<9.0.0,>=7.1.1 in /usr/local/lib/python3.7/dist-packages (from typer<0.5.0,>=0.3.0->spacy<4.0.0,>=3.0.0->spacy_stanza) (7.1.2)\n",
            "Requirement already satisfied: MarkupSafe>=0.23 in /usr/local/lib/python3.7/dist-packages (from jinja2->spacy<4.0.0,>=3.0.0->spacy_stanza) (2.0.1)\n",
            "Installing collected packages: catalogue, typer, srsly, pydantic, thinc, spacy-loggers, spacy-legacy, pathy, langcodes, spacy, spacy-stanza\n",
            "  Attempting uninstall: catalogue\n",
            "    Found existing installation: catalogue 1.0.0\n",
            "    Uninstalling catalogue-1.0.0:\n",
            "      Successfully uninstalled catalogue-1.0.0\n",
            "  Attempting uninstall: srsly\n",
            "    Found existing installation: srsly 1.0.5\n",
            "    Uninstalling srsly-1.0.5:\n",
            "      Successfully uninstalled srsly-1.0.5\n",
            "  Attempting uninstall: thinc\n",
            "    Found existing installation: thinc 7.4.0\n",
            "    Uninstalling thinc-7.4.0:\n",
            "      Successfully uninstalled thinc-7.4.0\n",
            "  Attempting uninstall: spacy\n",
            "    Found existing installation: spacy 2.2.4\n",
            "    Uninstalling spacy-2.2.4:\n",
            "      Successfully uninstalled spacy-2.2.4\n",
            "Successfully installed catalogue-2.0.7 langcodes-3.3.0 pathy-0.6.1 pydantic-1.8.2 spacy-3.2.3 spacy-legacy-3.0.9 spacy-loggers-1.0.1 spacy-stanza-1.0.1 srsly-2.4.2 thinc-8.0.15 typer-0.4.0\n"
          ]
        }
      ]
    },
    {
      "cell_type": "code",
      "source": [
        "!pip install unidecode"
      ],
      "metadata": {
        "colab": {
          "base_uri": "https://localhost:8080/"
        },
        "id": "RGBCPU_BbQV3",
        "outputId": "6c850736-56b1-4a32-8bac-8bc9752c11d5"
      },
      "execution_count": null,
      "outputs": [
        {
          "output_type": "stream",
          "name": "stdout",
          "text": [
            "Collecting unidecode\n",
            "  Downloading Unidecode-1.3.4-py3-none-any.whl (235 kB)\n",
            "\u001b[?25l\r\u001b[K     |█▍                              | 10 kB 16.1 MB/s eta 0:00:01\r\u001b[K     |██▉                             | 20 kB 8.7 MB/s eta 0:00:01\r\u001b[K     |████▏                           | 30 kB 5.9 MB/s eta 0:00:01\r\u001b[K     |█████▋                          | 40 kB 5.6 MB/s eta 0:00:01\r\u001b[K     |███████                         | 51 kB 4.3 MB/s eta 0:00:01\r\u001b[K     |████████▍                       | 61 kB 5.0 MB/s eta 0:00:01\r\u001b[K     |█████████▊                      | 71 kB 5.3 MB/s eta 0:00:01\r\u001b[K     |███████████▏                    | 81 kB 4.9 MB/s eta 0:00:01\r\u001b[K     |████████████▌                   | 92 kB 5.4 MB/s eta 0:00:01\r\u001b[K     |██████████████                  | 102 kB 5.3 MB/s eta 0:00:01\r\u001b[K     |███████████████▎                | 112 kB 5.3 MB/s eta 0:00:01\r\u001b[K     |████████████████▊               | 122 kB 5.3 MB/s eta 0:00:01\r\u001b[K     |██████████████████              | 133 kB 5.3 MB/s eta 0:00:01\r\u001b[K     |███████████████████▌            | 143 kB 5.3 MB/s eta 0:00:01\r\u001b[K     |████████████████████▉           | 153 kB 5.3 MB/s eta 0:00:01\r\u001b[K     |██████████████████████▎         | 163 kB 5.3 MB/s eta 0:00:01\r\u001b[K     |███████████████████████▋        | 174 kB 5.3 MB/s eta 0:00:01\r\u001b[K     |█████████████████████████       | 184 kB 5.3 MB/s eta 0:00:01\r\u001b[K     |██████████████████████████▍     | 194 kB 5.3 MB/s eta 0:00:01\r\u001b[K     |███████████████████████████▉    | 204 kB 5.3 MB/s eta 0:00:01\r\u001b[K     |█████████████████████████████▏  | 215 kB 5.3 MB/s eta 0:00:01\r\u001b[K     |██████████████████████████████▋ | 225 kB 5.3 MB/s eta 0:00:01\r\u001b[K     |████████████████████████████████| 235 kB 5.3 MB/s eta 0:00:01\r\u001b[K     |████████████████████████████████| 235 kB 5.3 MB/s \n",
            "\u001b[?25hInstalling collected packages: unidecode\n",
            "Successfully installed unidecode-1.3.4\n"
          ]
        }
      ]
    },
    {
      "cell_type": "code",
      "metadata": {
        "id": "kCED1hh-Ioyf",
        "colab": {
          "base_uri": "https://localhost:8080/"
        },
        "outputId": "2ebc7971-daca-44a2-c02b-09594f7441e5"
      },
      "source": [
        "import json\n",
        "import string\n",
        "import random\n",
        "import re\n",
        "import urllib.request\n",
        "import unidecode\n",
        "\n",
        "import numpy as np\n",
        "import tensorflow as tf \n",
        "from tensorflow.keras import Sequential \n",
        "from tensorflow.keras.layers import Dense, Dropout\n",
        "\n",
        "# Para leer y parsear el texto en HTML de wikipedia\n",
        "import bs4 as bs\n",
        "import nltk\n",
        "\n",
        "import stanza\n",
        "import spacy_stanza\n",
        "import spacy\n",
        "\n",
        "nltk.download('punkt')\n",
        "nltk.download('wordnet')\n",
        "\n",
        "import warnings\n",
        "warnings.filterwarnings('ignore')"
      ],
      "execution_count": null,
      "outputs": [
        {
          "output_type": "stream",
          "name": "stdout",
          "text": [
            "[nltk_data] Downloading package punkt to /root/nltk_data...\n",
            "[nltk_data]   Package punkt is already up-to-date!\n",
            "[nltk_data] Downloading package wordnet to /root/nltk_data...\n",
            "[nltk_data]   Package wordnet is already up-to-date!\n"
          ]
        }
      ]
    },
    {
      "cell_type": "code",
      "source": [
        "# Descargo diccionarios para stanza en español:\n",
        "stanza.download(\"es\")\n",
        "\n",
        "#LInicializo el lematizador de stanza\n",
        "nlp = spacy_stanza.load_pipeline(\"es\")"
      ],
      "metadata": {
        "colab": {
          "base_uri": "https://localhost:8080/",
          "height": 448,
          "referenced_widgets": [
            "eecbe330b6d048ba98d3e59575e86667",
            "b4f22bcb2c424b5d93ac5513e7e1d624",
            "d8d6823977664b6e8aaf2c2eb6cfd1a5",
            "559953f948d4464f985e9a7ada5d5875",
            "cdc1b722450849a88cc89e52b409210e",
            "d099de83a3314fb0a4bc70004dfbc7f5",
            "c7858e9e4f7f4c28b2a26a3a9fdb22e7",
            "32ed7ee980f74e52a45f244716141403",
            "a19393a193514c829e72e1a27191700a",
            "d42884edc1bc44b9a55f2342aecd60ca",
            "7800ee8ff5404b3b909afb914987e547"
          ]
        },
        "id": "4HNOM6RUUCiN",
        "outputId": "9db16d63-b963-49ea-9d1e-44e2ec924bd1"
      },
      "execution_count": null,
      "outputs": [
        {
          "output_type": "display_data",
          "data": {
            "text/plain": [
              "Downloading https://raw.githubusercontent.com/stanfordnlp/stanza-resources/main/resources_1.3.0.json:   0%|   …"
            ],
            "application/vnd.jupyter.widget-view+json": {
              "version_major": 2,
              "version_minor": 0,
              "model_id": "eecbe330b6d048ba98d3e59575e86667"
            }
          },
          "metadata": {}
        },
        {
          "output_type": "stream",
          "name": "stderr",
          "text": [
            "2022-03-23 20:27:43 INFO: Downloading default packages for language: es (Spanish)...\n",
            "2022-03-23 20:27:44 INFO: File exists: /root/stanza_resources/es/default.zip.\n",
            "2022-03-23 20:27:51 INFO: Finished downloading models and saved to /root/stanza_resources.\n",
            "2022-03-23 20:27:51 INFO: Loading these models for language: es (Spanish):\n",
            "=======================\n",
            "| Processor | Package |\n",
            "-----------------------\n",
            "| tokenize  | ancora  |\n",
            "| mwt       | ancora  |\n",
            "| pos       | ancora  |\n",
            "| lemma     | ancora  |\n",
            "| depparse  | ancora  |\n",
            "| ner       | conll02 |\n",
            "=======================\n",
            "\n",
            "2022-03-23 20:27:51 INFO: Use device: gpu\n",
            "2022-03-23 20:27:51 INFO: Loading: tokenize\n",
            "2022-03-23 20:27:51 INFO: Loading: mwt\n",
            "2022-03-23 20:27:51 INFO: Loading: pos\n",
            "2022-03-23 20:27:51 INFO: Loading: lemma\n",
            "2022-03-23 20:27:51 INFO: Loading: depparse\n",
            "2022-03-23 20:27:52 INFO: Loading: ner\n",
            "2022-03-23 20:27:53 INFO: Done loading processors!\n"
          ]
        }
      ]
    },
    {
      "cell_type": "markdown",
      "metadata": {
        "id": "DMOa4JPSCJ29"
      },
      "source": [
        "### Datos\n",
        "Se consumira los datos del artículo de wikipedia sobre el covid en español"
      ]
    },
    {
      "cell_type": "code",
      "metadata": {
        "id": "RIO7b8GjAC17"
      },
      "source": [
        "raw_html = urllib.request.urlopen('https://es.wikipedia.org/wiki/COVID-19')\n",
        "raw_html = raw_html.read()\n",
        "\n",
        "article_html = bs.BeautifulSoup(raw_html, 'lxml')\n",
        "\n",
        "article_paragraphs = article_html.find_all('p')\n",
        "\n",
        "article_text = ''\n",
        "\n",
        "for para in article_paragraphs:\n",
        "    article_text += para.text\n",
        "\n",
        "article_text = article_text.lower()"
      ],
      "execution_count": null,
      "outputs": []
    },
    {
      "cell_type": "code",
      "metadata": {
        "id": "pUH30a1_rOkS",
        "colab": {
          "base_uri": "https://localhost:8080/",
          "height": 105
        },
        "outputId": "1f544426-2a0b-497e-b853-4d1c24c26e61"
      },
      "source": [
        "# Demos un vistazo\n",
        "article_text"
      ],
      "execution_count": null,
      "outputs": [
        {
          "output_type": "execute_result",
          "data": {
            "text/plain": [
              "'la enfermedad por coronavirus de 2019,[3]\\u200b más conocida como covid-19, covid-19[nota 1]\\u200b o covid, e incorrectamente llamada neumonía por coronavirus, coronavirus[nota 2]\\u200b o corona, es una enfermedad infecciosa causada por el sars-cov-2.[11]\\u200b[12]\\u200b \\nproduce síntomas que incluyen fiebre, tos,[13]\\u200b disnea (dificultad respiratoria), mialgia (dolor muscular)[14]\\u200by fatiga.[15]\\u200b[16]\\u200b en casos graves se caracteriza por producir neumonía, síndrome de dificultad respiratoria aguda,[17]\\u200b sepsis[18]\\u200b y choque circulatorio. choque séptico es la forma más común en estos casos, pero los otros tipos también pueden ocurrir. por ejemplo, choque obstructivo puede resultar de embolia pulmonar, una complicación de covid-19.[19]\\u200b según la oms, la infección es mortal entre el 0,5\\xa0% y el 1\\xa0% de los casos.[20]\\u200b no existe tratamiento específico; las medidas terapéuticas principales consisten en aliviar los síntomas y mantener las funciones vitales.[15]\\u200b\\nla transmisión del sars-cov-2 se produce mediante pequeñas gotas —microgotas de flügge[21]\\u200b— que se emiten al hablar, estornudar, toser o espirar, que al ser despedidas por un portador (que puede no tener síntomas de la enfermedad o estar incubándola)[22]\\u200b pasan directamente a otra persona mediante la inhalación, o quedan sobre los objetos y superficies que rodean al emisor, y luego, a través de las manos, que lo recogen del ambiente contaminado, toman contacto con las membranas mucosas orales, nasales y oculares, al tocarse la boca, la nariz o los ojos.[23]\\u200b[24]\\u200b también está documentada la transmisión por aerosoles ( < 5μm).[25]\\u200b[26]\\u200b la propagación mediante superficies contaminadas o fómites (cualquier objeto carente de vida, o sustancia, que si se contamina con algún patógeno es capaz de transferirlo de un individuo a otro) no contribuye sustancialmente a nuevas infecciones.[27]\\u200b\\nlos síntomas aparecen entre dos y catorce días (período de incubación), con un promedio de cinco días, después de la exposición al virus.[28]\\u200b[29]\\u200b[30]\\u200b[31]\\u200b existe evidencia limitada que sugiere que el virus podría transmitirse uno o dos días antes de que se tengan síntomas, ya que la viremia alcanza un pico al final del período de incubación.[32]\\u200b[33]\\u200b \\nel contagio se puede prevenir con el lavado de manos frecuente, o en su defecto la desinfección de las mismas con alcohol en gel, cubriendo la boca al toser o estornudar, ya sea con la sangradura (parte hundida del brazo opuesta al codo) o con un pañuelo y evitando el contacto cercano con otras personas,[23]\\u200b entre otras medidas profilácticas, como el uso de mascarillas. la oms desaconsejaba en marzo la utilización de máscara quirúrgica por la población sana,[34]\\u200b[35]\\u200b en abril la oms consideró que era una medida aceptable en algunos países.[36]\\u200b\\nno obstante, ciertos expertos recomiendan el uso de máscaras quirúrgicas basados en estudios sobre la influenza h1n1, donde muestran que podrían ayudar a reducir la exposición al virus.[37]\\u200b los centros para el control y prevención de enfermedades (cdc) de estados unidos recomiendan el uso de mascarillas de tela, no médicas.[38]\\u200b recomendación de los cdc (febrero de 2021)[39]\\u200b\\nel 12 de enero de 2020, la organización mundial de la salud (oms) recibió el genoma secuenciado[40]\\u200b del nuevo virus causante de la enfermedad y lo nombró temporalmente 2019-ncov, del inglés 2019-novel coronavirus (nuevo coronavirus), mientras que la enfermedad era llamada «infección por 2019-ncov» en documentos médicos,[41]\\u200b[42]\\u200b y sars de wuhan o wu flu (gripe de wu) en internet.[43]\\u200b[44]\\u200b el 30 de enero, la oms recomendó que el nombre provisorio de la enfermedad fuera \"enfermedad respiratoria aguda por 2019-ncov\", hasta que la clasificación internacional de enfermedades diera un nombre oficial.[45]\\u200b a pesar de esta recomendación, los medios y agencias de noticias continuaron usando la denominación neumonía de wuhan para referirse a la enfermedad.[46]\\u200b[47]\\u200b[48]\\u200b\\nla oms anunció el 11 de febrero de 2020 que covid-19 sería el nombre oficial de la enfermedad.[49]\\u200b el nombre es un acrónimo de coronavirus disease 2019 (enfermedad por coronavirus 2019, en español). se procuró que la denominación no contuviera nombres de personas o referencias a ningún lugar, especie animal, tipo de comida, industria, cultura o grupo de personas, en línea con las recomendaciones internacionales, para evitar que hubiera estigmatización contra algún colectivo.[50]\\u200b[51]\\u200b\\nen español, el género de la denominación de la enfermedad puede ser tanto femenino como masculino; sin embargo, el femenino fue desde un principio el preferido por la fundéu bbva y, posteriormente, por la real academia española (rae): la covid-19, debido a que «covid-19» es el acrónimo en inglés de enfermedad por coronavirus de 2019, donde enfermedad (palabra representada por la letra d, elemento principal del acrónimo) solo puede ser femenino en la lengua española.[6]\\u200b aunque es el femenino el que utiliza la oms en todos sus escritos, el uso del masculino se halla más estandarizado en el discurso público, según la rae, por influencia del género de coronavirus y de otras enfermedades víricas: el dengue, el mers, el sars, el zika, y otras.[52]\\u200b la fundéu bbva también señala que se puede lexicalizar el nombre de la enfermedad en textos generales, escribiéndolo todo en minúsculas (covid-19) por tratarse de un sustantivo, en lugar de mayúscula inicial (covid-19), como se usa en algunos escritos;[6]\\u200b y que no es infrecuente ni incorrecto usar solo el primer lexema de esta palabra compuesta (covid en lugar de covid-19). esta simplificación se explicaría por el fenómeno de la economía lingüística, especialmente en el registro informal y discurso hablado.\\ncuando se la escribe con dígitos («covid-19» en vez de «covid»), el uso del guion es obligatorio en español (es incorrecto «covid19» —todo junto— o «covid 19» —con espacio), ya que lo posee en la denominación oficial, y, además, la lengua española tiene la costumbre de separar las palabras que se componen de letras y números. esto último lo lleva a cabo con un guion. [53]\\u200b\\nrespecto a su acentuación, ambas instituciones indican que el uso mayoritario del primer lexema de la palabra es agudo /ko\\'βið/ (covid-19) —y que la voz es, de hecho, aguda en español—, por lo que solo una población minoritaria de hispanohablantes la acentúan como llana /\\'ko.βið/, por influencia del inglés, lengua de origen del término (covid-19).[54]\\u200b[55]\\u200b\\nel nombre completo de la enfermedad ha de leerse preferentemente como: [ko\\'βið.dje.si\\'nwe.βe] en zonas de seseo, y como: [ko\\'βið.dje.θi\\'nwe.βe] en zonas no seseantes.\\nen diciembre de 2019 hubo un brote epidémico de neumonía de causa desconocida en wuhan, provincia de hubei, china; el cual, según afirmó más tarde reporteros sin fronteras, llegó a afectar a más de 60 personas el día 20 de ese mes.\\nsegún el centro chino para el control y prevención de enfermedades (ccdc), el 29 de diciembre un hospital en wuhan (hospital provincial de medicina integrada tradicional china y occidental, también conocido como el hospital de xinhua,) admitió a 4 individuos con neumonía, quienes trabajaban en un mercado de esa ciudad. el hospital informó esto al ccdc, cuyo equipo en la ciudad inició una investigación. el equipo encontró más casos relacionados al mercado y el 30 de diciembre las autoridades de salud de wuhan comunicaron los casos al ccdc, que envió expertos a wuhan para apoyar la investigación. se obtuvieron muestras de estos pacientes para realizar análisis de laboratorio.[56]\\u200b\\nel 31 de diciembre, el comité de salud municipal de wuhan informó a la organización mundial de la salud (oms) que 27 personas habían sido diagnosticadas con neumonía de causa desconocida, habiendo 7 en estado crítico; la mayoría de estos casos eran trabajadores del mencionado mercado.[57]\\u200b para el 1 de enero de 2020, el mercado había sido cerrado y se había descartado que el causante de la neumonía fuera el sars, el mers, gripe, gripe aviaria u otras enfermedades respiratorias comunes causadas por virus.[41]\\u200b\\nel 7 de enero de 2020 los científicos chinos habían aislado el virus causante de la enfermedad, y realizaron la secuenciación del genoma. esta secuenciación estuvo disponible para la oms el 12 de enero de 2020, permitiendo a los laboratorios de diferentes países producir diagnósticos específicos vía pruebas de pcr.[41]\\u200b\\nel 12 de enero de 2020, las autoridades chinas habían confirmado la existencia de 41 personas infectadas con el nuevo virus, quienes comenzaron a sentir síntomas entre el 8 de diciembre de 2019 y el 2 de enero de 2020, los cuales incluían: fiebre, malestar, tos seca, dificultad para respirar y fallos respiratorios;[41]\\u200b también se observaron infiltrados neumónicos invasivos en ambos pulmones observables en las radiografías de tórax.[42]\\u200b\\ntras el primer brote de covid-19 en wuhan en diciembre de 2019, donde las autoridades chinas confirmaron 41 casos detectados entre el 8 de diciembre y el 2 de enero de 2020,[42]\\u200b la ciudad dejó de informar casos hasta el 19 de enero, cuando se confirmaron 17 casos más. para ese entonces ya se habían comunicado los primeros casos por covid-19 fuera de china: dos en tailandia y uno en japón.[58]\\u200b \\nla rápida expansión de la enfermedad hizo que la organización mundial de la salud, el 30 de enero de 2020, la declarara una emergencia sanitaria de preocupación internacional, basándose en el impacto que el virus podría tener en países subdesarrollados con menos infraestructuras sanitarias.[59]\\u200b en esa fecha, la enfermedad se había detectado en todas las provincias de china continental,[60]\\u200b y se diagnosticaban casos en otros 15 países.\\nel 11 de marzo la enfermedad se hallaba ya en más de 100 territorios a nivel mundial, y fue reconocida como una pandemia por la oms.[61]\\u200b el número de casos confirmados continuó creciendo hasta alcanzar los 500\\xa0mil casos a nivel mundial el 26 de marzo de 2020.[62]\\u200b\\npara prevenir la expansión del virus, los gobiernos han impuesto restricciones de viajes, cuarentenas, confinamientos, aislamiento social, cancelación de eventos, y cierre de establecimientos. la pandemia está teniendo un efecto socioeconómico disruptivo,[63]\\u200b y el miedo a la escasez de provisiones ha llevado a compras de pánico. ha habido desinformación y teorías conspirativas difundidas en línea sobre el virus,[64]\\u200b[65]\\u200b e incidentes de xenofobia y racismo contra los ciudadanos chinos y de otros países del este y sudeste asiático.[66]\\u200b\\nse ha comprobado que las cuarentenas, restricciones al tráfico de personas y los aislamientos que se están dando a causa de la pandemia tienen efectos psicológicos negativos.[67]\\u200b a finales de enero, la comisión nacional de salud de china publicó una guía de manejo de las crisis psicológicas, en la que propugnaba la intervención de las personas afectadas, contactos cercanos, los encerrados en sus hogares, los familiares y amigos de los pacientes, personal sanitario y el público general que lo requiriera.[68]\\u200b[69]\\u200b según estudios realizados en 2020, se confirma que ha afectado en mayor medida a la salud mental de las mujeres que a la de los hombres. entre los motivos se encuentra el aumento de la violencia de género y su situación socioeconómica más precaria. buena parte de las mujeres trabajan en el sector de la restauración y del turismo, de los más afectados por la pandemia, además de ser las principales cuidadoras de personas enfermas, de niños y de personas de la tercera edad.[70]\\u200b[71]\\u200b\\nel aislamiento ha provocado que muchos enfermos no puedan continuar con sus tratamientos, agravando sus problemas de salud. en estos escenarios, las mujeres, ya sean familiares o cuidadoras, suelen tener un papel fundamental.[72]\\u200b\\nen esta enfermedad se describe un \"triángulo epidemiológico causal\" que está formado por: el medio ambiente, el agente etiológico (el virus sars-cov-2) y el huésped.\\nlas rutas de transmisión de persona a persona del\\xa0agente etiológico sars-cov-2 incluyen la transmisión directa por inhalación de microgotas y aerosoles liberadas a través de tos, estornudos, la respiración, el habla, los gritos o el canto,[21]\\u200b[73]\\u200b[74]\\u200b o por contacto de las manos con superficies contaminadas, que luego tocan las membranas mucosas orales, nasales u oculares.[75]\\u200b también se puede transmitir a través de la saliva, y posiblemente por la ruta fecal-oral.[24]\\u200b\\nun estudio con 2143 niños sugiere que este grupo de la población puede ser un factor crítico en la rápida propagación de la enfermedad.[76]\\u200b\\nla gente vacunada todavía puede transmitir la covid, aunque es más difícil.[77]\\u200b así que los vacunados todavía deben realizar resoluciones preventivas (lavarse las manos con jabón, ponerse mascarilla, mantener la distancia social, etc.) para que la enfermedad no se propague, especialmente hacia gente vulnerable.\\nde acuerdo con los estudio publicados en las revistas científicas new england journal of medicine (el 17 de marzo de 2020) y the lancet microbe (2 de abril), la persistencia en las distintas superficies es la siguiente:[78]\\u200b \\nla organización mundial de la salud recomienda por este motivo que se desinfecten las superficies, especialmente en el entorno sanitario. fuera de este, el rol que puede tener la transmisión por fómites es desconocido, pero menos importante que cuando se produce por contacto estrecho con una persona infectada.[79]\\u200b\\nactualmente, son muchos los estudios que se centran en evaluar la posible transmisión vertical.[80]\\u200b hasta el momento, las pruebas que se han realizado descartan la presencia de sars-cov-2 en el líquido amniótico, en la sangre de cordón umbilical y en la leche materna.[80]\\u200b\\nsin embargo, aún es muy temprano para saber con certeza si la transmisión vertical puede presentarse o no, puesto que existen casos en los se ha demostrado la presencia de anticuerpos en neonatos nacidos de madres portadoras del virus.[80]\\u200b por tanto, aunque es cierto que esta evidencia proviene de un número pequeño de casos, esto demuestra aún más la posibilidad de transmisión vertical.[80]\\u200b \\nen cuanto a la lactancia materna, no se ha conseguido evidenciar la presencia de sars-cov-2 en la leche materna de pacientes infectadas.[80]\\u200b por consiguiente, al no existir riesgo de contagio a través de la leche materna, no se contraindica la lactancia materna en las pacientes infectadas siempre que se tomen las medidas de higiene necesarias, entre ellas, el lavado de manos y el uso correcto de la mascarilla.[80]\\u200b \\nel número reproductivo r0 es el número promedio de nuevos contagios que una persona infectada puede generar; cuanto mayor es este, mayor es el potencial pandémico de una enfermedad. la academia china de las ciencias estimó en febrero de 2020 para la covid-19, un número reproductivo o r0=4, aunque existe incertidumbre sobre muchos de los factores que se tomaron en consideración para calcular el r0. el imperial college de londres calculó un r0=1,5 a 3,5.[81]\\u200b\\nse llama caso índice o \"paciente cero\" al caso que da lugar a la atención del investigador y origina acciones para conocer un foco de infección; corresponde al primero caso confirmado por la autoridad sanitaria y conduce (indica) hacia un brote localizado.[82]\\u200b[83]\\u200b[84]\\u200b\\na veces el primer caso de covid-19 identificado por el sistema sanitario (caso índice o paciente 0), no coincide con el caso que da origen a la epidemia. el \"caso índice auténtico\" o \"caso primario\" sería el primero que inicia el brote epidémico.[85]\\u200b\\nel agente causal del covid-19 es el virus (sars-cov-2),[11]\\u200b[86]\\u200b que es un tipo de orthocoronavirinae.[6]\\u200b[11]\\u200b fue descubierto y aislado por primera vez en wuhan, china, tras provocar la epidemia de enfermedad por coronavirus de 2019-2020. parece tener un origen zoonótico, es decir, que pasó de un huésped animal (un murciélago) a uno humano.[87]\\u200b el genoma del virus está formado por una sola cadena de arn, y se clasifica como virus arn monocatenario positivo. su secuencia genética se ha aislado a partir de una muestra obtenida de un paciente afectado por neumonía en la ciudad china de wuhan.[88]\\u200b[89]\\u200b[90]\\u200b[91]\\u200b[92]\\u200b\\nel arn del virus sars-cov-2 codifica 4 proteínas estructurales: la proteína s (spike protein), la proteína e (envelope), la proteína m (membrane) y la proteína n (nucleocapsid). la proteína n está en el interior del virión asociada al rna viral, y las otras cuatro proteínas están asociadas a la envoltura viral. la proteína s se ensambla en homotrímeros, y forma estructuras que sobresalen de la envoltura del virus. la proteína s contienen el dominio de unión al receptor celular y por lo tanto es la proteína determinante del tropismo del virus y además es la proteína que tiene la actividad de fusión de la membrana viral con la celular y de esta manera permite liberar el genoma viral en el interior de la célula que va a infectar.[94]\\u200b\\nel sars-cov-2 penetra en la célula empleando como receptor a la enzima convertidora de angiotensina 2 (ace-2 por sus siglas en inglés), una exopeptidasa de membrana presente fundamentalmente en el riñón, los pulmones y el corazón.[95]\\u200b se ha observado que los casos graves de covid-19 presentan niveles de angiotensina ii muy altos. y el nivel de angiotensina ii se ha correlacionado con la carga viral de sars-cov-2 y el daño pulmonar. este desequilibrio del sistema renina-angiotensina-aldosterona podría estar en relación con la inhibición de la enzima convertidora de angiotensina-2 por parte del virus. este mismo mecanismo fue observado en el brote producido por síndrome respiratorio agudo grave en 2003.[94]\\u200b\\nla glicoproteína s de la envoltura del virus interacciona con el receptor celular eca2 (enzima convertidora de angiotensina 2), una proteína de la membrana celular que cataliza la conversión de angiotensia i en el nonapéptido angiotensina 1-9 o de angiotensia ii en angiotensina 1-7. el virus entra por endocitosis. una vez en el endosoma ocurre una bajada de ph mediada por lisosomas, que promueve la fusión de la membrana del endosoma con la envoltura del virus, lo que libera la nucleocápside al citoplasma. proteasas celulares degradan la cápside y el genoma del virus queda libre en el citoplasma. a continuación, al ser un genoma arn sentido positivo, la maquinaria celular traduce directamente a poliproteínas que son procesadas y se forma el complejo de replicación y transcripción. luego se sintetiza la hebra complementaria de arn pre-genómico sentido negativo que servirá como molde para replicar el genoma viral sentido positivo. además, el complejo de replicación y transcripción sintetizará a una serie de arn subgenómicos sentido positivo, más pequeños. estos son los que se traducirán a las proteínas virales. todo este proceso ocurrirá en el citoplasma de la célula. se irán sintetizando las proteínas estructurales que se expresarán en la membrana del retículo endoplasmático. ahí, en el retículo, es donde ocurrirá el ensamblaje. de hecho la envoltura del virus proviene de la membrana del retículo endoplasmático. la partícula viral viajará, a través del sistema de transporte de vesículas celular en el que interviene el aparato de golgi, hasta la superficie. la partícula viral saldrá de la célula por exocitosis. tras una última fase de maduración, en la que intervienen proteasas virales, todos los componentes del virus encajarán, la partícula será infecciosa y podrá comenzar un nuevo ciclo celular.[96]\\u200b\\nel virus puede pasar a través de las mucosas, especialmente la mucosa nasal y laríngea, luego ingresa a los pulmones a través del tracto respiratorio. entonces el virus atacaría a los órganos objetivo que expresan eca2, como los pulmones, el corazón, el sistema renal y tracto gastrointestinal. el virus comienza un segundo ataque, causando que la condición del paciente empeorar alrededor de 7 a 14 días después del inicio. la reducción de linfocitos b puede ocurrir temprano en la enfermedad, que puede afectar la producción de anticuerpos en el paciente. además, los factores inflamatorios asociados con las enfermedades que contienen principalmente il-6 aumentaron significativamente, lo que también contribuyó al agravamiento de la enfermedad alrededor de 2 a 10 días después del inicio. el espectro clínico de covid-19 varía de formas asintomáticas[97]\\u200b a condiciones clínicas caracterizadas por insuficiencia respiratoria severa que requiere ventilación mecánica y apoyo en una unidad de cuidados intensivos (uci), a manifestaciones en varios órganos y sistemas produciendo sepsis, shock séptico y síndrome de disfunción multiorgánica.[94]\\u200b\\nel período de incubación, es decir el tiempo que transcurre desde que una persona se infecta por el virus hasta que presenta síntomas, oscila en general entre los 4 y los 7 días, en el 95\\xa0% de las ocasiones es menor a 12.5 días. los límites extremos se han establecido entre 2 y 14 días después del contagio.[98]\\u200b\\na nivel inmunológico, se ha evidenciado niveles elevados de il-6 y otras citoquinas proinflamatorias en pacientes con covid-19 grave. esta observación, junto con otros parámetros clínicos asociados a casos graves como linfopenia (disminución de linfocitos en sangre) e hiperferritinemia ha llevado a hipotetizar que un subgrupo de pacientes de covid-19 puede sufrir un síndrome de liberación de citoquinas. el síndrome de liberación de citoquinas (crs por sus siglas en inglés), también denominado tormenta de citoquinas, es un síndrome causado por una respuesta inflamatoria sistémica mediada por citoquinas que puede desencadenarse por una variedad de factores como infecciones y algunos medicamentos. las citoquinas son proteínas solubles que actúan sobre las células del sistema inmune y que regulan la activación, proliferación y reclutamiento celular. el síndrome de liberación de citoquinas se produce cuando se activan grandes cantidades de leucocitos (neutrófilos, macrófagos y mastocitos) y liberan grandes cantidades de citoquinas proinflamatorias. el crs se describió inicialmente como un efecto adverso de terapias con anticuerpos monoclonales, y es frecuente también en las terapias con células cart (células t con receptor de antígeno quimérico). las principales citoquinas implicadas en la patogénesis del crs incluyen la interleuquina (il)-6, la il-10, el interferón (ifn), la proteína quimiotáctica de monocitos 1 (mcp1) y el factor estimulante de las colonias de granulocitos-macrófagos (gm-csf); otras citoquinas como el factor de necrosis tumoral (tnf), il-1, il-2, il-2-receptor- e il-8 también se han descrito durante el crs. la patogénesis del crs en pacientes con covid-19 es todavía desconocida. sin embargo, las observaciones clínicas apuntan a que cuando la repuesta inmune no es capaz de controlar eficazmente el virus, como en personas mayores con un sistema inmune debilitado, el virus se propagaría de forma más eficaz produciendo daño en el tejido pulmonar, lo que activaría a los macrófagos y granulocitos y conduciría a la liberación masiva de citoquinas proinflamatorias. esta inflamación pulmonar aumentada estaría asociada al síndrome de dificultad respiratoria aguda (sdra) que se ha descrito como la principal causa de mortalidad por covid-19.[94]\\u200b\\nrespuesta en el embarazo\\nhoy en día, son muchas las incógnitas acerca de la situación de las mujeres embarazadas durante la pandemia del covid-19. debido a que son propensas a sufrir complicaciones e infecciones graves por otros tipos de coronavirus, se les ha considerado como grupo de riesgo y aconsejado que tomen una serie de medidas preventivas adicionales.[99]\\u200b\\nalgunas de las respuestas en el embarazo pueden ser:\\n- inmunológica: al igual que a la de otros virus, la respuesta inmunitaria a la covid-19 dependerá de si se dispone de un sistema inmunitario sano. este se adapta durante el embarazo para permitir el desarrollo de un feto cuya carga genética solo comparte a medias con su madre, lo que conlleva a una reacción inmunitaria diferente frente a las infecciones durante la etapa del embarazo.[100]\\u200b\\n- respiratoria: existen numerosos factores que aumentan la vulnerabilidad de las embarazadas a las infecciones respiratorias graves. dos ejemplos de ello pueden ser la disminución de la capacidad pulmonar y la incapacidad de eliminar las secreciones.[101]\\u200b\\n- coagulación: durante el embarazo, los niveles de coagulación en el sistema circulatorio son elevados, y la patogénesis del sars-cov-2 puede guardar una relación con ello. los eventos tromboembólicos con mortalidad asociada son un riesgo para las embarazadas.[102]\\u200b\\nsin embargo, partiendo de la base de las pruebas actuales, es difícil sacar conclusiones definitivas sobre si las embarazadas corren un mayor riesgo de sufrir consecuencias graves debido a este virus.[103]\\u200b\\nademás, otros ensayos clínicos han demostrado que el sars-cov-2 puede afectar al periodo del embarazo de diferentes formas. por un lado, no existen muchas evidencias acerca de su impacto durante las 12 primeras semanas de gestación. por otro lado, la infección por la covid-19 puede ocasionar consecuencias negativas durante el periodo de embarazo. algunos ejemplos de ello pueden ser la restricción del crecimiento del feto, el nacimiento prematuro y la mortalidad perinatal, es decir, la muerte del feto después de las 22 o 28 semanas completas de embarazo, así como a la muerte de niños recién nacidos con 7 días de vida.[104]\\u200b\\nlas personas infectadas pueden estar asintomáticas o presentar un cortejo de síntomas que oscilan desde leves a muy graves, entre ellos fiebre, disnea[105]\\u200b[106]\\u200b[107]\\u200by tos seca.[13]\\u200bla covid-19 afecta de distintas maneras en función de cada persona. la mayoría de las personas que se contagian presentan síntomas de intensidad leve o moderada, y se recuperan sin necesidad de hospitalización. la diarrea y otros síntomas de rinofaringe, como estornudos, rinorrea y dolor de garganta, son menos frecuentes.[108]\\u200b aunque las personas de avanzada edad son más vulnerables a la enfermedad, a mitad de marzo de 2020, la oms recordó que los jóvenes también pueden tener complicaciones e incluso llegar a la muerte por el virus.[109]\\u200b\\nlos síntomas de la covid-19 son inespecíficos y su presentación, según la oms, puede incluso carecer de síntomas (asintomático). en base a una muestra estadística de 55\\xa0924 casos confirmados por laboratorio, la frecuencia de presentación de los síntomas en la población china era la del cuadro adjunto.[1]\\u200b\\n*(hasta el 20 de febrero de 2020 y en base a 55\\xa0924 casos confirmados por laboratorio).[1]\\u200b\\nse ha informado de la pérdida completa del olfato (anosmia) en un 80\\xa0% de los diagnosticados, llegando a 88\\xa0% los que presentan algún grado de alteración en el gusto.[112]\\u200b otros han registrado la pérdida súbita del olfato y el gusto de forma menos frecuente (sin que la mucosidad fuese la causa).[113]\\u200b[114]\\u200b\\nal principio se informó que los síntomas incluían fiebre en el 90\\xa0% de los casos, malestar y tos seca en el 80\\xa0% de los casos, y dificultades respiratorias en el 20\\xa0% de los casos.[41]\\u200b[115]\\u200b[116]\\u200b[117]\\u200b \\nla revista the lancet publicó el 24 de enero de 2020 un estudio de los primeros 41 casos de pacientes ingresados (en hospital de wuhan) con el diagnóstico confirmado, desde el 16 de diciembre de 2019 al 2 de enero de 2020.[108]\\u200b de ellos, menos de la mitad tenían enfermedades subyacentes, entre ellas diabetes, hipertensión y enfermedad cardiovascular. los síntomas comunes al inicio de la enfermedad fueron fiebre, tos seca y mialgias o fatiga; los síntomas menos comunes fueron la producción de esputo, cefalea, hemoptisis y diarrea. la disnea se desarrolló en 22 de 40 pacientes (55\\xa0%), con una mediana del tiempo desde el inicio de la enfermedad hasta la disnea de ocho días. presentaron linfopenia 26 de 41 pacientes (63\\xa0%). todos los pacientes tuvieron neumonía con hallazgos anormales en la tc de tórax.[118]\\u200b\\nalgunos de los infectados pueden ser asintomáticos y mostrar resultados de la prueba que confirman la infección, pero no muestran síntomas clínicos, por lo que los investigadores han emitido consejos de que las personas con contacto cercano con los pacientes infectados confirmados deben ser monitoreadas y examinadas de cerca para descartar la infección.[119]\\u200b se han descrito alteraciones cutáneas asociadas a covid-19.[120]\\u200b\\nlas complicaciones incluían el síndrome de dificultad respiratoria aguda (resultado positivo para rt-pcr en tiempo real en la muestra de plasma), lesión cardíaca aguda, e infección secundaria. en un estudio de serie de casos publicado en enero de 2020, de 41 pacientes ingresados en un hospital en wuhan por covid-19, 13 fueron ingresados en una uci (32\\xa0%) y seis murieron (15\\xa0%). en un comentario clínico de la misma revista, se presenta una comparación de la presentación clínica frente a otros coronavirus emergentes (sars y mers); entre otros datos clínicos en los casos estudiados por el momento, cabe destacar que los síntomas de las vías respiratorias superiores son notablemente infrecuentes (por ejemplo, ningún paciente presentaba dolor de garganta).[121]\\u200b\\nhay que mencionar que la covid-19 ha tenido consecuencias más graves en los hombres que en las mujeres debido a diferencias biológicas: el sistema inmunitario de la mujer es más potente, algunas enfermedades crónicas son más frecuentes en hombres, etc.[122]\\u200blas complicaciones más frecuentes son neumonía y fallo multiorgánico que en ocasiones provocan la muerte.[41]\\u200b[123]\\u200b en el caso de las mujeres embarazadas, resulta importante destacar que, según los centros para el control y prevención de enfermedades, las mujeres embarazadas tienen mayor riesgo de enfermarse gravemente a causa de la covid-19.[80]\\u200b esto se debe a que las mujeres embarazadas que tienen la covid-19 parecen tener más probabilidad de desarrollar complicaciones respiratorias y obstétricas que pueden provocar un aborto espontáneo, un parto prematuro y una restricción del crecimiento intrauterino (rciu).[80]\\u200b\\nla investigación clínica encontró que se detecta una alta concentración de citoquinas en el plasma de pacientes críticos infectados con sars-cov-2, lo que sugiere que la tormenta de citocinas se asociaba con la gravedad de la enfermedad.[124]\\u200b\\nademás, el covid-19 puede predisponer a la enfermedad tromboembólica arterial y venosa debido a la inflamación excesiva, hipoxia, inmovilización y coagulación intravascular diseminada (cid). sorprendentemente, las complicaciones trombóticas apenas se han descrito. el conocimiento preciso de la aparición de complicaciones trombóticas en pacientes con covid-19 es importante para la toma de decisiones con respecto a la intensidad de la tromboprofilaxis, especialmente en pacientes ingresados en la unidad de cuidados intensivos (uci) que tienen un riesgo trombótico más alto. en un estudio publicado el 11 de abril de 2020, se evidenció que había un 31\\xa0% de complicaciones trombóticas en pacientes con covid-19 hospitalizados en uci.[125]\\u200b frecuentemente se dan secuelas en forma de deterioro físico, cognitivo y psicológico en pacientes de covid-19 que han pasado por uci, que reciben a menudo tratamiento rehabilitador.[126]\\u200b\\npredispone a complicaciones en pacientes con fibrilación auricular[127]\\u200b\\nde entre los 41 primeros casos de covid-19 que fueron tratados en hospitales de wuhan, trece (32\\xa0%) necesitaron cuidados intensivos y seis (15\\xa0%) murieron.[108]\\u200b muchos de los que fallecieron presentaban patologías previas como hipertensión arterial, diabetes o enfermedad cardiovascular que debilitaban sus sistemas inmunológicos.[128]\\u200b\\nen estos casos tempranos que acabaron en fallecimiento, la mediana de la duración de la enfermedad fue de catorce días y el rango total fue de 6 a 41 días.[129]\\u200b de los casos confirmados, 80,9\\xa0% fueron clasificados como casos leves.[130]\\u200b[131]\\u200b\\nsegún un estudio de los fallecimientos por covid-19 en la provincia china de hubei, sobre un total de 72\\xa0314 registros de pacientes, 44\\xa0672 (61,8\\xa0%) fueron confirmados como casos de covid-19. entre ellos se registraron 1023 muertes, lo que supone un índice de mortalidad del 2,3\\xa0%.[130]\\u200b este dato, sin embargo, puede ser una sobreestimación de la mortalidad real debido a que muchas personas pueden haber sido infectados, pero no presentar síntomas, y por tanto no haber sido contabilizados. otros estudios indican que la mortalidad aparente fue mayor en las primeras etapas del brote (17,3\\xa0% para casos sintomáticos entre el 1 y 10 de enero), y que se fue reduciendo con el tiempo a 0,7\\xa0% para pacientes con aparición de síntomas después del 1 de febrero de 2020.[1]\\u200b\\ncorea del sur, que es el único país del mundo donde se realizaron desde el principio de la pandemia, análisis sistemáticos de grandes conjuntos de población (unos 10\\xa0000 al día, con 210\\xa0000 contabilizados hasta el 10 de marzo), se constató una tasa de mortalidad mucho más baja.[132]\\u200b\\nal 3 de marzo de 2020 a nivel global, 3\\xa0110 de los 90\\xa0892 casos comunicados de covid-19 habían muerto (3,4\\xa0%), según cifras indicadas por el director de la oms.[133]\\u200b[134]\\u200b\\nsegún datos mundiales, en la mayoría de los países, las tasas de mortalidad por covid-19 son más altas en hombres que en mujeres. sin embargo, en algunos países como la india, nepal, vietnam y eslovenia son más altas en mujeres (llegando incluso al 3,5\\xa0% en algunos países).[135]\\u200b\\npor ejemplo, en el primer país que se ha mencionado (en donde se había registrado un total 6,4 millones de casos ya el 30 de septiembre de 2020), la tasa de letalidad es mayor en mujeres (un 3,3\\xa0% de mujeres frente a un 2,9\\xa0% de hombres), puesto que existe cierta desigualdad de género para acceder a la sanidad. no obstante, los datos son ambiguos y hay otros aspectos que se deben tener en cuenta, a saber: el menor grado de envejecimiento de la población femenina hace que las mujeres sean menos propensas a fallecer, pero el escaso número de pruebas no proporciona datos definitivos (se estima que el rango de mortalidad es elevado especialmente en mujeres de entre 40 y 49 años). la ignorancia respecto a la covid-19 todavía se hace presente en numerosos ámbitos. es primordial que se realicen estudios respecto a la edad, el nivel socioeconómico y la raza de cada persona con el fin de que se tomen medidas contundentes y efectivas para diferenciar definitivamente los aspectos biológicos de los ambientales.[136]\\u200b\\nen italia al 31 de marzo de 2020, se constató que la edad mediana de los fallecidos por covid-19 fue de 79 años. el 69\\xa0% de los fallecidos eran hombres y solo un 2\\xa0% se encontraba con buena salud (es decir, ausencia de patologías previas) antes de la infección.[137]\\u200b\\nen china se observó también que la mortalidad aumentaba con la edad y es más alta entre los hombres que en las mujeres (4,7\\xa0% frente al 2,8\\xa0%). mientras que los pacientes sin patologías previas tenían una tasa de mortalidad del 1,4\\xa0%, aquellos que sí tenían fallecían a tasas mucho más altas: 13,2\\xa0% para enfermedades cardiovasculares, 9,2\\xa0% para diabetes, 8,4\\xa0% para hipertensión, 8,0\\xa0% para enfermedad respiratoria crónica y 7,6\\xa0% para cáncer.[1]\\u200b\\nen un estudio publicado en línea en la revista pediatrics, unos investigadores analizaron 2\\xa0143 casos de niños menores de 18 años que fueron comunicados al ccdc hasta el 8 de febrero de 2020. aproximadamente la mitad de los niños tenían síntomas leves, como fiebre, fatiga, tos seca, congestión y posiblemente náuseas o diarrea. alrededor del 39\\xa0% se enfermó moderadamente, con síntomas adicionales que incluyen neumonía o problemas pulmonares revelados por la tomografía computarizada, pero sin dificultad respiratoria evidente. cerca del 4\\xa0% no tenía síntomas en absoluto. pero 125 niños, casi el 6\\xa0%, desarrollaron una enfermedad muy grave y un niño de 14 años con infección confirmada por coronavirus murió. trece de ellos fueron considerados «críticos», al borde de la insuficiencia respiratoria u orgánica. los otros fueron clasificados como «graves» porque tenían problemas respiratorios graves. más del 60\\xa0% de los 125 niños que se enfermaron gravemente o tuvieron una enfermedad crítica, tenían 5 años o menos. cuarenta de ellos eran infantes, menores de 12 meses.[76]\\u200b\\npor tanto, los efectos de la pandemia tienen mayor repercusión en los grupos de personas de edad avanzada y especialmente en las mujeres siendo la tasa de contagios mayor entre mujeres, aunque el virus es más letal en los hombres. así mismo, el covid persistente es más frecuente en mujeres[138]\\u200b\\nuno de los factores puede ser que los cuidados suelen recaer en las mujeres, y, por lo tanto, su exposición al virus es mayor que en el caso de los hombres. además, dentro de la familia, los cuidados de las personas dependientes suelen recaer también en las mujeres. entre sanitarios, el porcentaje de contagios también es mayor en mujeres (66%)\\nsegún la oms, en situaciones similares con otros virus, las mujeres también han alcanzado un mayor índice de contagios. en el caso de los hombres, la oms también sugiere que estos tienen mayor riesgo de exposición en el ámbito laboral, mientras que las mujeres son más propensas a contagiarse en las actividades diarias, tal y como se indica anteriormente.\\nconviene resaltar en este punto la cuestión de las residencias de mayores. la mayoría de personas en las residencias son mujeres, que a su vez son atendidas habitualmente por mujeres. atendiendo a los datos del imserso, las mujeres representan el 70,4% de las personas que viven en residencias, por un 29,6% de hombres.[72]\\u200b\\nen conclusión, es necesario incorporar a las personas mayores al debate, para que se haga efectiva la igualdad y se integre una mirada de género transversal que incluya todos los ámbitos de participación social.\\naunque en china hay mayor número de casos en hombres, en otros países asiáticos como corea del sur, hay mayor número de casos en mujeres. además, hay otros países como españa y bélgica que registran un número desigual entre hombres y mujeres durante toda la pandemia. al principio había más casos en hombres que en mujer, pero a partir del 31 marzo se empezaron a igualar[139]\\u200b sin embargo las mujeres son menos susceptibles a las enfermedades víricas gracias a sus disposiciones genéticas, los cromosomas x y hormonas sexuales.[140]\\u200b por lo que, la mayoría de casos reside en los hombres, según los datos recogido el 5 abril.[141]\\u200b así, podemos ver diferentes síntomas de covid entre hombres y mujeres, manifestándose en hombres mediante fiebre, disnea, neumonía, síndrome de distrés respiratorio agudo y fallo renal\\xa0; mientras que en las mujeres, dolor de garganta, vómitos y diarrea[142]\\u200b \\notra de las diferencias de género más\\xa0 importantes es la desigualdad en el trabajo entre hombres y mujeres. en este caso, hay un mayor número de mujeres confinadas, puesto que se encargan de trabajos como el cuidado de personas mayores o en los que están más en contacto con los pacientes en los hospitales, ya que se registra un mayor número de enfermeras que enfermeros. además, aunque se registre un caso mayor de hombres fallecidos y hospitalizados, hay una gran cantidad de casos no registrados, como por ejemplo en las residencias, que podrían tratarse de muertes de diferentes mujeres.[143]\\u200b\\ncabe destacar el análisis de las consecuencias socioeconómicas de la pandemia del coronavirus desde una perspectiva de género. las mujeres son las más afectadas en el plano laboral y, como consecuencia, en el plano social.[144]\\u200b se puede afirmar que durante el primer confinamiento a nivel casi mundial las tareas del hogar aumentaron en gran medida recayendo estas en las mujeres mayoritariamente, el 78,7\\xa0% de las mujeres europeas realizan las tareas del hogar, mientras que sólo un 33,7% de hombres se encargan de esto.[145]\\u200b a esto le sumamos que debido al teletrabajo y demanda de trabajos a tiempo parcial ha aumentado y está más solicitado por mujeres que tienen que cuidar de sus hijos y hacer las tareas domésticas al mismo tiempo. así pues, las mujeres se enfrentan a una carga triple de trabajo que puede agravar las desigualdades preexistentes.[144]\\u200b\\nel sector del servicio, así como los trabajos de cara al público o en primera línea contra la lucha del coronavirus son los más afectados en esta crisis, unos sectores compuestos por un mayor número de mujeres que de hombres por lo que son estas las que tienen que afrontar más pérdidas de empleo.[144]\\u200bsumándole que en los trabajos a tiempo parcial se gana menos que en los de tiempo completo, una de las consecuencias más graves en el plano socioeconómico es el aumento de la brecha salarial que en términos globales constituye un 23% entre hombres y mujeres.[146]\\u200b[144]\\u200b\\nla situación de vulnerabilidad estructural del colectivo lgtbi también\\xa0 ha incrementado a raíz de la pandemia. las medidas en la economía han afectado especialmente a este colectivo debido a que un elevado número de personas lgtbi trabajan en sectores en los que las restricciones de contención del virus han supuesto la pérdida de numerosos puestos de trabajo, y dependen en muchos casos de fuentes de ingresos informales.[147]\\u200b[148]\\u200b\\npor otro lado, la pandemia ha afectado a la salud mental, social y sexual de las personas lgtbi por varios motivos. el cierre de locales y espacios de ocio dirigidos al colectivo ha ocasionado una pérdida significativa de espacios de socialización seguros para las personas lgtbi. además, las medidas de aislamiento han causado que muchas personas del colectivo hayan tenido que estar encerradas en situaciones de hostilidad, con familiares u otros convivientes que no aceptan su condición sexual e identidad,[149]\\u200b generando así situaciones de violencia psicológica e incluso física,[150]\\u200b con evidentes consecuencias emocionales y de salud mental, entre las que se encuentran un aumento o empeoramiento de trastornos de ansiedad y depresión. además, este tipo de medidas han agravado a situación de soledad en miembros de la comunidad, particularmente en personas mayores lgtbi, ya que frecuentemente viven solas y no tienen relaciones positivas con sus familias.[151]\\u200b\\nademás, varios organismos de defensa de los derechos humanos (human rights watch, amnistía internacional, iesogi) apelan al hecho de que varios gobiernos han hecho uso del contexto de pandemia para criminalizar y demonizar a miembros de minorías como el colectivo lgtbi.[152]\\u200b estas personas han sufrido las consecuencias de la promulgación de discursos de odio que las señalan como el foco de transmisión de la enfermedad, e incluso, en casos más extremos, como responsables de la misma.[153]\\u200b asimismo, la pandemia ha causado que la entrada en vigor de derechos para la población lgtbi se haya aplazado o en algunos casos detenido.[154]\\u200b \\nla respuesta inmunitaria natural de los seres humanos al virus sars-cov-2 se produce como una combinación de la inmunidad mediada por células y la producción de anticuerpos,[155]\\u200b igual que con casi todas las otras infecciones.[156]\\u200b las células b interactúan con las células t y comienzan a dividirse antes de la selección en la célula plasmática, en parte sobre la base de su afinidad por el antígeno. la presencia de anticuerpos neutralizantes en la sangre se considera una prueba de inmunidad contra la infección, pero el nivel de anticuerpos neutralizantes disminuye con el tiempo, llegando a desaparecer tras tres meses en el 1% de los pacientes y tras seis meses en el 12%.[157]\\u200b sin embargo, la ausencia de anticuerpos en la sangre no significa que el sistema inmunitario no pueda producir nuevos anticuerpos rápidamente en caso de reexposición al sars-cov-2. las células b de memoria específicas para las proteínas de la nucleocápside y el pico del sars-cov-2 duran al menos 6 meses después de la aparición de los síntomas. \\ndado que el sars-cov-2 ha estado en la población humana solo desde diciembre de 2019, al principio de la pandemia se desconocía si la inmunidad era duradera en las personas que se recuperan de la enfermedad. se reportaron casos de reinfección en pacientes que ya habían pasado la enfermedad y se temía que el sars-cov-2 se comportase como algunos otros coronavirus, que son capaces de reinfectar después de aproximadamente un año.[158]\\u200b\\nen un estudio de enero de 2021 se encontró que la mayoría de los pacientes infectados por el virus sars-cov-2 quedan inmunizados durante al menos cinco meses, teniendo una probabilidad mucho más baja (el 83%) de infectarse de nuevo que aquellos que no habían estado expuestos previamente al virus. además, en caso de reinfección los previamente infectados solían no presentar síntomas (78% de los casos) mientras que la ausencia de síntomas solo se dio en un 34% de los no infectados previamente.[159]\\u200b[160]\\u200b en un estudio de marzo de 2021 se observó que solo un 0,65% de los pacientes infectados por sars-cov-2 volvieron a dar positivo en pcr al menos tres meses más tarde y que ninguno se infectó una tercera vez. se estima que haber sido infectado reduce, de media, un 80% la probabilidad de infectarse una segunda vez y que la protección dura al menos seis meses.[161]\\u200b[162]\\u200b en otro estudio publicado en mayo de 2021, se concluyó que la inmunidad natural contra el sars-cov-2 dura años, probablemente toda la vida, incluso en personas que tuvieron síntomas leves de covid o no tuvieron cuando fueron infectados.[163]\\u200b[164]\\u200b[165]\\u200b[166]\\u200b ello se debe a la acción tanto de las células b como de las células plasmáticas de médula ósea de larga vida.\\nen total, se estima que haber contraído el virus proporciona una inmunización natural contra los síntomas de covid-19 del 94%. esta cifra es comparable a la que se anunció inicialmente para las mejores vacunas. no obstante, al igual que las vacunas, haber pasado el virus no garantiza que una persona no pueda volver a contraerlo y a contagiarlo, por lo cual las autoridades sanitarias recomiendan que todos los previamente infectados sigan aplicando los métodos de prevención habituales.[167]\\u200b\\nun estudio israelí publicado en agosto de 2021 muestra que la inmunidad natural es en realidad más robusta y más duradera que la obtenida mediante vacunación.[168]\\u200b\\nla inmunidad innata frente al sars-cov-2 se utilizan principalmente por macrófagos y células nk,en la inmunidad celular se utiliza por células dendriticas,linfocitos t cd4+ y linfocito t cd8+, y también en la inmunidad humoral la primera línea de defensa se utiliza la igm y después la igg, las citocinas implicadas en la inmunidad es el balance entre proinflamatorio y antiinflamatorio (il-1β, il-1ra, il-2ra, il-6, il-7, il-8, il-9, il-10, fgf básico, g-csf, gm-csf, hgf, interferón gamma, ip-10,mcp-1, mip-1a, mip-1b,pdgf, tnf-α, vegf y tgf-beta), la duración es alrededor de 2 semanas.[169]\\u200b[170]\\u200b[171]\\u200b[172]\\u200b\\nlas pruebas de laboratorio para el diagnóstico de la covid-19  (enfermedad causada por el sars-cov-2) incluyen los métodos que detectan la presencia del propio virus y aquellos que detectan los anticuerpos producidos por el cuerpo humano en respuesta a la infección. los tres tipos principales son:[173]\\u200b\\ndebido a la complejidad y coste de las pruebas pcr, en los primeros meses de la pandemia casi ningún país dispuso de datos confiables sobre la prevalencia del virus en su población.[180]\\u200b esta variabilidad también afectó las tasas de mortalidad reportadas.\\nla radiología torácica (bien por radiografía, tomografía computerizada o ecografía) puede ayudar al diagnóstico de covid-19 e identificar o descartar complicaciones pulmonares.[182]\\u200b\\nuna parte clave de las actuaciones en un brote de enfermedad infecciosa es tratar de disminuir el pico epidémico, conocido como aplanamiento de la curva epidémica. esto ayuda a disminuir el riesgo de que los servicios de salud se vean sobrepasados y proporciona más tiempo para desarrollar una vacuna y un tratamiento. el distanciamiento social y el aislamiento de las poblaciones infectadas pueden contener la epidemia.[185]\\u200b\\nalgunas organizaciones internacionales, como la oms, han publicado medidas preventivas para reducir la transmisión del virus. son similares a las que se han recomendado para prevenir la infección por otros coronavirus e incluyen:\\npara reducir las posibilidades de infectarse, las organizaciones sanitarias recomiendan evitar el contacto cercano con personas enfermas; lavarse las manos frecuentemente con agua y jabón; no tocarse los ojos, la nariz o la boca con las manos sin lavar; y practicar una buena higiene respiratoria.[187]\\u200b[28]\\u200b\\na las personas que ya estén infectadas, se les recomienda que se queden en casa, excepto para recibir atención médica, llamar con antelación antes de visitar a un proveedor de atención médica, usar una mascarilla facial (especialmente en público), tapar la tos y los estornudos con un pañuelo desechable, lavarse las manos regularmente con agua y jabón, y evitar compartir artículos personales del hogar.[188]\\u200b dependiendo de la legislación de cada país, el contagio intencionado del virus está penado de acuerdo al ordenamiento jurídico de donde ocurra el hecho.[189]\\u200b\\nel gobierno de hong kong advirtió a cualquiera que viaje fuera de la ciudad que no toque animales; no coma carne de caza; y evite visitar mercados húmedos, mercados de aves vivas y granjas.[190]\\u200b no hay evidencia de que las mascotas, como perros y gatos, puedan infectarse.[191]\\u200b el gobierno de china ha prohibido el comercio y el consumo de animales salvajes.[192]\\u200b\\npara los proveedores de atención médica que cuidan a alguien que pueda estar infectado, se recomiendan precauciones estándar, precauciones de contacto y precauciones contra los virus transmitidos por el aire así como llevar protección ocular.[193]\\u200b\\nse recomienda lavarse las manos para evitar la propagación del coronavirus. los cdc recomiendan:[187]\\u200b\\nlas personas deben evitar tocarse los ojos, la nariz o la boca con las manos sin lavar.[28]\\u200b\\nel sars-cov-2 puede sobrevivir y permanecer contagioso en superficies inanimadas como metal, vidrio o plástico por varios días. los métodos para eliminar el virus de las superficies incluyen desinfectantes a base de cloro, etanol al 75\\xa0%, ácido peracético y cloroformo.[191]\\u200b\\nlas organizaciones de salud recomendan cubrirse la boca y la nariz con el codo flexionado al toser o estornudar o cubrirse la boca y la nariz con un pañuelo desechable (que luego debe desecharse de inmediato) y a continuación lavarse las manos con un desinfectante de manos a base de alcohol o con agua y jabón.[28]\\u200b[194]\\u200b\\nlos gobiernos han ordenado el uso general de mascarillas para contener la pandemia. las máscarillas benefician la salud pública al reducir los contagios.\\naquellos que sospechan que están infectados deben llamar a un médico para recibir asesoramiento y usar una mascarilla (especialmente cuando están con más gente).[190]\\u200b[195]\\u200b las máscaras limitan el volumen y la distancia de viaje de las gotas respiratorias dispersas al hablar, estornudar y toser. no obstante, varios estudios han concluido que, dado que las mascarillas están diseñadas según los rasgos prototípicos masculinos, no suelen adaptarse bien a la cara de las mujeres, lo que las deja más expuesta al virus.[196]\\u200b\\nsi no hay una máscara disponible, cualquier persona que experimente síntomas respiratorios debe cubrirse con un pañuelo al toser o estornudar, desecharlo rápidamente en la basura y lavarse las manos. si no está disponible un tejido, las personas pueden cubrirse la boca o la nariz con el codo flexionado.[28]\\u200b\\nlas máscaras también se recomiendan para quienes cuidan a alguien que pueda tener la enfermedad.[195]\\u200b enjuagar la nariz, hacer gárgaras con enjuague bucal y comer ajo no son métodos efectivos.[191]\\u200b\\nla oms aconseja usar las mascarillas así:[195]\\u200b\\nlas máscarillas normales buscan principalmente reducir la propagación de la enfermedad evitando contagiar a otros, así que pueden dar una falsa sensación de seguridad a quienes las lleven. en cambio, los respiradores certificados también dan una gran protección a su portador.\\nse recomienda a los profesionales de la salud que interactúan directamente con personas que tienen la enfermedad que usen respiradores con una protección tan alta como el grado n95 certificado por niosh, o el grado ffp2 de la ue, o equivalente, además de otros posibles equipos de protección personal.[195]\\u200b[197]\\u200b\\nhay mascarillas que llevan alguna válvula de exhalación (es decir, de salida), la cual expulsa el aire de la respiración sin filtrar. si su portador está infectado (y puede estarlo sin saberlo), transmitiría el virus a través de la válvula, incluso estando la mascarilla certificada. así que las mascarillas con válvula de salida no están recomendadas para controlar la pandemia.\\nlas máscaras quirúrgicas (normales) son utilizadas desde hace tiempo por personas sanas en hong kong,[198]\\u200b japón,[199]\\u200b singapur[200]\\u200b[201]\\u200b y malasia.[202]\\u200b\\nademás de la guía mencionada anteriormente sobre el lavado de manos y la higiene respiratoria, los organismos de salud pública aconsejan que las personas enfermas que sospechan que pueden tener covid-19 deben restringir las actividades fuera del hogar, excepto para obtener atención médica:[188]\\u200b[203]\\u200b[204]\\u200b\\nmedidas de prevención recomendadas por la oms incluyen el lavado regular de manos con agua y jabón, cubrirse la boca y la nariz con el codo flexionado cuando se va a toser o estornudar y evitar el contacto directo con personas que muestren síntomas de enfermedad respiratoria sin medidas de protección adecuadas.[28]\\u200b[205]\\u200b además se ha recomendado evitar el contacto con animales, tanto vivos como muertos, en las zonas donde se está propagando el virus[206]\\u200b y, una recomendación para reducir también el riesgo de otras enfermedades infecciosas, solamente comer carne o huevos si están bien asados o cocinados.[205]\\u200b\\nel distanciamiento social incluye acciones de control de infecciones destinadas a retrasar la propagación de la enfermedad al minimizar el contacto cercano entre las personas. los métodos incluyen cuarentenas, restricciones de viaje y cierre de escuelas, lugares de trabajo, estadios, teatros o centros comerciales. las personas también pueden aplicar métodos de distanciamiento social limitando los viajes, evitando áreas llenas de gente y alejándose físicamente de las personas enfermas.[28]\\u200b[207]\\u200b muchos gobiernos ahora exigen o recomiendan el distanciamiento social en las regiones afectadas por el brote.[208]\\u200b[209]\\u200b[210]\\u200b\\nlos adultos mayores y aquellos con afecciones crónicas graves se enfrentan a un mayor riesgo de enfermedades graves y complicaciones por covid-19 y los cdc de estados unidos les han aconsejado que eviten las multitudes y se queden en casa tanto como sea posible en áreas de brote comunitario.[211]\\u200b\\nalgunos países, como canadá o estados unidos, emitieron directrices para no darse la mano, abrazarse o besarse.[212]\\u200b algunos países como india han recomendado a sus ciudadanos que se debe evitar escupir en lugares públicos.[213]\\u200b la organización mundial de la salud (oms) ahora recomienda para la población en general mantener «al menos 1 metro (3 pies) de distancia entre usted y las demás personas, particularmente aquellas que tosan, estornuden y tengan fiebre».[28]\\u200b\\nel harvard t.h. la escuela de salud pública chan recomienda una dieta saludable, estar físicamente activo,[214]\\u200b manejar el estrés psicológico y dormir lo suficiente.[215]\\u200b\\nno hay pruebas sólidas de que el estado de la vitamina d tenga alguna relación con los resultados de salud de covid-19.[216]\\u200b recientemente (diciembre 2021), se ha publicado una revisión sistemática en la que estudios observacionales en los que participaron casi dos millones de adultos sugieren que la deficiencia / insuficiencia de vitamina d aumenta la susceptibilidad al covid-19 y al covid-19 grave. existiendo un alto riego de heterogeneidad, por lo que no se pudo hacer el metaanálisis.[217]\\u200b\\nlas vacunas contra la covid-19 comprenden al conjunto de vacunas que tratan de prevenir la enfermedad provocada por el sars-cov-2, virus responsable de la pandemia de coronavirus de 2019-2022.\\npara febrero de 2021, diez vacunas han sido autorizadas para uso público por al menos una autoridad reguladora competente. además, hay unas 70 vacunas candidatas en investigación clínica, de las cuales 17 en ensayos de fase i, 23 en ensayos de fase i-ii, 6 en ensayos de fase ii y 20 en ensayos de fase iii.[218]\\u200b las vacunas contra la covid-19, se pueden clasificar según el vector que utilizan para introducir el material del sars-cov-2. el vector puede ser una versión inactivada del propio coronavirus, otro virus (generalmente un adenovirus) al que se le ha insertado arn del sars-cov-2, o bien arn mensajero solo. \\nla vacunas que se encuentran en uso en la actualidad son las: \\nla eficacia más alta contra los síntomas obtenida hasta ahora por una vacuna contra la covid-19 es del 95%, un valor similar a la inmunidad natural que se obtiene al infectarse con el sars-cov-2.[219]\\u200b[220]\\u200b otras vacunas, sin embargo, presentan una eficacia menor, algunas de solo el 50%.[221]\\u200b otra diferencia importante entre las diferentes vacunas es su temperatura de conservación. mientras que las vacunas de adenovirus o coronavirus inactivados se conservan en refrigeradores, las de arn mensajero requieren congeladores a -20\\xa0ºc (moderna) o incluso a -80\\xa0ºc (pfizer), lo cual complica su distribución.[222]\\u200b[223]\\u200b[224]\\u200b debido a la capacidad de producción limitada de los fabricantes de vacunas, los estados han tenido que implementar planes de distribución por etapas, que dan prioridad a la población de riesgo, como los ancianos, y a las personas con alto grado de exposición y transmisión, como los trabajadores sanitarios.[225]\\u200b[226]\\u200b\\na fecha de diciembre de 2020, los países habían comprado por adelantado más de 10 mil millones de dosis de vacunas;[227]\\u200b de ellas, aproximadamente, la mitad habían sido adquiridas por países de ingresos altos que representaban el 14% de la población mundial.[228]\\u200b en el consejo del acuerdo sobre los adpic, que regula la propiedad intelectual y patentes dentro de la omc, la india y sudáfrica presentaron, en octubre de 2020, una propuesta para la suspensión temporal — mientras dure la pandemia — de los medicamentos, vacunas e instrumentación médica de uso en el tratamiento contra la covid-19. a esta propuesta se opusieron principalmente los países ricos, entre ellos estados miembros de la unión europea, los estados unidos, el reino unido y brasil.[229]\\u200b[230]\\u200b[231]\\u200b[223]\\u200b[224]\\u200b en mayo de 2021, otros 60 países han copatrocinado la propuesta, que alcanza el apoyo de más de cien países, y el 5 de mayo los estados unidos dieron la sorpresa al anunciar que apoyaba la propuesta de suspensión de patentes, si bien solo en relación con la vacunas.[232]\\u200b\\ncuando alguien ha sido vacunado contra la covid (ha recibido todas las dosis necesarias de la vacuna, y ha pasado un tiempo establecido), todavía es posible transmitir la enfermedad, aunque las posibilidades quedan bastante reducidas (según algunas investigaciones).[234]\\u200b[235]\\u200b además, las vacunas fallan en una pequeña proporción de la gente vacunada.\\nasí que se recomienda que la población siga realizando resoluciones preventivas (lavarse las manos con jabón, ponerse mascarilla, mantener la distancia social, etc.) para evitar los contagios, especialmente hacia gente vulnerable. las precauciones acabarían cuando los peligros de la pandemia estén oficialmente terminados. \\nen lo referente al embarazo, aunque no se han hecho pruebas suficientes, 23 mujeres quedaron embarazadas durante el ensayo clínico de la vacuna pfizer y ninguna de ellas mostró ningún efecto adverso. sin embargo, la food and drug administration (fda) recomienda que las mujeres embarazadas o lactantes consulten con sus respectivos médicos a la hora de decidir si deben vacunarse. es importante recalcar que, si una mujer está en proceso de búsqueda del embarazo, la vacuna no afectará a su fertilidad en ningún caso.[236]\\u200b\\nactualmente (agosto 2021), existe la recomendación de vacunar a toda mujer embarazada.[237]\\u200b\\nvarios tratamientos experimentales contra el covid-19 están actualmente en desarrollo o han sido aprobados en al menos un país:\\notros tratamientos que se consideraron prometedores durante los primeros meses de la pandemia, como la hidroxicloroquina y el lopinavir/ritonavir, resultaron después ser inefectivos o incluso perjudiciales.[244]\\u200b la colchicina, un antiinflamatorio, ha dado resultados inciertos.[245]\\u200b\\nla investigación para encontrar un tratamiento eficaz comenzó en enero de 2020.[246]\\u200b el centro chino para el control y prevención de enfermedades empezó a comprobar, a finales de enero, la eficacia de algunos tratamientos eficaces preexistentes contra la neumonía en pacientes con covid-19.[247]\\u200b se han hecho pruebas también con medicamentos como el remdesivir, un inhibidor de la arn polimerasa,[248]\\u200b[249]\\u200b[250]\\u200b[251]\\u200b y con interferón beta.[251]\\u200b\\nel 23 de enero de 2020 gilead sciences estaba en comunicación con investigadores y médicos en los estados unidos y china sobre el brote en curso de coronavirus de wuhan y el uso potencial del remdesivir como tratamiento de investigación.[252]\\u200b\\na fines de enero de 2020, investigadores médicos chinos expresaron su intención de comenzar las pruebas clínicas con remdesivir, cloroquina y lopinavir / ritonavir, que parecían tener efectos inhibitorios sobre el sars-cov-2 a nivel celular en experimentos exploratorios in vitro.[253]\\u200b la nitazoxanida se ha recomendado para estudios posteriores in vivo luego de demostrar una inhibición de baja concentración de sars-cov-2.[254]\\u200b el 2 de febrero de 2020, médicos de tailandia afirmaron haber tratado a un paciente con éxito con una combinación de lopinavir / ritonavir y el medicamento contra la influenza oseltamivir.[255]\\u200b[256]\\u200b el 5 de febrero, china comenzó a patentar el uso de remdesivir contra la enfermedad.[257]\\u200b[258]\\u200b[259]\\u200b[260]\\u200b[258]\\u200b[257]\\u200b en marzo se están llevando a cabo ensayos clínicos de fase 3 en los estados unidos, china e italia con remdesivir.[261]\\u200b[262]\\u200b[263]\\u200b en abril, se anunció que la ivermectina inhibe la replicación del sars-cov-2 in vitro[264]\\u200b los metanálisis basados en 18 ensayos de tratamiento controlados aleatorios de ivermectina en covid-19 han encontrado reducciones grandes y estadísticamente significativas en la mortalidad, el tiempo hasta la recuperación clínica y el tiempo hasta la eliminación viral.[265]\\u200b\\na finales de enero, el ministerio de salud de rusia identificó tres medicamentos para adultos que podrían ayudar a tratar la enfermedad. son ribavirina, lopinavir/ritonavir e interferón beta-1b. estos fármacos se usan habitualmente para tratar la hepatitis c, infección por vih y la esclerosis múltiple, respectivamente. el ministerio ofreció a los hospitales rusos descripciones y guías sobre el mecanismo de acción del tratamiento y las dosis recomendadas.[266]\\u200b en febrero, china comenzó a usar triazavirin, un fármaco de 2014 desarrollado en rusia, con el objetivo de comprobar si es efectivo en el control de la enfermedad. este fármaco fue creado en la universidad federal de los urales en ekaterimburgo para tratar la gripe h5n1 (gripe aviar). se ha utilizado contra covid-19 debido a la similitud entre las dos enfermedades. el fármaco también parece ser efectivo contra la fiebre del valle del rift y el virus del nilo occidental, entre otras.[267]\\u200b\\nel 18 de marzo un artículo informa que el tratamiento con lopinavir/ritonavir da negativo en pruebas clínicas con 199 pacientes en china. no hay beneficios.[268]\\u200b\\ninvestigadores chinos descubrieron que arbidol, un medicamento antiviral utilizado para tratar la gripe, podría combinarse con darunavir, un medicamento empleado en el tratamiento del vih, para el tratamiento de pacientes con coronavirus.[269]\\u200b[270]\\u200b\\nel fosfato de cloroquina ha demostrado una eficacia aparente en el tratamiento de la neumonía asociada a covid-19. en pruebas clínicas con 100 pacientes se encontró que es superior al tratamiento de control para inhibir la exacerbación de la neumonía, mejorar los hallazgos de las imágenes pulmonares, promover una conversión negativa al virus y acortar la enfermedad. resultados de investigación mostraron que la proteína orf8 del sars-cov-2 y la glicoproteína de superficie podrían unirse a la porfirina, respectivamente, mientras que las proteínas del sars-cov-2 orf1ab, orf10 y orf3a podrían atacar de forma coordinada el hemo para disociar el hierro para formar la porfirina. el mecanismo interfirió seriamente con la vía anabólica normal del hemo en el cuerpo humano y esto produce una enfermedad humana. según el análisis de validación de estos hallazgos, la cloroquina podría evitar que orf1ab, orf3a y orf10 ataquen el hemo para formar la porfirina, e inhibir la unión de orf8 y glucoproteínas de superficie a las porfirinas en cierta medida.[271]\\u200b[272]\\u200b[273]\\u200b\\ninvestigadores de la universidad noruega de ciencia y tecnología (ntnu) han creado una base de datos con 120 agentes antivirales de amplio espectro seguros para las personas e identificaron 31 candidatos a fármacos para el tratamiento de sars-cov-2.[274]\\u200b\\nel centro nacional de desarrollo biotecnológico de china afirmó el 17 de marzo que el antiviral favipiravir, un inhibidor de la arn polimerasa,[275]\\u200b mostró resultados positivos en un estudio de casos y controles con 80 pacientes en el hospital popular n.º 3 de shenzhen, los que recibieron tratamiento con favipiravir dieron negativo dentro de un periodo más reducido de tiempo en comparación con los del grupo de control, y recomienda que se incluya en el tratamiento.[276]\\u200b[277]\\u200b\\nestudios recientes han demostrado que el cebado inicial de la proteína de pico por la proteasa transmembrana serina 2 (tmprss2) es esencial para la entrada de sars-cov-2, sars-cov y mers-cov a través de la interacción con el receptor ace2.[278]\\u200b[279]\\u200b estos hallazgos sugieren que el inhibidor de tmprss2 camostat aprobado para uso clínico en japón para inhibir la fibrosis en la enfermedad hepática y renal, la esofagitis por reflujo postoperatorio y la pancreatitis podrían constituir una opción de tratamiento eficaz fuera de etiqueta.\\nla hidroxicloroquina, un derivado menos tóxico de cloroquina, sería más potente para inhibir la infección por sars-cov-2 in vitro.[280]\\u200b[281]\\u200b el 16 de marzo de 2020, una importante autoridad francesa y asesor del gobierno francés sobre covid-19, el profesor didier raoult del instituto universitario hospitalario de enfermedades infecciosas (ihu-méditerranée infection) en marsella (bouches-du-rhône, provenza-alpes-côte d \\'azur), anunció que un ensayo con 24 pacientes del sureste de francia había demostrado que la cloroquina es un tratamiento efectivo para covid-19.[282]\\u200b[283]\\u200b se administraron 600 mg de hidroxicloroquina (marca plaquenil) a estos pacientes todos los días durante 10 días. esto condujo a una «aceleración rápida y efectiva de su proceso de curación, y una fuerte disminución en la cantidad de tiempo que permanecieron contagiosos».[282]\\u200b si bien la cloroquina tiene un largo historial de seguridad, los pacientes fueron monitorizados de cerca para detectar interacciones farmacológicas y posibles efectos secundarios graves. el profesor raoult dijo: «incluimos a todos los que estaban de acuerdo [para ser tratados], que era casi todos. dos ciudades en el protocolo, niza y aviñón, nos dieron pacientes [infectados] que aún no habían recibido tratamiento... pudimos determinar que los pacientes que no habían recibido plaquenil (el medicamento que contiene hidroxicloroquina) seguían siendo contagiosos después de seis días, pero de los que habían recibido plaquenil, después de seis días, solo el 25% seguía siendo contagioso».[282]\\u200b en australia, el director del centro de investigación clínica de la universidad de queensland, el profesor david paterson, anunció su intención de realizar una gran investigación clínica. ensayo de la eficacia de la cloroquina y remedesivir como tratamientos para covid-19.[284]\\u200b el ensayo compararía una droga, contra la otra droga, contra la combinación de las dos drogas. el profesor paterson esperaba comenzar a inscribir pacientes a fines de marzo de 2020.[284]\\u200b\\nun estudio limitado francés muestra que la hidroxicloroquina combinada con la azitromicina es más rápida que la hidroxicloroquina sola para transformar a los pacientes con covid-19 a negativo.[285]\\u200b esta combinación no está indicada para el tratamiento del covid-19 y ha demostrado tener efectos secundarios graves.[286]\\u200b\\nel mesilato de nafamostat (nombre de marca: fusan), medicamento utilizado para tratar la pancreatitis aguda, puede bloquear efectivamente el proceso de entrada viral requerido que el nuevo coronavirus (sars-cov-2) usa para propagarse y causar enfermedad (covid-19). la universidad de tokio planea lanzar ensayos clínicos en abril de 2020 para evaluar la efectividad de estos dos medicamentos para tratar covid-19.[287]\\u200b\\nfujifilm anuncia el inicio de un ensayo clínico de fase iii del medicamento antiviral contra la influenza \"avigan tablet\" (nombre genérico: favipiravir).[288]\\u200b\\nel tocilizumab (un anticuerpo monoclonal) ha sido incluido en las pautas de tratamiento por la comisión nacional de salud de china después de que se completó un pequeño estudio.[289]\\u200b[290]\\u200b se está sometiendo a una prueba no aleatoria de fase 2 a nivel nacional en italia después de mostrar resultados positivos en personas con enfermedad grave.[291]\\u200b[292]\\u200b en combinación con un análisis de sangre de ferritina en suero para identificar tormentas de citoquinas, está destinado a contrarrestar tales desarrollos, que se cree que son la causa de la muerte en algunas personas afectadas.[293]\\u200b[294]\\u200b el antagonista del receptor de interleucina-6 fue aprobado por la fda para el tratamiento contra el síndrome de liberación de citoquinas inducido por una causa diferente, la terapia con células car t, en 2017.[295]\\u200b\\nel instituto feinstein de northwell health anunció en marzo un estudio sobre \"un anticuerpo humano que puede prevenir la actividad\" de il-6. llamado sarilumab desarrollado en conjunto por regeneron pharmaceuticals y sanofi.[296]\\u200b\\nel nih tiene unas directrices sobre el uso del tocilizumab en el tratamiento de covi-19:[297]\\u200b\\n.mw-parser-output .flexquote{display:flex;flex-direction:column;background-color:#f9f9f9;border-left:3px solid #c8ccd1;font-size:90%;margin:1em 4em;padding:.4em .8em}.mw-parser-output .flexquote>.flex{display:flex;flex-direction:row}.mw-parser-output .flexquote>.flex>.quote{width:100%}.mw-parser-output .flexquote>.flex>.separator{border-left:1px solid #c8ccd1;border-top:1px solid #c8ccd1;margin:.4em .8em}.mw-parser-output .flexquote>.cite{text-align:right}@media all and (max-width:600px){.mw-parser-output .flexquote>.flex{flex-direction:column}}\\npacientes recientemente hospitalizados que han sido ingresados en la unidad de cuidados intensivos (uci) dentro de las 24 horas anteriores y que requieren ventilación mecánica invasiva, ventilación mecánica no invasiva (vni), u oxígeno a alto flujo por cánula nasal de (hfnc) (> 0,4 fio 2 / 30 l / min de flujo de oxígeno) (biia)\\xa0; o\\npacientes hospitalizados recientemente (no en la uci) con necesidades de oxígeno en rápido aumento que requieren vni o hfnc y tienen marcadores de inflamación significativamente aumentados (biia) ( nota\\xa0: el criterio de inclusión del ensayo recovery para la inflamación fue proteína c reactiva [pcr] ≥75 mg / l; consulte los detalles a continuación).\\npara los pacientes hospitalizados con hipoxemia que requieren un suplemento de oxígeno convencional, el panel recomienda usar una de las siguientes opciones: remdesivir (biia), dexametasona más remdesivir (biii) o dexametasona sola (bi) (ver manejo terapéutico de adultos con covid-19).\\nen marzo de 2021 la cochrane library publicó una revisión sistemática sobre el tocilizumad en el tratamiento del covid19[298]\\u200b\\n\\nen pacientes con síndrome respiratorio agudo severo, que no responden a tratamiento y con criterios de afectación pulmonar con fibrosis, ya se ha publicado resultados sobre trasplante pulmonar[299]\\u200b los hallazgos de este informe muestran que el trasplante de pulmón es la única opción para la supervivencia en algunos pacientes con sdra asociado a covid-19 grave que no se resuelve, y que el procedimiento se puede realizar con éxito, con buenos resultados tempranos después del trasplante, en pacientes cuidadosamente seleccionados.\\n\\n\\nse está investigando el uso de donaciones de plasma sanguíneo de personas que ya se han recuperado de la covid-19,[300]\\u200b una estrategia que se aplicó con éxito contra la gripe de 1918 y que se ha probado para el sars, un primo anterior de covid-19[300]\\u200b y otras enfermedades como la fiebre hemorrágica argentina. el mecanismo de acción es que los anticuerpos producidos naturalmente (\"suero convaleciente\") en el sistema inmune de aquellos que ya se han recuperado, se transfieren directamente a las personas que los necesitan.[300]\\u200b se proporciona así una forma de inmunización no basada en vacuna. esta terapia fue autorizada por la fda estadounidense en agosto de 2020 como tratamiento de emergencia contra la covid-19.[301]\\u200b el primer ensayo clínico completo, publicado en enero de 2021, concluyó que la aplicación de transfusiones de plasma durante la fase inicial de síntomas leves redujo la gravedad de la enfermedad en un 60% de los casos.[302]\\u200b[243]\\u200b\\nuna versión más compleja de esta terapia consiste en sintetizar en laboratorio los anticuerpos contra la covid-19, llamados \"monoclonales\", para después inyectárselos a los pacientes.,[300]\\u200b[303]\\u200b varias empresas farmacéuticas, como vir biotechnology, han evaluado la efectividad contra el virus sars-cov-2 de anticuerpos monoclonales previamente identificados contra otros virus.[304]\\u200b en marzo de 2020, se halló un anticuerpo monoclonal humano que bloquea la infección por sars-cov-2.[305]\\u200b[306]\\u200b mientras que las transfusiones de plasma son muy baratas y sencillas de realizar, el tratamiento con anticuerpos monoclonales costaría decenas de miles de euros por paciente.[307]\\u200b\\nposición de los nih sobre el uso de los anticuerpos monoclonales en el tratamiento de la infección por sars-cov-2[308]\\u200b\\n'"
            ],
            "application/vnd.google.colaboratory.intrinsic+json": {
              "type": "string"
            }
          },
          "metadata": {},
          "execution_count": 9
        }
      ]
    },
    {
      "cell_type": "code",
      "metadata": {
        "id": "BtGLJjt6rQhK",
        "colab": {
          "base_uri": "https://localhost:8080/"
        },
        "outputId": "2d46d6b3-11b2-47b9-b6cb-eef6cdcd595c"
      },
      "source": [
        "print(\"Cantidad de caracteres en la nota:\", len(article_text))"
      ],
      "execution_count": null,
      "outputs": [
        {
          "output_type": "stream",
          "name": "stdout",
          "text": [
            "Cantidad de caracteres en la nota: 73768\n"
          ]
        }
      ]
    },
    {
      "cell_type": "markdown",
      "metadata": {
        "id": "FVHxBRNzCMOS"
      },
      "source": [
        "### 2 - Preprocesamiento\n",
        "- Remover caracteres especiales\n",
        "- Quitar espacios o saltos"
      ]
    },
    {
      "cell_type": "code",
      "metadata": {
        "id": "HnEUTD1Erl1N"
      },
      "source": [
        "text = re.sub(r'\\[[0-9]*\\]', ' ', article_text)\n",
        "text = re.sub(r'\\s+', ' ', text)\n",
        "text = re.sub(r'\\u200b', '', text)\n",
        "text = re.sub(r'\\[nota [0-9]]', '', text)"
      ],
      "execution_count": null,
      "outputs": []
    },
    {
      "cell_type": "code",
      "metadata": {
        "id": "g7ycrAMYrn66",
        "colab": {
          "base_uri": "https://localhost:8080/",
          "height": 105
        },
        "outputId": "1c416c10-a766-43fb-ef7d-6e4ec54fe08d"
      },
      "source": [
        "# Demos un vistazo\n",
        "text"
      ],
      "execution_count": null,
      "outputs": [
        {
          "output_type": "execute_result",
          "data": {
            "text/plain": [
              "'la enfermedad por coronavirus de 2019,  más conocida como covid-19, covid-19 o covid, e incorrectamente llamada neumonía por coronavirus, coronavirus o corona, es una enfermedad infecciosa causada por el sars-cov-2.   produce síntomas que incluyen fiebre, tos,  disnea (dificultad respiratoria), mialgia (dolor muscular) y fatiga.   en casos graves se caracteriza por producir neumonía, síndrome de dificultad respiratoria aguda,  sepsis  y choque circulatorio. choque séptico es la forma más común en estos casos, pero los otros tipos también pueden ocurrir. por ejemplo, choque obstructivo puede resultar de embolia pulmonar, una complicación de covid-19.  según la oms, la infección es mortal entre el 0,5 % y el 1 % de los casos.  no existe tratamiento específico; las medidas terapéuticas principales consisten en aliviar los síntomas y mantener las funciones vitales.  la transmisión del sars-cov-2 se produce mediante pequeñas gotas —microgotas de flügge — que se emiten al hablar, estornudar, toser o espirar, que al ser despedidas por un portador (que puede no tener síntomas de la enfermedad o estar incubándola)  pasan directamente a otra persona mediante la inhalación, o quedan sobre los objetos y superficies que rodean al emisor, y luego, a través de las manos, que lo recogen del ambiente contaminado, toman contacto con las membranas mucosas orales, nasales y oculares, al tocarse la boca, la nariz o los ojos.   también está documentada la transmisión por aerosoles ( < 5μm).   la propagación mediante superficies contaminadas o fómites (cualquier objeto carente de vida, o sustancia, que si se contamina con algún patógeno es capaz de transferirlo de un individuo a otro) no contribuye sustancialmente a nuevas infecciones.  los síntomas aparecen entre dos y catorce días (período de incubación), con un promedio de cinco días, después de la exposición al virus.     existe evidencia limitada que sugiere que el virus podría transmitirse uno o dos días antes de que se tengan síntomas, ya que la viremia alcanza un pico al final del período de incubación.   el contagio se puede prevenir con el lavado de manos frecuente, o en su defecto la desinfección de las mismas con alcohol en gel, cubriendo la boca al toser o estornudar, ya sea con la sangradura (parte hundida del brazo opuesta al codo) o con un pañuelo y evitando el contacto cercano con otras personas,  entre otras medidas profilácticas, como el uso de mascarillas. la oms desaconsejaba en marzo la utilización de máscara quirúrgica por la población sana,   en abril la oms consideró que era una medida aceptable en algunos países.  no obstante, ciertos expertos recomiendan el uso de máscaras quirúrgicas basados en estudios sobre la influenza h1n1, donde muestran que podrían ayudar a reducir la exposición al virus.  los centros para el control y prevención de enfermedades (cdc) de estados unidos recomiendan el uso de mascarillas de tela, no médicas.  recomendación de los cdc (febrero de 2021)  el 12 de enero de 2020, la organización mundial de la salud (oms) recibió el genoma secuenciado  del nuevo virus causante de la enfermedad y lo nombró temporalmente 2019-ncov, del inglés 2019-novel coronavirus (nuevo coronavirus), mientras que la enfermedad era llamada «infección por 2019-ncov» en documentos médicos,   y sars de wuhan o wu flu (gripe de wu) en internet.   el 30 de enero, la oms recomendó que el nombre provisorio de la enfermedad fuera \"enfermedad respiratoria aguda por 2019-ncov\", hasta que la clasificación internacional de enfermedades diera un nombre oficial.  a pesar de esta recomendación, los medios y agencias de noticias continuaron usando la denominación neumonía de wuhan para referirse a la enfermedad.    la oms anunció el 11 de febrero de 2020 que covid-19 sería el nombre oficial de la enfermedad.  el nombre es un acrónimo de coronavirus disease 2019 (enfermedad por coronavirus 2019, en español). se procuró que la denominación no contuviera nombres de personas o referencias a ningún lugar, especie animal, tipo de comida, industria, cultura o grupo de personas, en línea con las recomendaciones internacionales, para evitar que hubiera estigmatización contra algún colectivo.   en español, el género de la denominación de la enfermedad puede ser tanto femenino como masculino; sin embargo, el femenino fue desde un principio el preferido por la fundéu bbva y, posteriormente, por la real academia española (rae): la covid-19, debido a que «covid-19» es el acrónimo en inglés de enfermedad por coronavirus de 2019, donde enfermedad (palabra representada por la letra d, elemento principal del acrónimo) solo puede ser femenino en la lengua española.  aunque es el femenino el que utiliza la oms en todos sus escritos, el uso del masculino se halla más estandarizado en el discurso público, según la rae, por influencia del género de coronavirus y de otras enfermedades víricas: el dengue, el mers, el sars, el zika, y otras.  la fundéu bbva también señala que se puede lexicalizar el nombre de la enfermedad en textos generales, escribiéndolo todo en minúsculas (covid-19) por tratarse de un sustantivo, en lugar de mayúscula inicial (covid-19), como se usa en algunos escritos;  y que no es infrecuente ni incorrecto usar solo el primer lexema de esta palabra compuesta (covid en lugar de covid-19). esta simplificación se explicaría por el fenómeno de la economía lingüística, especialmente en el registro informal y discurso hablado. cuando se la escribe con dígitos («covid-19» en vez de «covid»), el uso del guion es obligatorio en español (es incorrecto «covid19» —todo junto— o «covid 19» —con espacio), ya que lo posee en la denominación oficial, y, además, la lengua española tiene la costumbre de separar las palabras que se componen de letras y números. esto último lo lleva a cabo con un guion.  respecto a su acentuación, ambas instituciones indican que el uso mayoritario del primer lexema de la palabra es agudo /ko\\'βið/ (covid-19) —y que la voz es, de hecho, aguda en español—, por lo que solo una población minoritaria de hispanohablantes la acentúan como llana /\\'ko.βið/, por influencia del inglés, lengua de origen del término (covid-19).   el nombre completo de la enfermedad ha de leerse preferentemente como: [ko\\'βið.dje.si\\'nwe.βe] en zonas de seseo, y como: [ko\\'βið.dje.θi\\'nwe.βe] en zonas no seseantes. en diciembre de 2019 hubo un brote epidémico de neumonía de causa desconocida en wuhan, provincia de hubei, china; el cual, según afirmó más tarde reporteros sin fronteras, llegó a afectar a más de 60 personas el día 20 de ese mes. según el centro chino para el control y prevención de enfermedades (ccdc), el 29 de diciembre un hospital en wuhan (hospital provincial de medicina integrada tradicional china y occidental, también conocido como el hospital de xinhua,) admitió a 4 individuos con neumonía, quienes trabajaban en un mercado de esa ciudad. el hospital informó esto al ccdc, cuyo equipo en la ciudad inició una investigación. el equipo encontró más casos relacionados al mercado y el 30 de diciembre las autoridades de salud de wuhan comunicaron los casos al ccdc, que envió expertos a wuhan para apoyar la investigación. se obtuvieron muestras de estos pacientes para realizar análisis de laboratorio.  el 31 de diciembre, el comité de salud municipal de wuhan informó a la organización mundial de la salud (oms) que 27 personas habían sido diagnosticadas con neumonía de causa desconocida, habiendo 7 en estado crítico; la mayoría de estos casos eran trabajadores del mencionado mercado.  para el 1 de enero de 2020, el mercado había sido cerrado y se había descartado que el causante de la neumonía fuera el sars, el mers, gripe, gripe aviaria u otras enfermedades respiratorias comunes causadas por virus.  el 7 de enero de 2020 los científicos chinos habían aislado el virus causante de la enfermedad, y realizaron la secuenciación del genoma. esta secuenciación estuvo disponible para la oms el 12 de enero de 2020, permitiendo a los laboratorios de diferentes países producir diagnósticos específicos vía pruebas de pcr.  el 12 de enero de 2020, las autoridades chinas habían confirmado la existencia de 41 personas infectadas con el nuevo virus, quienes comenzaron a sentir síntomas entre el 8 de diciembre de 2019 y el 2 de enero de 2020, los cuales incluían: fiebre, malestar, tos seca, dificultad para respirar y fallos respiratorios;  también se observaron infiltrados neumónicos invasivos en ambos pulmones observables en las radiografías de tórax.  tras el primer brote de covid-19 en wuhan en diciembre de 2019, donde las autoridades chinas confirmaron 41 casos detectados entre el 8 de diciembre y el 2 de enero de 2020,  la ciudad dejó de informar casos hasta el 19 de enero, cuando se confirmaron 17 casos más. para ese entonces ya se habían comunicado los primeros casos por covid-19 fuera de china: dos en tailandia y uno en japón.  la rápida expansión de la enfermedad hizo que la organización mundial de la salud, el 30 de enero de 2020, la declarara una emergencia sanitaria de preocupación internacional, basándose en el impacto que el virus podría tener en países subdesarrollados con menos infraestructuras sanitarias.  en esa fecha, la enfermedad se había detectado en todas las provincias de china continental,  y se diagnosticaban casos en otros 15 países. el 11 de marzo la enfermedad se hallaba ya en más de 100 territorios a nivel mundial, y fue reconocida como una pandemia por la oms.  el número de casos confirmados continuó creciendo hasta alcanzar los 500 mil casos a nivel mundial el 26 de marzo de 2020.  para prevenir la expansión del virus, los gobiernos han impuesto restricciones de viajes, cuarentenas, confinamientos, aislamiento social, cancelación de eventos, y cierre de establecimientos. la pandemia está teniendo un efecto socioeconómico disruptivo,  y el miedo a la escasez de provisiones ha llevado a compras de pánico. ha habido desinformación y teorías conspirativas difundidas en línea sobre el virus,   e incidentes de xenofobia y racismo contra los ciudadanos chinos y de otros países del este y sudeste asiático.  se ha comprobado que las cuarentenas, restricciones al tráfico de personas y los aislamientos que se están dando a causa de la pandemia tienen efectos psicológicos negativos.  a finales de enero, la comisión nacional de salud de china publicó una guía de manejo de las crisis psicológicas, en la que propugnaba la intervención de las personas afectadas, contactos cercanos, los encerrados en sus hogares, los familiares y amigos de los pacientes, personal sanitario y el público general que lo requiriera.   según estudios realizados en 2020, se confirma que ha afectado en mayor medida a la salud mental de las mujeres que a la de los hombres. entre los motivos se encuentra el aumento de la violencia de género y su situación socioeconómica más precaria. buena parte de las mujeres trabajan en el sector de la restauración y del turismo, de los más afectados por la pandemia, además de ser las principales cuidadoras de personas enfermas, de niños y de personas de la tercera edad.   el aislamiento ha provocado que muchos enfermos no puedan continuar con sus tratamientos, agravando sus problemas de salud. en estos escenarios, las mujeres, ya sean familiares o cuidadoras, suelen tener un papel fundamental.  en esta enfermedad se describe un \"triángulo epidemiológico causal\" que está formado por: el medio ambiente, el agente etiológico (el virus sars-cov-2) y el huésped. las rutas de transmisión de persona a persona del agente etiológico sars-cov-2 incluyen la transmisión directa por inhalación de microgotas y aerosoles liberadas a través de tos, estornudos, la respiración, el habla, los gritos o el canto,    o por contacto de las manos con superficies contaminadas, que luego tocan las membranas mucosas orales, nasales u oculares.  también se puede transmitir a través de la saliva, y posiblemente por la ruta fecal-oral.  un estudio con 2143 niños sugiere que este grupo de la población puede ser un factor crítico en la rápida propagación de la enfermedad.  la gente vacunada todavía puede transmitir la covid, aunque es más difícil.  así que los vacunados todavía deben realizar resoluciones preventivas (lavarse las manos con jabón, ponerse mascarilla, mantener la distancia social, etc.) para que la enfermedad no se propague, especialmente hacia gente vulnerable. de acuerdo con los estudio publicados en las revistas científicas new england journal of medicine (el 17 de marzo de 2020) y the lancet microbe (2 de abril), la persistencia en las distintas superficies es la siguiente:  la organización mundial de la salud recomienda por este motivo que se desinfecten las superficies, especialmente en el entorno sanitario. fuera de este, el rol que puede tener la transmisión por fómites es desconocido, pero menos importante que cuando se produce por contacto estrecho con una persona infectada.  actualmente, son muchos los estudios que se centran en evaluar la posible transmisión vertical.  hasta el momento, las pruebas que se han realizado descartan la presencia de sars-cov-2 en el líquido amniótico, en la sangre de cordón umbilical y en la leche materna.  sin embargo, aún es muy temprano para saber con certeza si la transmisión vertical puede presentarse o no, puesto que existen casos en los se ha demostrado la presencia de anticuerpos en neonatos nacidos de madres portadoras del virus.  por tanto, aunque es cierto que esta evidencia proviene de un número pequeño de casos, esto demuestra aún más la posibilidad de transmisión vertical.  en cuanto a la lactancia materna, no se ha conseguido evidenciar la presencia de sars-cov-2 en la leche materna de pacientes infectadas.  por consiguiente, al no existir riesgo de contagio a través de la leche materna, no se contraindica la lactancia materna en las pacientes infectadas siempre que se tomen las medidas de higiene necesarias, entre ellas, el lavado de manos y el uso correcto de la mascarilla.  el número reproductivo r0 es el número promedio de nuevos contagios que una persona infectada puede generar; cuanto mayor es este, mayor es el potencial pandémico de una enfermedad. la academia china de las ciencias estimó en febrero de 2020 para la covid-19, un número reproductivo o r0=4, aunque existe incertidumbre sobre muchos de los factores que se tomaron en consideración para calcular el r0. el imperial college de londres calculó un r0=1,5 a 3,5.  se llama caso índice o \"paciente cero\" al caso que da lugar a la atención del investigador y origina acciones para conocer un foco de infección; corresponde al primero caso confirmado por la autoridad sanitaria y conduce (indica) hacia un brote localizado.    a veces el primer caso de covid-19 identificado por el sistema sanitario (caso índice o paciente 0), no coincide con el caso que da origen a la epidemia. el \"caso índice auténtico\" o \"caso primario\" sería el primero que inicia el brote epidémico.  el agente causal del covid-19 es el virus (sars-cov-2),   que es un tipo de orthocoronavirinae.   fue descubierto y aislado por primera vez en wuhan, china, tras provocar la epidemia de enfermedad por coronavirus de 2019-2020. parece tener un origen zoonótico, es decir, que pasó de un huésped animal (un murciélago) a uno humano.  el genoma del virus está formado por una sola cadena de arn, y se clasifica como virus arn monocatenario positivo. su secuencia genética se ha aislado a partir de una muestra obtenida de un paciente afectado por neumonía en la ciudad china de wuhan.      el arn del virus sars-cov-2 codifica 4 proteínas estructurales: la proteína s (spike protein), la proteína e (envelope), la proteína m (membrane) y la proteína n (nucleocapsid). la proteína n está en el interior del virión asociada al rna viral, y las otras cuatro proteínas están asociadas a la envoltura viral. la proteína s se ensambla en homotrímeros, y forma estructuras que sobresalen de la envoltura del virus. la proteína s contienen el dominio de unión al receptor celular y por lo tanto es la proteína determinante del tropismo del virus y además es la proteína que tiene la actividad de fusión de la membrana viral con la celular y de esta manera permite liberar el genoma viral en el interior de la célula que va a infectar.  el sars-cov-2 penetra en la célula empleando como receptor a la enzima convertidora de angiotensina 2 (ace-2 por sus siglas en inglés), una exopeptidasa de membrana presente fundamentalmente en el riñón, los pulmones y el corazón.  se ha observado que los casos graves de covid-19 presentan niveles de angiotensina ii muy altos. y el nivel de angiotensina ii se ha correlacionado con la carga viral de sars-cov-2 y el daño pulmonar. este desequilibrio del sistema renina-angiotensina-aldosterona podría estar en relación con la inhibición de la enzima convertidora de angiotensina-2 por parte del virus. este mismo mecanismo fue observado en el brote producido por síndrome respiratorio agudo grave en 2003.  la glicoproteína s de la envoltura del virus interacciona con el receptor celular eca2 (enzima convertidora de angiotensina 2), una proteína de la membrana celular que cataliza la conversión de angiotensia i en el nonapéptido angiotensina 1-9 o de angiotensia ii en angiotensina 1-7. el virus entra por endocitosis. una vez en el endosoma ocurre una bajada de ph mediada por lisosomas, que promueve la fusión de la membrana del endosoma con la envoltura del virus, lo que libera la nucleocápside al citoplasma. proteasas celulares degradan la cápside y el genoma del virus queda libre en el citoplasma. a continuación, al ser un genoma arn sentido positivo, la maquinaria celular traduce directamente a poliproteínas que son procesadas y se forma el complejo de replicación y transcripción. luego se sintetiza la hebra complementaria de arn pre-genómico sentido negativo que servirá como molde para replicar el genoma viral sentido positivo. además, el complejo de replicación y transcripción sintetizará a una serie de arn subgenómicos sentido positivo, más pequeños. estos son los que se traducirán a las proteínas virales. todo este proceso ocurrirá en el citoplasma de la célula. se irán sintetizando las proteínas estructurales que se expresarán en la membrana del retículo endoplasmático. ahí, en el retículo, es donde ocurrirá el ensamblaje. de hecho la envoltura del virus proviene de la membrana del retículo endoplasmático. la partícula viral viajará, a través del sistema de transporte de vesículas celular en el que interviene el aparato de golgi, hasta la superficie. la partícula viral saldrá de la célula por exocitosis. tras una última fase de maduración, en la que intervienen proteasas virales, todos los componentes del virus encajarán, la partícula será infecciosa y podrá comenzar un nuevo ciclo celular.  el virus puede pasar a través de las mucosas, especialmente la mucosa nasal y laríngea, luego ingresa a los pulmones a través del tracto respiratorio. entonces el virus atacaría a los órganos objetivo que expresan eca2, como los pulmones, el corazón, el sistema renal y tracto gastrointestinal. el virus comienza un segundo ataque, causando que la condición del paciente empeorar alrededor de 7 a 14 días después del inicio. la reducción de linfocitos b puede ocurrir temprano en la enfermedad, que puede afectar la producción de anticuerpos en el paciente. además, los factores inflamatorios asociados con las enfermedades que contienen principalmente il-6 aumentaron significativamente, lo que también contribuyó al agravamiento de la enfermedad alrededor de 2 a 10 días después del inicio. el espectro clínico de covid-19 varía de formas asintomáticas  a condiciones clínicas caracterizadas por insuficiencia respiratoria severa que requiere ventilación mecánica y apoyo en una unidad de cuidados intensivos (uci), a manifestaciones en varios órganos y sistemas produciendo sepsis, shock séptico y síndrome de disfunción multiorgánica.  el período de incubación, es decir el tiempo que transcurre desde que una persona se infecta por el virus hasta que presenta síntomas, oscila en general entre los 4 y los 7 días, en el 95 % de las ocasiones es menor a 12.5 días. los límites extremos se han establecido entre 2 y 14 días después del contagio.  a nivel inmunológico, se ha evidenciado niveles elevados de il-6 y otras citoquinas proinflamatorias en pacientes con covid-19 grave. esta observación, junto con otros parámetros clínicos asociados a casos graves como linfopenia (disminución de linfocitos en sangre) e hiperferritinemia ha llevado a hipotetizar que un subgrupo de pacientes de covid-19 puede sufrir un síndrome de liberación de citoquinas. el síndrome de liberación de citoquinas (crs por sus siglas en inglés), también denominado tormenta de citoquinas, es un síndrome causado por una respuesta inflamatoria sistémica mediada por citoquinas que puede desencadenarse por una variedad de factores como infecciones y algunos medicamentos. las citoquinas son proteínas solubles que actúan sobre las células del sistema inmune y que regulan la activación, proliferación y reclutamiento celular. el síndrome de liberación de citoquinas se produce cuando se activan grandes cantidades de leucocitos (neutrófilos, macrófagos y mastocitos) y liberan grandes cantidades de citoquinas proinflamatorias. el crs se describió inicialmente como un efecto adverso de terapias con anticuerpos monoclonales, y es frecuente también en las terapias con células cart (células t con receptor de antígeno quimérico). las principales citoquinas implicadas en la patogénesis del crs incluyen la interleuquina (il)-6, la il-10, el interferón (ifn), la proteína quimiotáctica de monocitos 1 (mcp1) y el factor estimulante de las colonias de granulocitos-macrófagos (gm-csf); otras citoquinas como el factor de necrosis tumoral (tnf), il-1, il-2, il-2-receptor- e il-8 también se han descrito durante el crs. la patogénesis del crs en pacientes con covid-19 es todavía desconocida. sin embargo, las observaciones clínicas apuntan a que cuando la repuesta inmune no es capaz de controlar eficazmente el virus, como en personas mayores con un sistema inmune debilitado, el virus se propagaría de forma más eficaz produciendo daño en el tejido pulmonar, lo que activaría a los macrófagos y granulocitos y conduciría a la liberación masiva de citoquinas proinflamatorias. esta inflamación pulmonar aumentada estaría asociada al síndrome de dificultad respiratoria aguda (sdra) que se ha descrito como la principal causa de mortalidad por covid-19.  respuesta en el embarazo hoy en día, son muchas las incógnitas acerca de la situación de las mujeres embarazadas durante la pandemia del covid-19. debido a que son propensas a sufrir complicaciones e infecciones graves por otros tipos de coronavirus, se les ha considerado como grupo de riesgo y aconsejado que tomen una serie de medidas preventivas adicionales.  algunas de las respuestas en el embarazo pueden ser: - inmunológica: al igual que a la de otros virus, la respuesta inmunitaria a la covid-19 dependerá de si se dispone de un sistema inmunitario sano. este se adapta durante el embarazo para permitir el desarrollo de un feto cuya carga genética solo comparte a medias con su madre, lo que conlleva a una reacción inmunitaria diferente frente a las infecciones durante la etapa del embarazo.  - respiratoria: existen numerosos factores que aumentan la vulnerabilidad de las embarazadas a las infecciones respiratorias graves. dos ejemplos de ello pueden ser la disminución de la capacidad pulmonar y la incapacidad de eliminar las secreciones.  - coagulación: durante el embarazo, los niveles de coagulación en el sistema circulatorio son elevados, y la patogénesis del sars-cov-2 puede guardar una relación con ello. los eventos tromboembólicos con mortalidad asociada son un riesgo para las embarazadas.  sin embargo, partiendo de la base de las pruebas actuales, es difícil sacar conclusiones definitivas sobre si las embarazadas corren un mayor riesgo de sufrir consecuencias graves debido a este virus.  además, otros ensayos clínicos han demostrado que el sars-cov-2 puede afectar al periodo del embarazo de diferentes formas. por un lado, no existen muchas evidencias acerca de su impacto durante las 12 primeras semanas de gestación. por otro lado, la infección por la covid-19 puede ocasionar consecuencias negativas durante el periodo de embarazo. algunos ejemplos de ello pueden ser la restricción del crecimiento del feto, el nacimiento prematuro y la mortalidad perinatal, es decir, la muerte del feto después de las 22 o 28 semanas completas de embarazo, así como a la muerte de niños recién nacidos con 7 días de vida.  las personas infectadas pueden estar asintomáticas o presentar un cortejo de síntomas que oscilan desde leves a muy graves, entre ellos fiebre, disnea   y tos seca. la covid-19 afecta de distintas maneras en función de cada persona. la mayoría de las personas que se contagian presentan síntomas de intensidad leve o moderada, y se recuperan sin necesidad de hospitalización. la diarrea y otros síntomas de rinofaringe, como estornudos, rinorrea y dolor de garganta, son menos frecuentes.  aunque las personas de avanzada edad son más vulnerables a la enfermedad, a mitad de marzo de 2020, la oms recordó que los jóvenes también pueden tener complicaciones e incluso llegar a la muerte por el virus.  los síntomas de la covid-19 son inespecíficos y su presentación, según la oms, puede incluso carecer de síntomas (asintomático). en base a una muestra estadística de 55 924 casos confirmados por laboratorio, la frecuencia de presentación de los síntomas en la población china era la del cuadro adjunto.  *(hasta el 20 de febrero de 2020 y en base a 55 924 casos confirmados por laboratorio).  se ha informado de la pérdida completa del olfato (anosmia) en un 80 % de los diagnosticados, llegando a 88 % los que presentan algún grado de alteración en el gusto.  otros han registrado la pérdida súbita del olfato y el gusto de forma menos frecuente (sin que la mucosidad fuese la causa).   al principio se informó que los síntomas incluían fiebre en el 90 % de los casos, malestar y tos seca en el 80 % de los casos, y dificultades respiratorias en el 20 % de los casos.     la revista the lancet publicó el 24 de enero de 2020 un estudio de los primeros 41 casos de pacientes ingresados (en hospital de wuhan) con el diagnóstico confirmado, desde el 16 de diciembre de 2019 al 2 de enero de 2020.  de ellos, menos de la mitad tenían enfermedades subyacentes, entre ellas diabetes, hipertensión y enfermedad cardiovascular. los síntomas comunes al inicio de la enfermedad fueron fiebre, tos seca y mialgias o fatiga; los síntomas menos comunes fueron la producción de esputo, cefalea, hemoptisis y diarrea. la disnea se desarrolló en 22 de 40 pacientes (55 %), con una mediana del tiempo desde el inicio de la enfermedad hasta la disnea de ocho días. presentaron linfopenia 26 de 41 pacientes (63 %). todos los pacientes tuvieron neumonía con hallazgos anormales en la tc de tórax.  algunos de los infectados pueden ser asintomáticos y mostrar resultados de la prueba que confirman la infección, pero no muestran síntomas clínicos, por lo que los investigadores han emitido consejos de que las personas con contacto cercano con los pacientes infectados confirmados deben ser monitoreadas y examinadas de cerca para descartar la infección.  se han descrito alteraciones cutáneas asociadas a covid-19.  las complicaciones incluían el síndrome de dificultad respiratoria aguda (resultado positivo para rt-pcr en tiempo real en la muestra de plasma), lesión cardíaca aguda, e infección secundaria. en un estudio de serie de casos publicado en enero de 2020, de 41 pacientes ingresados en un hospital en wuhan por covid-19, 13 fueron ingresados en una uci (32 %) y seis murieron (15 %). en un comentario clínico de la misma revista, se presenta una comparación de la presentación clínica frente a otros coronavirus emergentes (sars y mers); entre otros datos clínicos en los casos estudiados por el momento, cabe destacar que los síntomas de las vías respiratorias superiores son notablemente infrecuentes (por ejemplo, ningún paciente presentaba dolor de garganta).  hay que mencionar que la covid-19 ha tenido consecuencias más graves en los hombres que en las mujeres debido a diferencias biológicas: el sistema inmunitario de la mujer es más potente, algunas enfermedades crónicas son más frecuentes en hombres, etc. las complicaciones más frecuentes son neumonía y fallo multiorgánico que en ocasiones provocan la muerte.   en el caso de las mujeres embarazadas, resulta importante destacar que, según los centros para el control y prevención de enfermedades, las mujeres embarazadas tienen mayor riesgo de enfermarse gravemente a causa de la covid-19.  esto se debe a que las mujeres embarazadas que tienen la covid-19 parecen tener más probabilidad de desarrollar complicaciones respiratorias y obstétricas que pueden provocar un aborto espontáneo, un parto prematuro y una restricción del crecimiento intrauterino (rciu).  la investigación clínica encontró que se detecta una alta concentración de citoquinas en el plasma de pacientes críticos infectados con sars-cov-2, lo que sugiere que la tormenta de citocinas se asociaba con la gravedad de la enfermedad.  además, el covid-19 puede predisponer a la enfermedad tromboembólica arterial y venosa debido a la inflamación excesiva, hipoxia, inmovilización y coagulación intravascular diseminada (cid). sorprendentemente, las complicaciones trombóticas apenas se han descrito. el conocimiento preciso de la aparición de complicaciones trombóticas en pacientes con covid-19 es importante para la toma de decisiones con respecto a la intensidad de la tromboprofilaxis, especialmente en pacientes ingresados en la unidad de cuidados intensivos (uci) que tienen un riesgo trombótico más alto. en un estudio publicado el 11 de abril de 2020, se evidenció que había un 31 % de complicaciones trombóticas en pacientes con covid-19 hospitalizados en uci.  frecuentemente se dan secuelas en forma de deterioro físico, cognitivo y psicológico en pacientes de covid-19 que han pasado por uci, que reciben a menudo tratamiento rehabilitador.  predispone a complicaciones en pacientes con fibrilación auricular  de entre los 41 primeros casos de covid-19 que fueron tratados en hospitales de wuhan, trece (32 %) necesitaron cuidados intensivos y seis (15 %) murieron.  muchos de los que fallecieron presentaban patologías previas como hipertensión arterial, diabetes o enfermedad cardiovascular que debilitaban sus sistemas inmunológicos.  en estos casos tempranos que acabaron en fallecimiento, la mediana de la duración de la enfermedad fue de catorce días y el rango total fue de 6 a 41 días.  de los casos confirmados, 80,9 % fueron clasificados como casos leves.   según un estudio de los fallecimientos por covid-19 en la provincia china de hubei, sobre un total de 72 314 registros de pacientes, 44 672 (61,8 %) fueron confirmados como casos de covid-19. entre ellos se registraron 1023 muertes, lo que supone un índice de mortalidad del 2,3 %.  este dato, sin embargo, puede ser una sobreestimación de la mortalidad real debido a que muchas personas pueden haber sido infectados, pero no presentar síntomas, y por tanto no haber sido contabilizados. otros estudios indican que la mortalidad aparente fue mayor en las primeras etapas del brote (17,3 % para casos sintomáticos entre el 1 y 10 de enero), y que se fue reduciendo con el tiempo a 0,7 % para pacientes con aparición de síntomas después del 1 de febrero de 2020.  corea del sur, que es el único país del mundo donde se realizaron desde el principio de la pandemia, análisis sistemáticos de grandes conjuntos de población (unos 10 000 al día, con 210 000 contabilizados hasta el 10 de marzo), se constató una tasa de mortalidad mucho más baja.  al 3 de marzo de 2020 a nivel global, 3 110 de los 90 892 casos comunicados de covid-19 habían muerto (3,4 %), según cifras indicadas por el director de la oms.   según datos mundiales, en la mayoría de los países, las tasas de mortalidad por covid-19 son más altas en hombres que en mujeres. sin embargo, en algunos países como la india, nepal, vietnam y eslovenia son más altas en mujeres (llegando incluso al 3,5 % en algunos países).  por ejemplo, en el primer país que se ha mencionado (en donde se había registrado un total 6,4 millones de casos ya el 30 de septiembre de 2020), la tasa de letalidad es mayor en mujeres (un 3,3 % de mujeres frente a un 2,9 % de hombres), puesto que existe cierta desigualdad de género para acceder a la sanidad. no obstante, los datos son ambiguos y hay otros aspectos que se deben tener en cuenta, a saber: el menor grado de envejecimiento de la población femenina hace que las mujeres sean menos propensas a fallecer, pero el escaso número de pruebas no proporciona datos definitivos (se estima que el rango de mortalidad es elevado especialmente en mujeres de entre 40 y 49 años). la ignorancia respecto a la covid-19 todavía se hace presente en numerosos ámbitos. es primordial que se realicen estudios respecto a la edad, el nivel socioeconómico y la raza de cada persona con el fin de que se tomen medidas contundentes y efectivas para diferenciar definitivamente los aspectos biológicos de los ambientales.  en italia al 31 de marzo de 2020, se constató que la edad mediana de los fallecidos por covid-19 fue de 79 años. el 69 % de los fallecidos eran hombres y solo un 2 % se encontraba con buena salud (es decir, ausencia de patologías previas) antes de la infección.  en china se observó también que la mortalidad aumentaba con la edad y es más alta entre los hombres que en las mujeres (4,7 % frente al 2,8 %). mientras que los pacientes sin patologías previas tenían una tasa de mortalidad del 1,4 %, aquellos que sí tenían fallecían a tasas mucho más altas: 13,2 % para enfermedades cardiovasculares, 9,2 % para diabetes, 8,4 % para hipertensión, 8,0 % para enfermedad respiratoria crónica y 7,6 % para cáncer.  en un estudio publicado en línea en la revista pediatrics, unos investigadores analizaron 2 143 casos de niños menores de 18 años que fueron comunicados al ccdc hasta el 8 de febrero de 2020. aproximadamente la mitad de los niños tenían síntomas leves, como fiebre, fatiga, tos seca, congestión y posiblemente náuseas o diarrea. alrededor del 39 % se enfermó moderadamente, con síntomas adicionales que incluyen neumonía o problemas pulmonares revelados por la tomografía computarizada, pero sin dificultad respiratoria evidente. cerca del 4 % no tenía síntomas en absoluto. pero 125 niños, casi el 6 %, desarrollaron una enfermedad muy grave y un niño de 14 años con infección confirmada por coronavirus murió. trece de ellos fueron considerados «críticos», al borde de la insuficiencia respiratoria u orgánica. los otros fueron clasificados como «graves» porque tenían problemas respiratorios graves. más del 60 % de los 125 niños que se enfermaron gravemente o tuvieron una enfermedad crítica, tenían 5 años o menos. cuarenta de ellos eran infantes, menores de 12 meses.  por tanto, los efectos de la pandemia tienen mayor repercusión en los grupos de personas de edad avanzada y especialmente en las mujeres siendo la tasa de contagios mayor entre mujeres, aunque el virus es más letal en los hombres. así mismo, el covid persistente es más frecuente en mujeres  uno de los factores puede ser que los cuidados suelen recaer en las mujeres, y, por lo tanto, su exposición al virus es mayor que en el caso de los hombres. además, dentro de la familia, los cuidados de las personas dependientes suelen recaer también en las mujeres. entre sanitarios, el porcentaje de contagios también es mayor en mujeres (66%) según la oms, en situaciones similares con otros virus, las mujeres también han alcanzado un mayor índice de contagios. en el caso de los hombres, la oms también sugiere que estos tienen mayor riesgo de exposición en el ámbito laboral, mientras que las mujeres son más propensas a contagiarse en las actividades diarias, tal y como se indica anteriormente. conviene resaltar en este punto la cuestión de las residencias de mayores. la mayoría de personas en las residencias son mujeres, que a su vez son atendidas habitualmente por mujeres. atendiendo a los datos del imserso, las mujeres representan el 70,4% de las personas que viven en residencias, por un 29,6% de hombres.  en conclusión, es necesario incorporar a las personas mayores al debate, para que se haga efectiva la igualdad y se integre una mirada de género transversal que incluya todos los ámbitos de participación social. aunque en china hay mayor número de casos en hombres, en otros países asiáticos como corea del sur, hay mayor número de casos en mujeres. además, hay otros países como españa y bélgica que registran un número desigual entre hombres y mujeres durante toda la pandemia. al principio había más casos en hombres que en mujer, pero a partir del 31 marzo se empezaron a igualar  sin embargo las mujeres son menos susceptibles a las enfermedades víricas gracias a sus disposiciones genéticas, los cromosomas x y hormonas sexuales.  por lo que, la mayoría de casos reside en los hombres, según los datos recogido el 5 abril.  así, podemos ver diferentes síntomas de covid entre hombres y mujeres, manifestándose en hombres mediante fiebre, disnea, neumonía, síndrome de distrés respiratorio agudo y fallo renal ; mientras que en las mujeres, dolor de garganta, vómitos y diarrea  otra de las diferencias de género más importantes es la desigualdad en el trabajo entre hombres y mujeres. en este caso, hay un mayor número de mujeres confinadas, puesto que se encargan de trabajos como el cuidado de personas mayores o en los que están más en contacto con los pacientes en los hospitales, ya que se registra un mayor número de enfermeras que enfermeros. además, aunque se registre un caso mayor de hombres fallecidos y hospitalizados, hay una gran cantidad de casos no registrados, como por ejemplo en las residencias, que podrían tratarse de muertes de diferentes mujeres.  cabe destacar el análisis de las consecuencias socioeconómicas de la pandemia del coronavirus desde una perspectiva de género. las mujeres son las más afectadas en el plano laboral y, como consecuencia, en el plano social.  se puede afirmar que durante el primer confinamiento a nivel casi mundial las tareas del hogar aumentaron en gran medida recayendo estas en las mujeres mayoritariamente, el 78,7 % de las mujeres europeas realizan las tareas del hogar, mientras que sólo un 33,7% de hombres se encargan de esto.  a esto le sumamos que debido al teletrabajo y demanda de trabajos a tiempo parcial ha aumentado y está más solicitado por mujeres que tienen que cuidar de sus hijos y hacer las tareas domésticas al mismo tiempo. así pues, las mujeres se enfrentan a una carga triple de trabajo que puede agravar las desigualdades preexistentes.  el sector del servicio, así como los trabajos de cara al público o en primera línea contra la lucha del coronavirus son los más afectados en esta crisis, unos sectores compuestos por un mayor número de mujeres que de hombres por lo que son estas las que tienen que afrontar más pérdidas de empleo. sumándole que en los trabajos a tiempo parcial se gana menos que en los de tiempo completo, una de las consecuencias más graves en el plano socioeconómico es el aumento de la brecha salarial que en términos globales constituye un 23% entre hombres y mujeres.   la situación de vulnerabilidad estructural del colectivo lgtbi también ha incrementado a raíz de la pandemia. las medidas en la economía han afectado especialmente a este colectivo debido a que un elevado número de personas lgtbi trabajan en sectores en los que las restricciones de contención del virus han supuesto la pérdida de numerosos puestos de trabajo, y dependen en muchos casos de fuentes de ingresos informales.   por otro lado, la pandemia ha afectado a la salud mental, social y sexual de las personas lgtbi por varios motivos. el cierre de locales y espacios de ocio dirigidos al colectivo ha ocasionado una pérdida significativa de espacios de socialización seguros para las personas lgtbi. además, las medidas de aislamiento han causado que muchas personas del colectivo hayan tenido que estar encerradas en situaciones de hostilidad, con familiares u otros convivientes que no aceptan su condición sexual e identidad,  generando así situaciones de violencia psicológica e incluso física,  con evidentes consecuencias emocionales y de salud mental, entre las que se encuentran un aumento o empeoramiento de trastornos de ansiedad y depresión. además, este tipo de medidas han agravado a situación de soledad en miembros de la comunidad, particularmente en personas mayores lgtbi, ya que frecuentemente viven solas y no tienen relaciones positivas con sus familias.  además, varios organismos de defensa de los derechos humanos (human rights watch, amnistía internacional, iesogi) apelan al hecho de que varios gobiernos han hecho uso del contexto de pandemia para criminalizar y demonizar a miembros de minorías como el colectivo lgtbi.  estas personas han sufrido las consecuencias de la promulgación de discursos de odio que las señalan como el foco de transmisión de la enfermedad, e incluso, en casos más extremos, como responsables de la misma.  asimismo, la pandemia ha causado que la entrada en vigor de derechos para la población lgtbi se haya aplazado o en algunos casos detenido.  la respuesta inmunitaria natural de los seres humanos al virus sars-cov-2 se produce como una combinación de la inmunidad mediada por células y la producción de anticuerpos,  igual que con casi todas las otras infecciones.  las células b interactúan con las células t y comienzan a dividirse antes de la selección en la célula plasmática, en parte sobre la base de su afinidad por el antígeno. la presencia de anticuerpos neutralizantes en la sangre se considera una prueba de inmunidad contra la infección, pero el nivel de anticuerpos neutralizantes disminuye con el tiempo, llegando a desaparecer tras tres meses en el 1% de los pacientes y tras seis meses en el 12%.  sin embargo, la ausencia de anticuerpos en la sangre no significa que el sistema inmunitario no pueda producir nuevos anticuerpos rápidamente en caso de reexposición al sars-cov-2. las células b de memoria específicas para las proteínas de la nucleocápside y el pico del sars-cov-2 duran al menos 6 meses después de la aparición de los síntomas. dado que el sars-cov-2 ha estado en la población humana solo desde diciembre de 2019, al principio de la pandemia se desconocía si la inmunidad era duradera en las personas que se recuperan de la enfermedad. se reportaron casos de reinfección en pacientes que ya habían pasado la enfermedad y se temía que el sars-cov-2 se comportase como algunos otros coronavirus, que son capaces de reinfectar después de aproximadamente un año.  en un estudio de enero de 2021 se encontró que la mayoría de los pacientes infectados por el virus sars-cov-2 quedan inmunizados durante al menos cinco meses, teniendo una probabilidad mucho más baja (el 83%) de infectarse de nuevo que aquellos que no habían estado expuestos previamente al virus. además, en caso de reinfección los previamente infectados solían no presentar síntomas (78% de los casos) mientras que la ausencia de síntomas solo se dio en un 34% de los no infectados previamente.   en un estudio de marzo de 2021 se observó que solo un 0,65% de los pacientes infectados por sars-cov-2 volvieron a dar positivo en pcr al menos tres meses más tarde y que ninguno se infectó una tercera vez. se estima que haber sido infectado reduce, de media, un 80% la probabilidad de infectarse una segunda vez y que la protección dura al menos seis meses.   en otro estudio publicado en mayo de 2021, se concluyó que la inmunidad natural contra el sars-cov-2 dura años, probablemente toda la vida, incluso en personas que tuvieron síntomas leves de covid o no tuvieron cuando fueron infectados.     ello se debe a la acción tanto de las células b como de las células plasmáticas de médula ósea de larga vida. en total, se estima que haber contraído el virus proporciona una inmunización natural contra los síntomas de covid-19 del 94%. esta cifra es comparable a la que se anunció inicialmente para las mejores vacunas. no obstante, al igual que las vacunas, haber pasado el virus no garantiza que una persona no pueda volver a contraerlo y a contagiarlo, por lo cual las autoridades sanitarias recomiendan que todos los previamente infectados sigan aplicando los métodos de prevención habituales.  un estudio israelí publicado en agosto de 2021 muestra que la inmunidad natural es en realidad más robusta y más duradera que la obtenida mediante vacunación.  la inmunidad innata frente al sars-cov-2 se utilizan principalmente por macrófagos y células nk,en la inmunidad celular se utiliza por células dendriticas,linfocitos t cd4+ y linfocito t cd8+, y también en la inmunidad humoral la primera línea de defensa se utiliza la igm y después la igg, las citocinas implicadas en la inmunidad es el balance entre proinflamatorio y antiinflamatorio (il-1β, il-1ra, il-2ra, il-6, il-7, il-8, il-9, il-10, fgf básico, g-csf, gm-csf, hgf, interferón gamma, ip-10,mcp-1, mip-1a, mip-1b,pdgf, tnf-α, vegf y tgf-beta), la duración es alrededor de 2 semanas.     las pruebas de laboratorio para el diagnóstico de la covid-19 (enfermedad causada por el sars-cov-2) incluyen los métodos que detectan la presencia del propio virus y aquellos que detectan los anticuerpos producidos por el cuerpo humano en respuesta a la infección. los tres tipos principales son:  debido a la complejidad y coste de las pruebas pcr, en los primeros meses de la pandemia casi ningún país dispuso de datos confiables sobre la prevalencia del virus en su población.  esta variabilidad también afectó las tasas de mortalidad reportadas. la radiología torácica (bien por radiografía, tomografía computerizada o ecografía) puede ayudar al diagnóstico de covid-19 e identificar o descartar complicaciones pulmonares.  una parte clave de las actuaciones en un brote de enfermedad infecciosa es tratar de disminuir el pico epidémico, conocido como aplanamiento de la curva epidémica. esto ayuda a disminuir el riesgo de que los servicios de salud se vean sobrepasados y proporciona más tiempo para desarrollar una vacuna y un tratamiento. el distanciamiento social y el aislamiento de las poblaciones infectadas pueden contener la epidemia.  algunas organizaciones internacionales, como la oms, han publicado medidas preventivas para reducir la transmisión del virus. son similares a las que se han recomendado para prevenir la infección por otros coronavirus e incluyen: para reducir las posibilidades de infectarse, las organizaciones sanitarias recomiendan evitar el contacto cercano con personas enfermas; lavarse las manos frecuentemente con agua y jabón; no tocarse los ojos, la nariz o la boca con las manos sin lavar; y practicar una buena higiene respiratoria.   a las personas que ya estén infectadas, se les recomienda que se queden en casa, excepto para recibir atención médica, llamar con antelación antes de visitar a un proveedor de atención médica, usar una mascarilla facial (especialmente en público), tapar la tos y los estornudos con un pañuelo desechable, lavarse las manos regularmente con agua y jabón, y evitar compartir artículos personales del hogar.  dependiendo de la legislación de cada país, el contagio intencionado del virus está penado de acuerdo al ordenamiento jurídico de donde ocurra el hecho.  el gobierno de hong kong advirtió a cualquiera que viaje fuera de la ciudad que no toque animales; no coma carne de caza; y evite visitar mercados húmedos, mercados de aves vivas y granjas.  no hay evidencia de que las mascotas, como perros y gatos, puedan infectarse.  el gobierno de china ha prohibido el comercio y el consumo de animales salvajes.  para los proveedores de atención médica que cuidan a alguien que pueda estar infectado, se recomiendan precauciones estándar, precauciones de contacto y precauciones contra los virus transmitidos por el aire así como llevar protección ocular.  se recomienda lavarse las manos para evitar la propagación del coronavirus. los cdc recomiendan:  las personas deben evitar tocarse los ojos, la nariz o la boca con las manos sin lavar.  el sars-cov-2 puede sobrevivir y permanecer contagioso en superficies inanimadas como metal, vidrio o plástico por varios días. los métodos para eliminar el virus de las superficies incluyen desinfectantes a base de cloro, etanol al 75 %, ácido peracético y cloroformo.  las organizaciones de salud recomendan cubrirse la boca y la nariz con el codo flexionado al toser o estornudar o cubrirse la boca y la nariz con un pañuelo desechable (que luego debe desecharse de inmediato) y a continuación lavarse las manos con un desinfectante de manos a base de alcohol o con agua y jabón.   los gobiernos han ordenado el uso general de mascarillas para contener la pandemia. las máscarillas benefician la salud pública al reducir los contagios. aquellos que sospechan que están infectados deben llamar a un médico para recibir asesoramiento y usar una mascarilla (especialmente cuando están con más gente).   las máscaras limitan el volumen y la distancia de viaje de las gotas respiratorias dispersas al hablar, estornudar y toser. no obstante, varios estudios han concluido que, dado que las mascarillas están diseñadas según los rasgos prototípicos masculinos, no suelen adaptarse bien a la cara de las mujeres, lo que las deja más expuesta al virus.  si no hay una máscara disponible, cualquier persona que experimente síntomas respiratorios debe cubrirse con un pañuelo al toser o estornudar, desecharlo rápidamente en la basura y lavarse las manos. si no está disponible un tejido, las personas pueden cubrirse la boca o la nariz con el codo flexionado.  las máscaras también se recomiendan para quienes cuidan a alguien que pueda tener la enfermedad.  enjuagar la nariz, hacer gárgaras con enjuague bucal y comer ajo no son métodos efectivos.  la oms aconseja usar las mascarillas así:  las máscarillas normales buscan principalmente reducir la propagación de la enfermedad evitando contagiar a otros, así que pueden dar una falsa sensación de seguridad a quienes las lleven. en cambio, los respiradores certificados también dan una gran protección a su portador. se recomienda a los profesionales de la salud que interactúan directamente con personas que tienen la enfermedad que usen respiradores con una protección tan alta como el grado n95 certificado por niosh, o el grado ffp2 de la ue, o equivalente, además de otros posibles equipos de protección personal.   hay mascarillas que llevan alguna válvula de exhalación (es decir, de salida), la cual expulsa el aire de la respiración sin filtrar. si su portador está infectado (y puede estarlo sin saberlo), transmitiría el virus a través de la válvula, incluso estando la mascarilla certificada. así que las mascarillas con válvula de salida no están recomendadas para controlar la pandemia. las máscaras quirúrgicas (normales) son utilizadas desde hace tiempo por personas sanas en hong kong,  japón,  singapur   y malasia.  además de la guía mencionada anteriormente sobre el lavado de manos y la higiene respiratoria, los organismos de salud pública aconsejan que las personas enfermas que sospechan que pueden tener covid-19 deben restringir las actividades fuera del hogar, excepto para obtener atención médica:    medidas de prevención recomendadas por la oms incluyen el lavado regular de manos con agua y jabón, cubrirse la boca y la nariz con el codo flexionado cuando se va a toser o estornudar y evitar el contacto directo con personas que muestren síntomas de enfermedad respiratoria sin medidas de protección adecuadas.   además se ha recomendado evitar el contacto con animales, tanto vivos como muertos, en las zonas donde se está propagando el virus  y, una recomendación para reducir también el riesgo de otras enfermedades infecciosas, solamente comer carne o huevos si están bien asados o cocinados.  el distanciamiento social incluye acciones de control de infecciones destinadas a retrasar la propagación de la enfermedad al minimizar el contacto cercano entre las personas. los métodos incluyen cuarentenas, restricciones de viaje y cierre de escuelas, lugares de trabajo, estadios, teatros o centros comerciales. las personas también pueden aplicar métodos de distanciamiento social limitando los viajes, evitando áreas llenas de gente y alejándose físicamente de las personas enfermas.   muchos gobiernos ahora exigen o recomiendan el distanciamiento social en las regiones afectadas por el brote.    los adultos mayores y aquellos con afecciones crónicas graves se enfrentan a un mayor riesgo de enfermedades graves y complicaciones por covid-19 y los cdc de estados unidos les han aconsejado que eviten las multitudes y se queden en casa tanto como sea posible en áreas de brote comunitario.  algunos países, como canadá o estados unidos, emitieron directrices para no darse la mano, abrazarse o besarse.  algunos países como india han recomendado a sus ciudadanos que se debe evitar escupir en lugares públicos.  la organización mundial de la salud (oms) ahora recomienda para la población en general mantener «al menos 1 metro (3 pies) de distancia entre usted y las demás personas, particularmente aquellas que tosan, estornuden y tengan fiebre».  el harvard t.h. la escuela de salud pública chan recomienda una dieta saludable, estar físicamente activo,  manejar el estrés psicológico y dormir lo suficiente.  no hay pruebas sólidas de que el estado de la vitamina d tenga alguna relación con los resultados de salud de covid-19.  recientemente (diciembre 2021), se ha publicado una revisión sistemática en la que estudios observacionales en los que participaron casi dos millones de adultos sugieren que la deficiencia / insuficiencia de vitamina d aumenta la susceptibilidad al covid-19 y al covid-19 grave. existiendo un alto riego de heterogeneidad, por lo que no se pudo hacer el metaanálisis.  las vacunas contra la covid-19 comprenden al conjunto de vacunas que tratan de prevenir la enfermedad provocada por el sars-cov-2, virus responsable de la pandemia de coronavirus de 2019-2022. para febrero de 2021, diez vacunas han sido autorizadas para uso público por al menos una autoridad reguladora competente. además, hay unas 70 vacunas candidatas en investigación clínica, de las cuales 17 en ensayos de fase i, 23 en ensayos de fase i-ii, 6 en ensayos de fase ii y 20 en ensayos de fase iii.  las vacunas contra la covid-19, se pueden clasificar según el vector que utilizan para introducir el material del sars-cov-2. el vector puede ser una versión inactivada del propio coronavirus, otro virus (generalmente un adenovirus) al que se le ha insertado arn del sars-cov-2, o bien arn mensajero solo. la vacunas que se encuentran en uso en la actualidad son las: la eficacia más alta contra los síntomas obtenida hasta ahora por una vacuna contra la covid-19 es del 95%, un valor similar a la inmunidad natural que se obtiene al infectarse con el sars-cov-2.   otras vacunas, sin embargo, presentan una eficacia menor, algunas de solo el 50%.  otra diferencia importante entre las diferentes vacunas es su temperatura de conservación. mientras que las vacunas de adenovirus o coronavirus inactivados se conservan en refrigeradores, las de arn mensajero requieren congeladores a -20 ºc (moderna) o incluso a -80 ºc (pfizer), lo cual complica su distribución.    debido a la capacidad de producción limitada de los fabricantes de vacunas, los estados han tenido que implementar planes de distribución por etapas, que dan prioridad a la población de riesgo, como los ancianos, y a las personas con alto grado de exposición y transmisión, como los trabajadores sanitarios.   a fecha de diciembre de 2020, los países habían comprado por adelantado más de 10 mil millones de dosis de vacunas;  de ellas, aproximadamente, la mitad habían sido adquiridas por países de ingresos altos que representaban el 14% de la población mundial.  en el consejo del acuerdo sobre los adpic, que regula la propiedad intelectual y patentes dentro de la omc, la india y sudáfrica presentaron, en octubre de 2020, una propuesta para la suspensión temporal — mientras dure la pandemia — de los medicamentos, vacunas e instrumentación médica de uso en el tratamiento contra la covid-19. a esta propuesta se opusieron principalmente los países ricos, entre ellos estados miembros de la unión europea, los estados unidos, el reino unido y brasil.      en mayo de 2021, otros 60 países han copatrocinado la propuesta, que alcanza el apoyo de más de cien países, y el 5 de mayo los estados unidos dieron la sorpresa al anunciar que apoyaba la propuesta de suspensión de patentes, si bien solo en relación con la vacunas.  cuando alguien ha sido vacunado contra la covid (ha recibido todas las dosis necesarias de la vacuna, y ha pasado un tiempo establecido), todavía es posible transmitir la enfermedad, aunque las posibilidades quedan bastante reducidas (según algunas investigaciones).   además, las vacunas fallan en una pequeña proporción de la gente vacunada. así que se recomienda que la población siga realizando resoluciones preventivas (lavarse las manos con jabón, ponerse mascarilla, mantener la distancia social, etc.) para evitar los contagios, especialmente hacia gente vulnerable. las precauciones acabarían cuando los peligros de la pandemia estén oficialmente terminados. en lo referente al embarazo, aunque no se han hecho pruebas suficientes, 23 mujeres quedaron embarazadas durante el ensayo clínico de la vacuna pfizer y ninguna de ellas mostró ningún efecto adverso. sin embargo, la food and drug administration (fda) recomienda que las mujeres embarazadas o lactantes consulten con sus respectivos médicos a la hora de decidir si deben vacunarse. es importante recalcar que, si una mujer está en proceso de búsqueda del embarazo, la vacuna no afectará a su fertilidad en ningún caso.  actualmente (agosto 2021), existe la recomendación de vacunar a toda mujer embarazada.  varios tratamientos experimentales contra el covid-19 están actualmente en desarrollo o han sido aprobados en al menos un país: otros tratamientos que se consideraron prometedores durante los primeros meses de la pandemia, como la hidroxicloroquina y el lopinavir/ritonavir, resultaron después ser inefectivos o incluso perjudiciales.  la colchicina, un antiinflamatorio, ha dado resultados inciertos.  la investigación para encontrar un tratamiento eficaz comenzó en enero de 2020.  el centro chino para el control y prevención de enfermedades empezó a comprobar, a finales de enero, la eficacia de algunos tratamientos eficaces preexistentes contra la neumonía en pacientes con covid-19.  se han hecho pruebas también con medicamentos como el remdesivir, un inhibidor de la arn polimerasa,     y con interferón beta.  el 23 de enero de 2020 gilead sciences estaba en comunicación con investigadores y médicos en los estados unidos y china sobre el brote en curso de coronavirus de wuhan y el uso potencial del remdesivir como tratamiento de investigación.  a fines de enero de 2020, investigadores médicos chinos expresaron su intención de comenzar las pruebas clínicas con remdesivir, cloroquina y lopinavir / ritonavir, que parecían tener efectos inhibitorios sobre el sars-cov-2 a nivel celular en experimentos exploratorios in vitro.  la nitazoxanida se ha recomendado para estudios posteriores in vivo luego de demostrar una inhibición de baja concentración de sars-cov-2.  el 2 de febrero de 2020, médicos de tailandia afirmaron haber tratado a un paciente con éxito con una combinación de lopinavir / ritonavir y el medicamento contra la influenza oseltamivir.   el 5 de febrero, china comenzó a patentar el uso de remdesivir contra la enfermedad.       en marzo se están llevando a cabo ensayos clínicos de fase 3 en los estados unidos, china e italia con remdesivir.    en abril, se anunció que la ivermectina inhibe la replicación del sars-cov-2 in vitro  los metanálisis basados en 18 ensayos de tratamiento controlados aleatorios de ivermectina en covid-19 han encontrado reducciones grandes y estadísticamente significativas en la mortalidad, el tiempo hasta la recuperación clínica y el tiempo hasta la eliminación viral.  a finales de enero, el ministerio de salud de rusia identificó tres medicamentos para adultos que podrían ayudar a tratar la enfermedad. son ribavirina, lopinavir/ritonavir e interferón beta-1b. estos fármacos se usan habitualmente para tratar la hepatitis c, infección por vih y la esclerosis múltiple, respectivamente. el ministerio ofreció a los hospitales rusos descripciones y guías sobre el mecanismo de acción del tratamiento y las dosis recomendadas.  en febrero, china comenzó a usar triazavirin, un fármaco de 2014 desarrollado en rusia, con el objetivo de comprobar si es efectivo en el control de la enfermedad. este fármaco fue creado en la universidad federal de los urales en ekaterimburgo para tratar la gripe h5n1 (gripe aviar). se ha utilizado contra covid-19 debido a la similitud entre las dos enfermedades. el fármaco también parece ser efectivo contra la fiebre del valle del rift y el virus del nilo occidental, entre otras.  el 18 de marzo un artículo informa que el tratamiento con lopinavir/ritonavir da negativo en pruebas clínicas con 199 pacientes en china. no hay beneficios.  investigadores chinos descubrieron que arbidol, un medicamento antiviral utilizado para tratar la gripe, podría combinarse con darunavir, un medicamento empleado en el tratamiento del vih, para el tratamiento de pacientes con coronavirus.   el fosfato de cloroquina ha demostrado una eficacia aparente en el tratamiento de la neumonía asociada a covid-19. en pruebas clínicas con 100 pacientes se encontró que es superior al tratamiento de control para inhibir la exacerbación de la neumonía, mejorar los hallazgos de las imágenes pulmonares, promover una conversión negativa al virus y acortar la enfermedad. resultados de investigación mostraron que la proteína orf8 del sars-cov-2 y la glicoproteína de superficie podrían unirse a la porfirina, respectivamente, mientras que las proteínas del sars-cov-2 orf1ab, orf10 y orf3a podrían atacar de forma coordinada el hemo para disociar el hierro para formar la porfirina. el mecanismo interfirió seriamente con la vía anabólica normal del hemo en el cuerpo humano y esto produce una enfermedad humana. según el análisis de validación de estos hallazgos, la cloroquina podría evitar que orf1ab, orf3a y orf10 ataquen el hemo para formar la porfirina, e inhibir la unión de orf8 y glucoproteínas de superficie a las porfirinas en cierta medida.    investigadores de la universidad noruega de ciencia y tecnología (ntnu) han creado una base de datos con 120 agentes antivirales de amplio espectro seguros para las personas e identificaron 31 candidatos a fármacos para el tratamiento de sars-cov-2.  el centro nacional de desarrollo biotecnológico de china afirmó el 17 de marzo que el antiviral favipiravir, un inhibidor de la arn polimerasa,  mostró resultados positivos en un estudio de casos y controles con 80 pacientes en el hospital popular n.º 3 de shenzhen, los que recibieron tratamiento con favipiravir dieron negativo dentro de un periodo más reducido de tiempo en comparación con los del grupo de control, y recomienda que se incluya en el tratamiento.   estudios recientes han demostrado que el cebado inicial de la proteína de pico por la proteasa transmembrana serina 2 (tmprss2) es esencial para la entrada de sars-cov-2, sars-cov y mers-cov a través de la interacción con el receptor ace2.   estos hallazgos sugieren que el inhibidor de tmprss2 camostat aprobado para uso clínico en japón para inhibir la fibrosis en la enfermedad hepática y renal, la esofagitis por reflujo postoperatorio y la pancreatitis podrían constituir una opción de tratamiento eficaz fuera de etiqueta. la hidroxicloroquina, un derivado menos tóxico de cloroquina, sería más potente para inhibir la infección por sars-cov-2 in vitro.   el 16 de marzo de 2020, una importante autoridad francesa y asesor del gobierno francés sobre covid-19, el profesor didier raoult del instituto universitario hospitalario de enfermedades infecciosas (ihu-méditerranée infection) en marsella (bouches-du-rhône, provenza-alpes-côte d \\'azur), anunció que un ensayo con 24 pacientes del sureste de francia había demostrado que la cloroquina es un tratamiento efectivo para covid-19.   se administraron 600 mg de hidroxicloroquina (marca plaquenil) a estos pacientes todos los días durante 10 días. esto condujo a una «aceleración rápida y efectiva de su proceso de curación, y una fuerte disminución en la cantidad de tiempo que permanecieron contagiosos».  si bien la cloroquina tiene un largo historial de seguridad, los pacientes fueron monitorizados de cerca para detectar interacciones farmacológicas y posibles efectos secundarios graves. el profesor raoult dijo: «incluimos a todos los que estaban de acuerdo [para ser tratados], que era casi todos. dos ciudades en el protocolo, niza y aviñón, nos dieron pacientes [infectados] que aún no habían recibido tratamiento... pudimos determinar que los pacientes que no habían recibido plaquenil (el medicamento que contiene hidroxicloroquina) seguían siendo contagiosos después de seis días, pero de los que habían recibido plaquenil, después de seis días, solo el 25% seguía siendo contagioso».  en australia, el director del centro de investigación clínica de la universidad de queensland, el profesor david paterson, anunció su intención de realizar una gran investigación clínica. ensayo de la eficacia de la cloroquina y remedesivir como tratamientos para covid-19.  el ensayo compararía una droga, contra la otra droga, contra la combinación de las dos drogas. el profesor paterson esperaba comenzar a inscribir pacientes a fines de marzo de 2020.  un estudio limitado francés muestra que la hidroxicloroquina combinada con la azitromicina es más rápida que la hidroxicloroquina sola para transformar a los pacientes con covid-19 a negativo.  esta combinación no está indicada para el tratamiento del covid-19 y ha demostrado tener efectos secundarios graves.  el mesilato de nafamostat (nombre de marca: fusan), medicamento utilizado para tratar la pancreatitis aguda, puede bloquear efectivamente el proceso de entrada viral requerido que el nuevo coronavirus (sars-cov-2) usa para propagarse y causar enfermedad (covid-19). la universidad de tokio planea lanzar ensayos clínicos en abril de 2020 para evaluar la efectividad de estos dos medicamentos para tratar covid-19.  fujifilm anuncia el inicio de un ensayo clínico de fase iii del medicamento antiviral contra la influenza \"avigan tablet\" (nombre genérico: favipiravir).  el tocilizumab (un anticuerpo monoclonal) ha sido incluido en las pautas de tratamiento por la comisión nacional de salud de china después de que se completó un pequeño estudio.   se está sometiendo a una prueba no aleatoria de fase 2 a nivel nacional en italia después de mostrar resultados positivos en personas con enfermedad grave.   en combinación con un análisis de sangre de ferritina en suero para identificar tormentas de citoquinas, está destinado a contrarrestar tales desarrollos, que se cree que son la causa de la muerte en algunas personas afectadas.   el antagonista del receptor de interleucina-6 fue aprobado por la fda para el tratamiento contra el síndrome de liberación de citoquinas inducido por una causa diferente, la terapia con células car t, en 2017.  el instituto feinstein de northwell health anunció en marzo un estudio sobre \"un anticuerpo humano que puede prevenir la actividad\" de il-6. llamado sarilumab desarrollado en conjunto por regeneron pharmaceuticals y sanofi.  el nih tiene unas directrices sobre el uso del tocilizumab en el tratamiento de covi-19:  .mw-parser-output .flexquote{display:flex;flex-direction:column;background-color:#f9f9f9;border-left:3px solid #c8ccd1;font-size:90%;margin:1em 4em;padding:.4em .8em}.mw-parser-output .flexquote>.flex{display:flex;flex-direction:row}.mw-parser-output .flexquote>.flex>.quote{width:100%}.mw-parser-output .flexquote>.flex>.separator{border-left:1px solid #c8ccd1;border-top:1px solid #c8ccd1;margin:.4em .8em}.mw-parser-output .flexquote>.cite{text-align:right}@media all and (max-width:600px){.mw-parser-output .flexquote>.flex{flex-direction:column}} pacientes recientemente hospitalizados que han sido ingresados en la unidad de cuidados intensivos (uci) dentro de las 24 horas anteriores y que requieren ventilación mecánica invasiva, ventilación mecánica no invasiva (vni), u oxígeno a alto flujo por cánula nasal de (hfnc) (> 0,4 fio 2 / 30 l / min de flujo de oxígeno) (biia) ; o pacientes hospitalizados recientemente (no en la uci) con necesidades de oxígeno en rápido aumento que requieren vni o hfnc y tienen marcadores de inflamación significativamente aumentados (biia) ( nota : el criterio de inclusión del ensayo recovery para la inflamación fue proteína c reactiva [pcr] ≥75 mg / l; consulte los detalles a continuación). para los pacientes hospitalizados con hipoxemia que requieren un suplemento de oxígeno convencional, el panel recomienda usar una de las siguientes opciones: remdesivir (biia), dexametasona más remdesivir (biii) o dexametasona sola (bi) (ver manejo terapéutico de adultos con covid-19). en marzo de 2021 la cochrane library publicó una revisión sistemática sobre el tocilizumad en el tratamiento del covid19  en pacientes con síndrome respiratorio agudo severo, que no responden a tratamiento y con criterios de afectación pulmonar con fibrosis, ya se ha publicado resultados sobre trasplante pulmonar  los hallazgos de este informe muestran que el trasplante de pulmón es la única opción para la supervivencia en algunos pacientes con sdra asociado a covid-19 grave que no se resuelve, y que el procedimiento se puede realizar con éxito, con buenos resultados tempranos después del trasplante, en pacientes cuidadosamente seleccionados. se está investigando el uso de donaciones de plasma sanguíneo de personas que ya se han recuperado de la covid-19,  una estrategia que se aplicó con éxito contra la gripe de 1918 y que se ha probado para el sars, un primo anterior de covid-19  y otras enfermedades como la fiebre hemorrágica argentina. el mecanismo de acción es que los anticuerpos producidos naturalmente (\"suero convaleciente\") en el sistema inmune de aquellos que ya se han recuperado, se transfieren directamente a las personas que los necesitan.  se proporciona así una forma de inmunización no basada en vacuna. esta terapia fue autorizada por la fda estadounidense en agosto de 2020 como tratamiento de emergencia contra la covid-19.  el primer ensayo clínico completo, publicado en enero de 2021, concluyó que la aplicación de transfusiones de plasma durante la fase inicial de síntomas leves redujo la gravedad de la enfermedad en un 60% de los casos.   una versión más compleja de esta terapia consiste en sintetizar en laboratorio los anticuerpos contra la covid-19, llamados \"monoclonales\", para después inyectárselos a los pacientes.,   varias empresas farmacéuticas, como vir biotechnology, han evaluado la efectividad contra el virus sars-cov-2 de anticuerpos monoclonales previamente identificados contra otros virus.  en marzo de 2020, se halló un anticuerpo monoclonal humano que bloquea la infección por sars-cov-2.   mientras que las transfusiones de plasma son muy baratas y sencillas de realizar, el tratamiento con anticuerpos monoclonales costaría decenas de miles de euros por paciente.  posición de los nih sobre el uso de los anticuerpos monoclonales en el tratamiento de la infección por sars-cov-2  '"
            ],
            "application/vnd.google.colaboratory.intrinsic+json": {
              "type": "string"
            }
          },
          "metadata": {},
          "execution_count": 12
        }
      ]
    },
    {
      "cell_type": "code",
      "metadata": {
        "id": "PA5F0s4UsMpf",
        "colab": {
          "base_uri": "https://localhost:8080/"
        },
        "outputId": "1386c88c-a5ff-4497-bfb7-28e3da55407a"
      },
      "source": [
        "print(\"Cantidad de caracteres en el texto:\", len(text))"
      ],
      "execution_count": null,
      "outputs": [
        {
          "output_type": "stream",
          "name": "stdout",
          "text": [
            "Cantidad de caracteres en el texto: 72137\n"
          ]
        }
      ]
    },
    {
      "cell_type": "markdown",
      "metadata": {
        "id": "DKNcDGcisajf"
      },
      "source": [
        "### 3 - Dividir el texto en sentencias y en palabras"
      ]
    },
    {
      "cell_type": "code",
      "metadata": {
        "id": "reXBOFQ7sdlB"
      },
      "source": [
        "corpus = nltk.sent_tokenize(text)\n",
        "words = nltk.word_tokenize(text)"
      ],
      "execution_count": null,
      "outputs": []
    },
    {
      "cell_type": "code",
      "metadata": {
        "id": "J5GloV9fsi6o",
        "colab": {
          "base_uri": "https://localhost:8080/"
        },
        "outputId": "b632be42-c396-4c4e-978f-0b303c9d46c1"
      },
      "source": [
        "# Demos un vistazo\n",
        "corpus[:10]"
      ],
      "execution_count": null,
      "outputs": [
        {
          "output_type": "execute_result",
          "data": {
            "text/plain": [
              "['la enfermedad por coronavirus de 2019,  más conocida como covid-19, covid-19 o covid, e incorrectamente llamada neumonía por coronavirus, coronavirus o corona, es una enfermedad infecciosa causada por el sars-cov-2.',\n",
              " 'produce síntomas que incluyen fiebre, tos,  disnea (dificultad respiratoria), mialgia (dolor muscular) y fatiga.',\n",
              " 'en casos graves se caracteriza por producir neumonía, síndrome de dificultad respiratoria aguda,  sepsis  y choque circulatorio.',\n",
              " 'choque séptico es la forma más común en estos casos, pero los otros tipos también pueden ocurrir.',\n",
              " 'por ejemplo, choque obstructivo puede resultar de embolia pulmonar, una complicación de covid-19.',\n",
              " 'según la oms, la infección es mortal entre el 0,5 % y el 1 % de los casos.',\n",
              " 'no existe tratamiento específico; las medidas terapéuticas principales consisten en aliviar los síntomas y mantener las funciones vitales.',\n",
              " 'la transmisión del sars-cov-2 se produce mediante pequeñas gotas —microgotas de flügge — que se emiten al hablar, estornudar, toser o espirar, que al ser despedidas por un portador (que puede no tener síntomas de la enfermedad o estar incubándola)  pasan directamente a otra persona mediante la inhalación, o quedan sobre los objetos y superficies que rodean al emisor, y luego, a través de las manos, que lo recogen del ambiente contaminado, toman contacto con las membranas mucosas orales, nasales y oculares, al tocarse la boca, la nariz o los ojos.',\n",
              " 'también está documentada la transmisión por aerosoles ( < 5μm).',\n",
              " 'la propagación mediante superficies contaminadas o fómites (cualquier objeto carente de vida, o sustancia, que si se contamina con algún patógeno es capaz de transferirlo de un individuo a otro) no contribuye sustancialmente a nuevas infecciones.']"
            ]
          },
          "metadata": {},
          "execution_count": 15
        }
      ]
    },
    {
      "cell_type": "code",
      "metadata": {
        "id": "hmQ7nkvvsi0i",
        "colab": {
          "base_uri": "https://localhost:8080/"
        },
        "outputId": "2be7d0b1-9629-4d1a-c763-6abcfb2d6cd6"
      },
      "source": [
        "# Demos un vistazo\n",
        "words[:20]"
      ],
      "execution_count": null,
      "outputs": [
        {
          "output_type": "execute_result",
          "data": {
            "text/plain": [
              "['la',\n",
              " 'enfermedad',\n",
              " 'por',\n",
              " 'coronavirus',\n",
              " 'de',\n",
              " '2019',\n",
              " ',',\n",
              " 'más',\n",
              " 'conocida',\n",
              " 'como',\n",
              " 'covid-19',\n",
              " ',',\n",
              " 'covid-19',\n",
              " 'o',\n",
              " 'covid',\n",
              " ',',\n",
              " 'e',\n",
              " 'incorrectamente',\n",
              " 'llamada',\n",
              " 'neumonía']"
            ]
          },
          "metadata": {},
          "execution_count": 16
        }
      ]
    },
    {
      "cell_type": "code",
      "metadata": {
        "id": "YXPWNkKfEvDZ",
        "colab": {
          "base_uri": "https://localhost:8080/"
        },
        "outputId": "be65e949-8edb-4716-9289-4706e6f1abf6"
      },
      "source": [
        "print(\"Vocabulario:\", len(words))"
      ],
      "execution_count": null,
      "outputs": [
        {
          "output_type": "stream",
          "name": "stdout",
          "text": [
            "Vocabulario: 12824\n"
          ]
        }
      ]
    },
    {
      "cell_type": "markdown",
      "metadata": {
        "id": "NlYKyb3OtDse"
      },
      "source": [
        "### 4 - Funciones de ayuda para limpiar y procesar el input del usuario\n",
        "- Lematizar los tokens de la oración\n",
        "- Quitar símbolos de puntuación"
      ]
    },
    {
      "cell_type": "code",
      "metadata": {
        "id": "afPok8pstPOx"
      },
      "source": [
        "from nltk.stem import WordNetLemmatizer\n",
        "lemmatizer = WordNetLemmatizer()\n",
        "\n",
        "def perform_lemmatization(tokens):\n",
        "    return [lemmatizer.lemmatize(token) for token in tokens]\n",
        "\n",
        "\n",
        "def get_processed_text(document):\n",
        "    punctuation_removal = dict((ord(punctuation), None) for punctuation in string.punctuation)\n",
        "\n",
        "    # 1 - reduce el texto a mínuscula\n",
        "    document_lower = document.lower()\n",
        "    # 2 - quitar los simbolos de puntuacion\n",
        "    document_puntuation = document_lower.translate(punctuation_removal)\n",
        "\n",
        "    # 3 - Remuevo acentos\n",
        "    word = unidecode.unidecode(document_puntuation) \n",
        "\n",
        "    # 3 - realiza la tokenización con stanza\n",
        "    tokens = nlp (word)\n",
        "    # 4 - realiza la lematización con stanza\n",
        "    return [token.lemma_ for token in tokens]"
      ],
      "execution_count": null,
      "outputs": []
    },
    {
      "cell_type": "code",
      "source": [
        "document = corpus[3]\n",
        "document"
      ],
      "metadata": {
        "colab": {
          "base_uri": "https://localhost:8080/",
          "height": 36
        },
        "id": "f1UQ1lBXVOvb",
        "outputId": "01e3fd25-9ca1-4472-f676-ad69ecbe7f37"
      },
      "execution_count": null,
      "outputs": [
        {
          "output_type": "execute_result",
          "data": {
            "text/plain": [
              "'choque séptico es la forma más común en estos casos, pero los otros tipos también pueden ocurrir.'"
            ],
            "application/vnd.google.colaboratory.intrinsic+json": {
              "type": "string"
            }
          },
          "metadata": {},
          "execution_count": 19
        }
      ]
    },
    {
      "cell_type": "code",
      "source": [
        "# se modifico la función get_processed_text para lematizar utilizando la librería stanza ya que sklearn no lo posee.\n",
        "get_processed_text(document)"
      ],
      "metadata": {
        "colab": {
          "base_uri": "https://localhost:8080/"
        },
        "id": "K0_oEDomVKV0",
        "outputId": "4c0c4791-78bf-4b87-f7b3-cb8a715b385a"
      },
      "execution_count": null,
      "outputs": [
        {
          "output_type": "execute_result",
          "data": {
            "text/plain": [
              "['choque',\n",
              " 'septico',\n",
              " 'ser',\n",
              " 'el',\n",
              " 'forma',\n",
              " 'mas',\n",
              " 'comun',\n",
              " 'en',\n",
              " 'este',\n",
              " 'caso',\n",
              " 'pero',\n",
              " 'el',\n",
              " 'otro',\n",
              " 'tipo',\n",
              " 'tambien',\n",
              " 'poder',\n",
              " 'ocurrir']"
            ]
          },
          "metadata": {},
          "execution_count": 20
        }
      ]
    },
    {
      "cell_type": "code",
      "source": [
        "# Utilizo el diccionario de stop words de spacy\n",
        "spacy_stopwords = spacy.lang.es.stop_words.STOP_WORDS\n",
        "stop_words = []\n",
        "for word in spacy_stopwords:\n",
        "  stop_words.append(unidecode.unidecode(word))\n",
        "\n",
        "print('Numero stop words: %d' % len(stop_words))\n",
        "print('Primeras 10 stop words: %s' % list(stop_words)[:10])"
      ],
      "metadata": {
        "colab": {
          "base_uri": "https://localhost:8080/"
        },
        "id": "Wb2rzp43VxUj",
        "outputId": "1674d8cc-c11b-4562-8045-646e1ccdf21f"
      },
      "execution_count": null,
      "outputs": [
        {
          "output_type": "stream",
          "name": "stdout",
          "text": [
            "Numero stop words: 551\n",
            "Primeras 10 stop words: ['tienen', 'podran', 'consigues', 'este', 'empleas', 'claro', 'pasada', 'excepto', 'eran', 'dejo']\n"
          ]
        }
      ]
    },
    {
      "cell_type": "markdown",
      "metadata": {
        "id": "Jl8r6d9ZuyR9"
      },
      "source": [
        "### 5 - Utilizar vectores TF-IDF y la similitud coseno construido con el corpus de wikipedia"
      ]
    },
    {
      "cell_type": "code",
      "metadata": {
        "id": "IRYFHcBfk2Gt"
      },
      "source": [
        "from sklearn.feature_extraction.text import TfidfVectorizer\n",
        "from sklearn.metrics.pairwise import cosine_similarity\n",
        "\n",
        "def generate_response(user_input, corpus):\n",
        "    response = ''\n",
        "    # Sumar al corpus la pregunta del usuario para calcular\n",
        "    # su cercania con otros documentos/sentencias\n",
        "    corpus.append(user_input)\n",
        "\n",
        "    # Crear un vectorizar TFIDF que quite las \"stop words\" de español\n",
        "    # nuestra funcion para obtener los tokens lematizados \"get_processed_text\"\n",
        "    word_vectorizer = TfidfVectorizer(tokenizer=get_processed_text, stop_words=stop_words)\n",
        "    \n",
        "    # Crear los vectores a partir del corpus\n",
        "    all_word_vectors = word_vectorizer.fit_transform(corpus)\n",
        "\n",
        "    # Calcular la similitud coseno entre todas los documentos excepto el agregado (el útlimo \"-1\")\n",
        "    # NOTA: con los word embedings veremos más en detalle esta matriz de similitud\n",
        "    similar_vector_values = cosine_similarity(all_word_vectors[-1], all_word_vectors)\n",
        "\n",
        "    # Obtener el índice del vector más cercano a nuestra oración\n",
        "    # --> descartando la similitud contra nuestor vector propio\n",
        "    similar_sentence_number = similar_vector_values.argsort()[0][-2]\n",
        "    matched_vector = similar_vector_values.flatten()\n",
        "    matched_vector.sort()\n",
        "    vector_matched = matched_vector[-2]\n",
        "\n",
        "    if vector_matched == 0:\n",
        "        response = \"I am sorry, I could not understand you\"\n",
        "    else:\n",
        "        response = corpus[similar_sentence_number]\n",
        "    \n",
        "    corpus.remove(user_input)\n",
        "    return response"
      ],
      "execution_count": null,
      "outputs": []
    },
    {
      "cell_type": "markdown",
      "metadata": {
        "id": "OK-BuXPBybSp"
      },
      "source": [
        "### 6 - Ensayar el sistema\n",
        "El sistema intentará encontrar la parte del artículo que más se relaciona con nuestro texto de entrada. Sugerencias ensayar:\n",
        "- Tratamiento\n",
        "- sintomas\n",
        "- mortalidad\n",
        "- Propagación"
      ]
    },
    {
      "cell_type": "code",
      "metadata": {
        "id": "Z2X4j8XyydSb",
        "colab": {
          "base_uri": "https://localhost:8080/"
        },
        "outputId": "4a12f2c5-6ae9-4f7b-fec4-b2ca782b5a8e"
      },
      "source": [
        "# Se utilizará gradio para ensayar el bot\n",
        "# Herramienta poderosa para crear interfaces rápidas para ensayar modelos\n",
        "# https://gradio.app/\n",
        "import sys\n",
        "!{sys.executable} -m pip install gradio --quiet"
      ],
      "execution_count": null,
      "outputs": [
        {
          "output_type": "stream",
          "name": "stdout",
          "text": [
            "\u001b[K     |████████████████████████████████| 668 kB 4.8 MB/s \n",
            "\u001b[K     |████████████████████████████████| 255 kB 46.5 MB/s \n",
            "\u001b[K     |████████████████████████████████| 53 kB 1.8 MB/s \n",
            "\u001b[K     |████████████████████████████████| 84 kB 2.3 MB/s \n",
            "\u001b[K     |████████████████████████████████| 54 kB 2.5 MB/s \n",
            "\u001b[K     |████████████████████████████████| 1.1 MB 32.0 MB/s \n",
            "\u001b[K     |████████████████████████████████| 211 kB 44.2 MB/s \n",
            "\u001b[K     |████████████████████████████████| 2.0 MB 35.6 MB/s \n",
            "\u001b[K     |████████████████████████████████| 144 kB 49.2 MB/s \n",
            "\u001b[K     |████████████████████████████████| 271 kB 50.6 MB/s \n",
            "\u001b[K     |████████████████████████████████| 94 kB 3.1 MB/s \n",
            "\u001b[K     |████████████████████████████████| 58 kB 5.1 MB/s \n",
            "\u001b[K     |████████████████████████████████| 79 kB 7.1 MB/s \n",
            "\u001b[K     |████████████████████████████████| 43 kB 1.9 MB/s \n",
            "\u001b[K     |████████████████████████████████| 61 kB 405 kB/s \n",
            "\u001b[K     |████████████████████████████████| 3.6 MB 34.1 MB/s \n",
            "\u001b[K     |████████████████████████████████| 856 kB 42.7 MB/s \n",
            "\u001b[K     |████████████████████████████████| 58 kB 554 kB/s \n",
            "\u001b[?25h  Building wheel for ffmpy (setup.py) ... \u001b[?25l\u001b[?25hdone\n",
            "  Building wheel for python-multipart (setup.py) ... \u001b[?25l\u001b[?25hdone\n"
          ]
        }
      ]
    },
    {
      "cell_type": "code",
      "metadata": {
        "id": "SZv5MiVzynG1",
        "colab": {
          "base_uri": "https://localhost:8080/",
          "height": 661
        },
        "outputId": "085038f0-b23c-4b8a-c6b2-561274bd0d1f"
      },
      "source": [
        "import gradio as gr\n",
        "\n",
        "def bot_response(human_text):\n",
        "    print(human_text)\n",
        "    return generate_response(human_text.lower(), corpus)\n",
        "\n",
        "iface = gr.Interface(\n",
        "    fn=bot_response,\n",
        "    inputs=[\"textbox\"],\n",
        "    outputs=\"text\",\n",
        "    layout=\"vertical\")\n",
        "\n",
        "iface.launch(debug=True)"
      ],
      "execution_count": null,
      "outputs": [
        {
          "output_type": "stream",
          "name": "stdout",
          "text": [
            "Colab notebook detected. This cell will run indefinitely so that you can see errors and logs. To turn off, set debug=False in launch().\n",
            "Running on public URL: https://20730.gradio.app\n",
            "\n",
            "This share link expires in 72 hours. For free permanent hosting, check out Spaces (https://huggingface.co/spaces)\n"
          ]
        },
        {
          "output_type": "display_data",
          "data": {
            "text/plain": [
              "<IPython.lib.display.IFrame at 0x7f29eb043510>"
            ],
            "text/html": [
              "\n",
              "        <iframe\n",
              "            width=\"900\"\n",
              "            height=\"500\"\n",
              "            src=\"https://20730.gradio.app\"\n",
              "            frameborder=\"0\"\n",
              "            allowfullscreen\n",
              "        ></iframe>\n",
              "        "
            ]
          },
          "metadata": {}
        },
        {
          "output_type": "stream",
          "name": "stdout",
          "text": [
            "Keyboard interruption in main thread... closing server.\n"
          ]
        },
        {
          "output_type": "execute_result",
          "data": {
            "text/plain": [
              "(<fastapi.applications.FastAPI at 0x7f29e85cd6d0>,\n",
              " 'http://127.0.0.1:7860/',\n",
              " 'https://20730.gradio.app')"
            ]
          },
          "metadata": {},
          "execution_count": 27
        }
      ]
    },
    {
      "cell_type": "code",
      "source": [
        "human_text = \"tratamientos\"\n",
        "print(generate_response(human_text.lower(), corpus))"
      ],
      "metadata": {
        "colab": {
          "base_uri": "https://localhost:8080/"
        },
        "id": "OQGvr_r2JmR0",
        "outputId": "b21dfce4-daca-4574-8676-e275036005aa"
      },
      "execution_count": null,
      "outputs": [
        {
          "output_type": "stream",
          "name": "stdout",
          "text": [
            "varios tratamientos experimentales contra el covid-19 están actualmente en desarrollo o han sido aprobados en al menos un país: otros tratamientos que se consideraron prometedores durante los primeros meses de la pandemia, como la hidroxicloroquina y el lopinavir/ritonavir, resultaron después ser inefectivos o incluso perjudiciales.\n"
          ]
        }
      ]
    },
    {
      "cell_type": "code",
      "source": [
        "human_text = \"sintomas\"\n",
        "print(generate_response(human_text.lower(), corpus))"
      ],
      "metadata": {
        "colab": {
          "base_uri": "https://localhost:8080/"
        },
        "id": "ojPIpNsnfjAQ",
        "outputId": "42c1fda2-a220-4ac3-d1d8-f5170a31d4f3"
      },
      "execution_count": null,
      "outputs": [
        {
          "output_type": "stream",
          "name": "stdout",
          "text": [
            "los síntomas de la covid-19 son inespecíficos y su presentación, según la oms, puede incluso carecer de síntomas (asintomático).\n"
          ]
        }
      ]
    },
    {
      "cell_type": "code",
      "source": [
        "human_text = \"mortalidad\"\n",
        "print(generate_response(human_text.lower(), corpus))"
      ],
      "metadata": {
        "colab": {
          "base_uri": "https://localhost:8080/"
        },
        "id": "WQqVuEiZg6cJ",
        "outputId": "7e7de908-5c87-491b-b4a7-e76cf505c34f"
      },
      "execution_count": null,
      "outputs": [
        {
          "output_type": "stream",
          "name": "stdout",
          "text": [
            "los eventos tromboembólicos con mortalidad asociada son un riesgo para las embarazadas.\n"
          ]
        }
      ]
    },
    {
      "cell_type": "code",
      "source": [
        "human_text = \"propagacion\"\n",
        "print(generate_response(human_text.lower(), corpus))"
      ],
      "metadata": {
        "colab": {
          "base_uri": "https://localhost:8080/"
        },
        "id": "SgADhzShhnVn",
        "outputId": "bb9c8aaa-8876-40a2-d5ac-9f6eadf65ad3"
      },
      "execution_count": null,
      "outputs": [
        {
          "output_type": "stream",
          "name": "stdout",
          "text": [
            "se recomienda lavarse las manos para evitar la propagación del coronavirus.\n"
          ]
        }
      ]
    },
    {
      "cell_type": "code",
      "source": [
        "human_text = \"transmision\"\n",
        "print(generate_response(human_text.lower(), corpus))"
      ],
      "metadata": {
        "colab": {
          "base_uri": "https://localhost:8080/"
        },
        "id": "5QrY61gph2vS",
        "outputId": "39c842cf-6670-4670-f67d-8ccd977f4dcd"
      },
      "execution_count": null,
      "outputs": [
        {
          "output_type": "stream",
          "name": "stdout",
          "text": [
            "actualmente, son muchos los estudios que se centran en evaluar la posible transmisión vertical.\n"
          ]
        }
      ]
    },
    {
      "cell_type": "code",
      "source": [
        "human_text = \"quien fue el Paciente cero\"\n",
        "print(generate_response(human_text.lower(), corpus))\n"
      ],
      "metadata": {
        "colab": {
          "base_uri": "https://localhost:8080/"
        },
        "id": "GMvQLexGh7OA",
        "outputId": "80cad4b3-7433-4e4f-932f-bdead0863432"
      },
      "execution_count": null,
      "outputs": [
        {
          "output_type": "stream",
          "name": "stdout",
          "text": [
            "el imperial college de londres calculó un r0=1,5 a 3,5.  se llama caso índice o \"paciente cero\" al caso que da lugar a la atención del investigador y origina acciones para conocer un foco de infección; corresponde al primero caso confirmado por la autoridad sanitaria y conduce (indica) hacia un brote localizado.\n"
          ]
        }
      ]
    },
    {
      "cell_type": "code",
      "source": [
        "human_text = \"que pruebas de laboratorio se pueden realizar para diagnosticarl el covid\"\n",
        "print(generate_response(human_text.lower(), corpus))"
      ],
      "metadata": {
        "colab": {
          "base_uri": "https://localhost:8080/"
        },
        "id": "c2B8QrnxliuE",
        "outputId": "f3b3e606-f817-4745-bdb1-f4d89b6c8dd7"
      },
      "execution_count": null,
      "outputs": [
        {
          "output_type": "stream",
          "name": "stdout",
          "text": [
            "se obtuvieron muestras de estos pacientes para realizar análisis de laboratorio.\n"
          ]
        }
      ]
    },
    {
      "cell_type": "code",
      "source": [
        "human_text = \"cuales son las medidas preventivas\"\n",
        "print(generate_response(human_text.lower(), corpus))"
      ],
      "metadata": {
        "colab": {
          "base_uri": "https://localhost:8080/"
        },
        "id": "N0oi2PmXnFcM",
        "outputId": "73420b0f-a5de-4897-9cf7-83eab128280e"
      },
      "execution_count": null,
      "outputs": [
        {
          "output_type": "stream",
          "name": "stdout",
          "text": [
            "algunas organizaciones internacionales, como la oms, han publicado medidas preventivas para reducir la transmisión del virus.\n"
          ]
        }
      ]
    },
    {
      "cell_type": "code",
      "source": [
        "human_text = \"que es el distanciamiento social\"\n",
        "print(generate_response(human_text.lower(), corpus))"
      ],
      "metadata": {
        "colab": {
          "base_uri": "https://localhost:8080/"
        },
        "id": "Xg0uK1xMpDe0",
        "outputId": "8403cbc2-70df-455d-9d10-557b67cf6b71"
      },
      "execution_count": null,
      "outputs": [
        {
          "output_type": "stream",
          "name": "stdout",
          "text": [
            "el distanciamiento social y el aislamiento de las poblaciones infectadas pueden contener la epidemia.\n"
          ]
        }
      ]
    },
    {
      "cell_type": "markdown",
      "source": [
        "# Conclusiones:\n",
        "-\tSe realizó la implementación para calcular la distancia coseno de un documento y compararlo con todos los documentos de un corpus utilizando el idioma castellano.\n",
        "-\tA través de las librerías stanza se logró implementar un lematizador de tokens en castellano.\n",
        "-\tSe utilizó la librería spacy para obtener un listado de stop words.\n",
        "-\tSe tuvo que aplicar un paso adicional en el pre procesamiento de los documentos para eliminar los acentos en palabras.\n",
        "-\tSe observó que las frases ingresadas tienen bastante relación con el documento propuesto como más cercano.\n",
        "\n",
        "\n"
      ],
      "metadata": {
        "id": "oNqcXud9pD69"
      }
    },
    {
      "cell_type": "code",
      "source": [
        ""
      ],
      "metadata": {
        "id": "kWN3rOOupF6t"
      },
      "execution_count": null,
      "outputs": []
    }
  ]
}