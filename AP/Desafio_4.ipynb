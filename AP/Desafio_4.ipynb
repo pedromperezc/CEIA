{
  "nbformat": 4,
  "nbformat_minor": 0,
  "metadata": {
    "colab": {
      "name": "Desafio_4.ipynb",
      "provenance": [],
      "collapsed_sections": [],
      "include_colab_link": true
    },
    "kernelspec": {
      "name": "python3",
      "display_name": "Python 3"
    },
    "language_info": {
      "name": "python"
    },
    "accelerator": "GPU",
    "widgets": {
      "application/vnd.jupyter.widget-state+json": {
        "70271cd86a844ac0bef290a03f252a04": {
          "model_module": "@jupyter-widgets/controls",
          "model_name": "HBoxModel",
          "model_module_version": "1.5.0",
          "state": {
            "_dom_classes": [],
            "_model_module": "@jupyter-widgets/controls",
            "_model_module_version": "1.5.0",
            "_model_name": "HBoxModel",
            "_view_count": null,
            "_view_module": "@jupyter-widgets/controls",
            "_view_module_version": "1.5.0",
            "_view_name": "HBoxView",
            "box_style": "",
            "children": [
              "IPY_MODEL_ca510b5910f54af7be8bcf5f3f743eb7",
              "IPY_MODEL_a2e6ffda89ef44f29b457b3f501af763",
              "IPY_MODEL_c61cec51f7d34be284485dce81e151e5"
            ],
            "layout": "IPY_MODEL_24a6a9f1da6d489d8eecd7ecbeef0653"
          }
        },
        "ca510b5910f54af7be8bcf5f3f743eb7": {
          "model_module": "@jupyter-widgets/controls",
          "model_name": "HTMLModel",
          "model_module_version": "1.5.0",
          "state": {
            "_dom_classes": [],
            "_model_module": "@jupyter-widgets/controls",
            "_model_module_version": "1.5.0",
            "_model_name": "HTMLModel",
            "_view_count": null,
            "_view_module": "@jupyter-widgets/controls",
            "_view_module_version": "1.5.0",
            "_view_name": "HTMLView",
            "description": "",
            "description_tooltip": null,
            "layout": "IPY_MODEL_a77ef1513c624b678684bc6776a8952a",
            "placeholder": "​",
            "style": "IPY_MODEL_d15933303fa44658b7c2849b940d7672",
            "value": ""
          }
        },
        "a2e6ffda89ef44f29b457b3f501af763": {
          "model_module": "@jupyter-widgets/controls",
          "model_name": "FloatProgressModel",
          "model_module_version": "1.5.0",
          "state": {
            "_dom_classes": [],
            "_model_module": "@jupyter-widgets/controls",
            "_model_module_version": "1.5.0",
            "_model_name": "FloatProgressModel",
            "_view_count": null,
            "_view_module": "@jupyter-widgets/controls",
            "_view_module_version": "1.5.0",
            "_view_name": "ProgressView",
            "bar_style": "success",
            "description": "",
            "description_tooltip": null,
            "layout": "IPY_MODEL_7f3cddef54c34c0dbbfb28e77c7ec9b2",
            "max": 9912422,
            "min": 0,
            "orientation": "horizontal",
            "style": "IPY_MODEL_627f328dfacb4f038996a16f4896caf9",
            "value": 9912422
          }
        },
        "c61cec51f7d34be284485dce81e151e5": {
          "model_module": "@jupyter-widgets/controls",
          "model_name": "HTMLModel",
          "model_module_version": "1.5.0",
          "state": {
            "_dom_classes": [],
            "_model_module": "@jupyter-widgets/controls",
            "_model_module_version": "1.5.0",
            "_model_name": "HTMLModel",
            "_view_count": null,
            "_view_module": "@jupyter-widgets/controls",
            "_view_module_version": "1.5.0",
            "_view_name": "HTMLView",
            "description": "",
            "description_tooltip": null,
            "layout": "IPY_MODEL_8c7ac3de81dd4295905bd1dbdbbb8e3c",
            "placeholder": "​",
            "style": "IPY_MODEL_78d4c3ca5f124ba69f96840804765719",
            "value": " 9913344/? [00:00&lt;00:00, 55962500.34it/s]"
          }
        },
        "24a6a9f1da6d489d8eecd7ecbeef0653": {
          "model_module": "@jupyter-widgets/base",
          "model_name": "LayoutModel",
          "model_module_version": "1.2.0",
          "state": {
            "_model_module": "@jupyter-widgets/base",
            "_model_module_version": "1.2.0",
            "_model_name": "LayoutModel",
            "_view_count": null,
            "_view_module": "@jupyter-widgets/base",
            "_view_module_version": "1.2.0",
            "_view_name": "LayoutView",
            "align_content": null,
            "align_items": null,
            "align_self": null,
            "border": null,
            "bottom": null,
            "display": null,
            "flex": null,
            "flex_flow": null,
            "grid_area": null,
            "grid_auto_columns": null,
            "grid_auto_flow": null,
            "grid_auto_rows": null,
            "grid_column": null,
            "grid_gap": null,
            "grid_row": null,
            "grid_template_areas": null,
            "grid_template_columns": null,
            "grid_template_rows": null,
            "height": null,
            "justify_content": null,
            "justify_items": null,
            "left": null,
            "margin": null,
            "max_height": null,
            "max_width": null,
            "min_height": null,
            "min_width": null,
            "object_fit": null,
            "object_position": null,
            "order": null,
            "overflow": null,
            "overflow_x": null,
            "overflow_y": null,
            "padding": null,
            "right": null,
            "top": null,
            "visibility": null,
            "width": null
          }
        },
        "a77ef1513c624b678684bc6776a8952a": {
          "model_module": "@jupyter-widgets/base",
          "model_name": "LayoutModel",
          "model_module_version": "1.2.0",
          "state": {
            "_model_module": "@jupyter-widgets/base",
            "_model_module_version": "1.2.0",
            "_model_name": "LayoutModel",
            "_view_count": null,
            "_view_module": "@jupyter-widgets/base",
            "_view_module_version": "1.2.0",
            "_view_name": "LayoutView",
            "align_content": null,
            "align_items": null,
            "align_self": null,
            "border": null,
            "bottom": null,
            "display": null,
            "flex": null,
            "flex_flow": null,
            "grid_area": null,
            "grid_auto_columns": null,
            "grid_auto_flow": null,
            "grid_auto_rows": null,
            "grid_column": null,
            "grid_gap": null,
            "grid_row": null,
            "grid_template_areas": null,
            "grid_template_columns": null,
            "grid_template_rows": null,
            "height": null,
            "justify_content": null,
            "justify_items": null,
            "left": null,
            "margin": null,
            "max_height": null,
            "max_width": null,
            "min_height": null,
            "min_width": null,
            "object_fit": null,
            "object_position": null,
            "order": null,
            "overflow": null,
            "overflow_x": null,
            "overflow_y": null,
            "padding": null,
            "right": null,
            "top": null,
            "visibility": null,
            "width": null
          }
        },
        "d15933303fa44658b7c2849b940d7672": {
          "model_module": "@jupyter-widgets/controls",
          "model_name": "DescriptionStyleModel",
          "model_module_version": "1.5.0",
          "state": {
            "_model_module": "@jupyter-widgets/controls",
            "_model_module_version": "1.5.0",
            "_model_name": "DescriptionStyleModel",
            "_view_count": null,
            "_view_module": "@jupyter-widgets/base",
            "_view_module_version": "1.2.0",
            "_view_name": "StyleView",
            "description_width": ""
          }
        },
        "7f3cddef54c34c0dbbfb28e77c7ec9b2": {
          "model_module": "@jupyter-widgets/base",
          "model_name": "LayoutModel",
          "model_module_version": "1.2.0",
          "state": {
            "_model_module": "@jupyter-widgets/base",
            "_model_module_version": "1.2.0",
            "_model_name": "LayoutModel",
            "_view_count": null,
            "_view_module": "@jupyter-widgets/base",
            "_view_module_version": "1.2.0",
            "_view_name": "LayoutView",
            "align_content": null,
            "align_items": null,
            "align_self": null,
            "border": null,
            "bottom": null,
            "display": null,
            "flex": null,
            "flex_flow": null,
            "grid_area": null,
            "grid_auto_columns": null,
            "grid_auto_flow": null,
            "grid_auto_rows": null,
            "grid_column": null,
            "grid_gap": null,
            "grid_row": null,
            "grid_template_areas": null,
            "grid_template_columns": null,
            "grid_template_rows": null,
            "height": null,
            "justify_content": null,
            "justify_items": null,
            "left": null,
            "margin": null,
            "max_height": null,
            "max_width": null,
            "min_height": null,
            "min_width": null,
            "object_fit": null,
            "object_position": null,
            "order": null,
            "overflow": null,
            "overflow_x": null,
            "overflow_y": null,
            "padding": null,
            "right": null,
            "top": null,
            "visibility": null,
            "width": null
          }
        },
        "627f328dfacb4f038996a16f4896caf9": {
          "model_module": "@jupyter-widgets/controls",
          "model_name": "ProgressStyleModel",
          "model_module_version": "1.5.0",
          "state": {
            "_model_module": "@jupyter-widgets/controls",
            "_model_module_version": "1.5.0",
            "_model_name": "ProgressStyleModel",
            "_view_count": null,
            "_view_module": "@jupyter-widgets/base",
            "_view_module_version": "1.2.0",
            "_view_name": "StyleView",
            "bar_color": null,
            "description_width": ""
          }
        },
        "8c7ac3de81dd4295905bd1dbdbbb8e3c": {
          "model_module": "@jupyter-widgets/base",
          "model_name": "LayoutModel",
          "model_module_version": "1.2.0",
          "state": {
            "_model_module": "@jupyter-widgets/base",
            "_model_module_version": "1.2.0",
            "_model_name": "LayoutModel",
            "_view_count": null,
            "_view_module": "@jupyter-widgets/base",
            "_view_module_version": "1.2.0",
            "_view_name": "LayoutView",
            "align_content": null,
            "align_items": null,
            "align_self": null,
            "border": null,
            "bottom": null,
            "display": null,
            "flex": null,
            "flex_flow": null,
            "grid_area": null,
            "grid_auto_columns": null,
            "grid_auto_flow": null,
            "grid_auto_rows": null,
            "grid_column": null,
            "grid_gap": null,
            "grid_row": null,
            "grid_template_areas": null,
            "grid_template_columns": null,
            "grid_template_rows": null,
            "height": null,
            "justify_content": null,
            "justify_items": null,
            "left": null,
            "margin": null,
            "max_height": null,
            "max_width": null,
            "min_height": null,
            "min_width": null,
            "object_fit": null,
            "object_position": null,
            "order": null,
            "overflow": null,
            "overflow_x": null,
            "overflow_y": null,
            "padding": null,
            "right": null,
            "top": null,
            "visibility": null,
            "width": null
          }
        },
        "78d4c3ca5f124ba69f96840804765719": {
          "model_module": "@jupyter-widgets/controls",
          "model_name": "DescriptionStyleModel",
          "model_module_version": "1.5.0",
          "state": {
            "_model_module": "@jupyter-widgets/controls",
            "_model_module_version": "1.5.0",
            "_model_name": "DescriptionStyleModel",
            "_view_count": null,
            "_view_module": "@jupyter-widgets/base",
            "_view_module_version": "1.2.0",
            "_view_name": "StyleView",
            "description_width": ""
          }
        },
        "f497e4165ab14671b41b078f9bc6abd5": {
          "model_module": "@jupyter-widgets/controls",
          "model_name": "HBoxModel",
          "model_module_version": "1.5.0",
          "state": {
            "_dom_classes": [],
            "_model_module": "@jupyter-widgets/controls",
            "_model_module_version": "1.5.0",
            "_model_name": "HBoxModel",
            "_view_count": null,
            "_view_module": "@jupyter-widgets/controls",
            "_view_module_version": "1.5.0",
            "_view_name": "HBoxView",
            "box_style": "",
            "children": [
              "IPY_MODEL_1f96dcd8bc2948338af22e798eaede46",
              "IPY_MODEL_f8c501eb02924dceb5b7597699541e2e",
              "IPY_MODEL_3c6f8849f1784015b9241d7d87bfd937"
            ],
            "layout": "IPY_MODEL_b1de845813834d6aac5c308ef2369d0c"
          }
        },
        "1f96dcd8bc2948338af22e798eaede46": {
          "model_module": "@jupyter-widgets/controls",
          "model_name": "HTMLModel",
          "model_module_version": "1.5.0",
          "state": {
            "_dom_classes": [],
            "_model_module": "@jupyter-widgets/controls",
            "_model_module_version": "1.5.0",
            "_model_name": "HTMLModel",
            "_view_count": null,
            "_view_module": "@jupyter-widgets/controls",
            "_view_module_version": "1.5.0",
            "_view_name": "HTMLView",
            "description": "",
            "description_tooltip": null,
            "layout": "IPY_MODEL_798ebf62991c476fbe7a1271ae4f251d",
            "placeholder": "​",
            "style": "IPY_MODEL_775740166d3b41489d88238d396c0f2c",
            "value": ""
          }
        },
        "f8c501eb02924dceb5b7597699541e2e": {
          "model_module": "@jupyter-widgets/controls",
          "model_name": "FloatProgressModel",
          "model_module_version": "1.5.0",
          "state": {
            "_dom_classes": [],
            "_model_module": "@jupyter-widgets/controls",
            "_model_module_version": "1.5.0",
            "_model_name": "FloatProgressModel",
            "_view_count": null,
            "_view_module": "@jupyter-widgets/controls",
            "_view_module_version": "1.5.0",
            "_view_name": "ProgressView",
            "bar_style": "success",
            "description": "",
            "description_tooltip": null,
            "layout": "IPY_MODEL_81d79adf33eb4e5e85724fbc2daf5dc5",
            "max": 28881,
            "min": 0,
            "orientation": "horizontal",
            "style": "IPY_MODEL_27a1d98706b942de80d67ea541dc2216",
            "value": 28881
          }
        },
        "3c6f8849f1784015b9241d7d87bfd937": {
          "model_module": "@jupyter-widgets/controls",
          "model_name": "HTMLModel",
          "model_module_version": "1.5.0",
          "state": {
            "_dom_classes": [],
            "_model_module": "@jupyter-widgets/controls",
            "_model_module_version": "1.5.0",
            "_model_name": "HTMLModel",
            "_view_count": null,
            "_view_module": "@jupyter-widgets/controls",
            "_view_module_version": "1.5.0",
            "_view_name": "HTMLView",
            "description": "",
            "description_tooltip": null,
            "layout": "IPY_MODEL_cf33fb26eecd4e69baac65ab900e2e24",
            "placeholder": "​",
            "style": "IPY_MODEL_54872dfab1a545e18c658f52c932fd42",
            "value": " 29696/? [00:00&lt;00:00, 986879.42it/s]"
          }
        },
        "b1de845813834d6aac5c308ef2369d0c": {
          "model_module": "@jupyter-widgets/base",
          "model_name": "LayoutModel",
          "model_module_version": "1.2.0",
          "state": {
            "_model_module": "@jupyter-widgets/base",
            "_model_module_version": "1.2.0",
            "_model_name": "LayoutModel",
            "_view_count": null,
            "_view_module": "@jupyter-widgets/base",
            "_view_module_version": "1.2.0",
            "_view_name": "LayoutView",
            "align_content": null,
            "align_items": null,
            "align_self": null,
            "border": null,
            "bottom": null,
            "display": null,
            "flex": null,
            "flex_flow": null,
            "grid_area": null,
            "grid_auto_columns": null,
            "grid_auto_flow": null,
            "grid_auto_rows": null,
            "grid_column": null,
            "grid_gap": null,
            "grid_row": null,
            "grid_template_areas": null,
            "grid_template_columns": null,
            "grid_template_rows": null,
            "height": null,
            "justify_content": null,
            "justify_items": null,
            "left": null,
            "margin": null,
            "max_height": null,
            "max_width": null,
            "min_height": null,
            "min_width": null,
            "object_fit": null,
            "object_position": null,
            "order": null,
            "overflow": null,
            "overflow_x": null,
            "overflow_y": null,
            "padding": null,
            "right": null,
            "top": null,
            "visibility": null,
            "width": null
          }
        },
        "798ebf62991c476fbe7a1271ae4f251d": {
          "model_module": "@jupyter-widgets/base",
          "model_name": "LayoutModel",
          "model_module_version": "1.2.0",
          "state": {
            "_model_module": "@jupyter-widgets/base",
            "_model_module_version": "1.2.0",
            "_model_name": "LayoutModel",
            "_view_count": null,
            "_view_module": "@jupyter-widgets/base",
            "_view_module_version": "1.2.0",
            "_view_name": "LayoutView",
            "align_content": null,
            "align_items": null,
            "align_self": null,
            "border": null,
            "bottom": null,
            "display": null,
            "flex": null,
            "flex_flow": null,
            "grid_area": null,
            "grid_auto_columns": null,
            "grid_auto_flow": null,
            "grid_auto_rows": null,
            "grid_column": null,
            "grid_gap": null,
            "grid_row": null,
            "grid_template_areas": null,
            "grid_template_columns": null,
            "grid_template_rows": null,
            "height": null,
            "justify_content": null,
            "justify_items": null,
            "left": null,
            "margin": null,
            "max_height": null,
            "max_width": null,
            "min_height": null,
            "min_width": null,
            "object_fit": null,
            "object_position": null,
            "order": null,
            "overflow": null,
            "overflow_x": null,
            "overflow_y": null,
            "padding": null,
            "right": null,
            "top": null,
            "visibility": null,
            "width": null
          }
        },
        "775740166d3b41489d88238d396c0f2c": {
          "model_module": "@jupyter-widgets/controls",
          "model_name": "DescriptionStyleModel",
          "model_module_version": "1.5.0",
          "state": {
            "_model_module": "@jupyter-widgets/controls",
            "_model_module_version": "1.5.0",
            "_model_name": "DescriptionStyleModel",
            "_view_count": null,
            "_view_module": "@jupyter-widgets/base",
            "_view_module_version": "1.2.0",
            "_view_name": "StyleView",
            "description_width": ""
          }
        },
        "81d79adf33eb4e5e85724fbc2daf5dc5": {
          "model_module": "@jupyter-widgets/base",
          "model_name": "LayoutModel",
          "model_module_version": "1.2.0",
          "state": {
            "_model_module": "@jupyter-widgets/base",
            "_model_module_version": "1.2.0",
            "_model_name": "LayoutModel",
            "_view_count": null,
            "_view_module": "@jupyter-widgets/base",
            "_view_module_version": "1.2.0",
            "_view_name": "LayoutView",
            "align_content": null,
            "align_items": null,
            "align_self": null,
            "border": null,
            "bottom": null,
            "display": null,
            "flex": null,
            "flex_flow": null,
            "grid_area": null,
            "grid_auto_columns": null,
            "grid_auto_flow": null,
            "grid_auto_rows": null,
            "grid_column": null,
            "grid_gap": null,
            "grid_row": null,
            "grid_template_areas": null,
            "grid_template_columns": null,
            "grid_template_rows": null,
            "height": null,
            "justify_content": null,
            "justify_items": null,
            "left": null,
            "margin": null,
            "max_height": null,
            "max_width": null,
            "min_height": null,
            "min_width": null,
            "object_fit": null,
            "object_position": null,
            "order": null,
            "overflow": null,
            "overflow_x": null,
            "overflow_y": null,
            "padding": null,
            "right": null,
            "top": null,
            "visibility": null,
            "width": null
          }
        },
        "27a1d98706b942de80d67ea541dc2216": {
          "model_module": "@jupyter-widgets/controls",
          "model_name": "ProgressStyleModel",
          "model_module_version": "1.5.0",
          "state": {
            "_model_module": "@jupyter-widgets/controls",
            "_model_module_version": "1.5.0",
            "_model_name": "ProgressStyleModel",
            "_view_count": null,
            "_view_module": "@jupyter-widgets/base",
            "_view_module_version": "1.2.0",
            "_view_name": "StyleView",
            "bar_color": null,
            "description_width": ""
          }
        },
        "cf33fb26eecd4e69baac65ab900e2e24": {
          "model_module": "@jupyter-widgets/base",
          "model_name": "LayoutModel",
          "model_module_version": "1.2.0",
          "state": {
            "_model_module": "@jupyter-widgets/base",
            "_model_module_version": "1.2.0",
            "_model_name": "LayoutModel",
            "_view_count": null,
            "_view_module": "@jupyter-widgets/base",
            "_view_module_version": "1.2.0",
            "_view_name": "LayoutView",
            "align_content": null,
            "align_items": null,
            "align_self": null,
            "border": null,
            "bottom": null,
            "display": null,
            "flex": null,
            "flex_flow": null,
            "grid_area": null,
            "grid_auto_columns": null,
            "grid_auto_flow": null,
            "grid_auto_rows": null,
            "grid_column": null,
            "grid_gap": null,
            "grid_row": null,
            "grid_template_areas": null,
            "grid_template_columns": null,
            "grid_template_rows": null,
            "height": null,
            "justify_content": null,
            "justify_items": null,
            "left": null,
            "margin": null,
            "max_height": null,
            "max_width": null,
            "min_height": null,
            "min_width": null,
            "object_fit": null,
            "object_position": null,
            "order": null,
            "overflow": null,
            "overflow_x": null,
            "overflow_y": null,
            "padding": null,
            "right": null,
            "top": null,
            "visibility": null,
            "width": null
          }
        },
        "54872dfab1a545e18c658f52c932fd42": {
          "model_module": "@jupyter-widgets/controls",
          "model_name": "DescriptionStyleModel",
          "model_module_version": "1.5.0",
          "state": {
            "_model_module": "@jupyter-widgets/controls",
            "_model_module_version": "1.5.0",
            "_model_name": "DescriptionStyleModel",
            "_view_count": null,
            "_view_module": "@jupyter-widgets/base",
            "_view_module_version": "1.2.0",
            "_view_name": "StyleView",
            "description_width": ""
          }
        },
        "f5b9db4fc6bc496898e958ae58c9d8ff": {
          "model_module": "@jupyter-widgets/controls",
          "model_name": "HBoxModel",
          "model_module_version": "1.5.0",
          "state": {
            "_dom_classes": [],
            "_model_module": "@jupyter-widgets/controls",
            "_model_module_version": "1.5.0",
            "_model_name": "HBoxModel",
            "_view_count": null,
            "_view_module": "@jupyter-widgets/controls",
            "_view_module_version": "1.5.0",
            "_view_name": "HBoxView",
            "box_style": "",
            "children": [
              "IPY_MODEL_1f925ab05cf9449e9a7feadbc22ded0c",
              "IPY_MODEL_e0a7556a5e8646bfa4afd7975e97f20e",
              "IPY_MODEL_9403885d03e74b44bd1e2ae207782500"
            ],
            "layout": "IPY_MODEL_443dd82df87d4a32889be82949ab35e7"
          }
        },
        "1f925ab05cf9449e9a7feadbc22ded0c": {
          "model_module": "@jupyter-widgets/controls",
          "model_name": "HTMLModel",
          "model_module_version": "1.5.0",
          "state": {
            "_dom_classes": [],
            "_model_module": "@jupyter-widgets/controls",
            "_model_module_version": "1.5.0",
            "_model_name": "HTMLModel",
            "_view_count": null,
            "_view_module": "@jupyter-widgets/controls",
            "_view_module_version": "1.5.0",
            "_view_name": "HTMLView",
            "description": "",
            "description_tooltip": null,
            "layout": "IPY_MODEL_47b286c9667b468bb4915836ad427f66",
            "placeholder": "​",
            "style": "IPY_MODEL_42d7e9f8b6364f4eaf443ff1110f722f",
            "value": ""
          }
        },
        "e0a7556a5e8646bfa4afd7975e97f20e": {
          "model_module": "@jupyter-widgets/controls",
          "model_name": "FloatProgressModel",
          "model_module_version": "1.5.0",
          "state": {
            "_dom_classes": [],
            "_model_module": "@jupyter-widgets/controls",
            "_model_module_version": "1.5.0",
            "_model_name": "FloatProgressModel",
            "_view_count": null,
            "_view_module": "@jupyter-widgets/controls",
            "_view_module_version": "1.5.0",
            "_view_name": "ProgressView",
            "bar_style": "success",
            "description": "",
            "description_tooltip": null,
            "layout": "IPY_MODEL_8b2b346584c545fdbc384db8cf1b0d2d",
            "max": 1648877,
            "min": 0,
            "orientation": "horizontal",
            "style": "IPY_MODEL_c47d0f94f64b43aa8710955d2c04b9d8",
            "value": 1648877
          }
        },
        "9403885d03e74b44bd1e2ae207782500": {
          "model_module": "@jupyter-widgets/controls",
          "model_name": "HTMLModel",
          "model_module_version": "1.5.0",
          "state": {
            "_dom_classes": [],
            "_model_module": "@jupyter-widgets/controls",
            "_model_module_version": "1.5.0",
            "_model_name": "HTMLModel",
            "_view_count": null,
            "_view_module": "@jupyter-widgets/controls",
            "_view_module_version": "1.5.0",
            "_view_name": "HTMLView",
            "description": "",
            "description_tooltip": null,
            "layout": "IPY_MODEL_96168a25356741339715e4729f7a1e0d",
            "placeholder": "​",
            "style": "IPY_MODEL_be2b093caf454432adc050b968fc363c",
            "value": " 1649664/? [00:00&lt;00:00, 8203308.23it/s]"
          }
        },
        "443dd82df87d4a32889be82949ab35e7": {
          "model_module": "@jupyter-widgets/base",
          "model_name": "LayoutModel",
          "model_module_version": "1.2.0",
          "state": {
            "_model_module": "@jupyter-widgets/base",
            "_model_module_version": "1.2.0",
            "_model_name": "LayoutModel",
            "_view_count": null,
            "_view_module": "@jupyter-widgets/base",
            "_view_module_version": "1.2.0",
            "_view_name": "LayoutView",
            "align_content": null,
            "align_items": null,
            "align_self": null,
            "border": null,
            "bottom": null,
            "display": null,
            "flex": null,
            "flex_flow": null,
            "grid_area": null,
            "grid_auto_columns": null,
            "grid_auto_flow": null,
            "grid_auto_rows": null,
            "grid_column": null,
            "grid_gap": null,
            "grid_row": null,
            "grid_template_areas": null,
            "grid_template_columns": null,
            "grid_template_rows": null,
            "height": null,
            "justify_content": null,
            "justify_items": null,
            "left": null,
            "margin": null,
            "max_height": null,
            "max_width": null,
            "min_height": null,
            "min_width": null,
            "object_fit": null,
            "object_position": null,
            "order": null,
            "overflow": null,
            "overflow_x": null,
            "overflow_y": null,
            "padding": null,
            "right": null,
            "top": null,
            "visibility": null,
            "width": null
          }
        },
        "47b286c9667b468bb4915836ad427f66": {
          "model_module": "@jupyter-widgets/base",
          "model_name": "LayoutModel",
          "model_module_version": "1.2.0",
          "state": {
            "_model_module": "@jupyter-widgets/base",
            "_model_module_version": "1.2.0",
            "_model_name": "LayoutModel",
            "_view_count": null,
            "_view_module": "@jupyter-widgets/base",
            "_view_module_version": "1.2.0",
            "_view_name": "LayoutView",
            "align_content": null,
            "align_items": null,
            "align_self": null,
            "border": null,
            "bottom": null,
            "display": null,
            "flex": null,
            "flex_flow": null,
            "grid_area": null,
            "grid_auto_columns": null,
            "grid_auto_flow": null,
            "grid_auto_rows": null,
            "grid_column": null,
            "grid_gap": null,
            "grid_row": null,
            "grid_template_areas": null,
            "grid_template_columns": null,
            "grid_template_rows": null,
            "height": null,
            "justify_content": null,
            "justify_items": null,
            "left": null,
            "margin": null,
            "max_height": null,
            "max_width": null,
            "min_height": null,
            "min_width": null,
            "object_fit": null,
            "object_position": null,
            "order": null,
            "overflow": null,
            "overflow_x": null,
            "overflow_y": null,
            "padding": null,
            "right": null,
            "top": null,
            "visibility": null,
            "width": null
          }
        },
        "42d7e9f8b6364f4eaf443ff1110f722f": {
          "model_module": "@jupyter-widgets/controls",
          "model_name": "DescriptionStyleModel",
          "model_module_version": "1.5.0",
          "state": {
            "_model_module": "@jupyter-widgets/controls",
            "_model_module_version": "1.5.0",
            "_model_name": "DescriptionStyleModel",
            "_view_count": null,
            "_view_module": "@jupyter-widgets/base",
            "_view_module_version": "1.2.0",
            "_view_name": "StyleView",
            "description_width": ""
          }
        },
        "8b2b346584c545fdbc384db8cf1b0d2d": {
          "model_module": "@jupyter-widgets/base",
          "model_name": "LayoutModel",
          "model_module_version": "1.2.0",
          "state": {
            "_model_module": "@jupyter-widgets/base",
            "_model_module_version": "1.2.0",
            "_model_name": "LayoutModel",
            "_view_count": null,
            "_view_module": "@jupyter-widgets/base",
            "_view_module_version": "1.2.0",
            "_view_name": "LayoutView",
            "align_content": null,
            "align_items": null,
            "align_self": null,
            "border": null,
            "bottom": null,
            "display": null,
            "flex": null,
            "flex_flow": null,
            "grid_area": null,
            "grid_auto_columns": null,
            "grid_auto_flow": null,
            "grid_auto_rows": null,
            "grid_column": null,
            "grid_gap": null,
            "grid_row": null,
            "grid_template_areas": null,
            "grid_template_columns": null,
            "grid_template_rows": null,
            "height": null,
            "justify_content": null,
            "justify_items": null,
            "left": null,
            "margin": null,
            "max_height": null,
            "max_width": null,
            "min_height": null,
            "min_width": null,
            "object_fit": null,
            "object_position": null,
            "order": null,
            "overflow": null,
            "overflow_x": null,
            "overflow_y": null,
            "padding": null,
            "right": null,
            "top": null,
            "visibility": null,
            "width": null
          }
        },
        "c47d0f94f64b43aa8710955d2c04b9d8": {
          "model_module": "@jupyter-widgets/controls",
          "model_name": "ProgressStyleModel",
          "model_module_version": "1.5.0",
          "state": {
            "_model_module": "@jupyter-widgets/controls",
            "_model_module_version": "1.5.0",
            "_model_name": "ProgressStyleModel",
            "_view_count": null,
            "_view_module": "@jupyter-widgets/base",
            "_view_module_version": "1.2.0",
            "_view_name": "StyleView",
            "bar_color": null,
            "description_width": ""
          }
        },
        "96168a25356741339715e4729f7a1e0d": {
          "model_module": "@jupyter-widgets/base",
          "model_name": "LayoutModel",
          "model_module_version": "1.2.0",
          "state": {
            "_model_module": "@jupyter-widgets/base",
            "_model_module_version": "1.2.0",
            "_model_name": "LayoutModel",
            "_view_count": null,
            "_view_module": "@jupyter-widgets/base",
            "_view_module_version": "1.2.0",
            "_view_name": "LayoutView",
            "align_content": null,
            "align_items": null,
            "align_self": null,
            "border": null,
            "bottom": null,
            "display": null,
            "flex": null,
            "flex_flow": null,
            "grid_area": null,
            "grid_auto_columns": null,
            "grid_auto_flow": null,
            "grid_auto_rows": null,
            "grid_column": null,
            "grid_gap": null,
            "grid_row": null,
            "grid_template_areas": null,
            "grid_template_columns": null,
            "grid_template_rows": null,
            "height": null,
            "justify_content": null,
            "justify_items": null,
            "left": null,
            "margin": null,
            "max_height": null,
            "max_width": null,
            "min_height": null,
            "min_width": null,
            "object_fit": null,
            "object_position": null,
            "order": null,
            "overflow": null,
            "overflow_x": null,
            "overflow_y": null,
            "padding": null,
            "right": null,
            "top": null,
            "visibility": null,
            "width": null
          }
        },
        "be2b093caf454432adc050b968fc363c": {
          "model_module": "@jupyter-widgets/controls",
          "model_name": "DescriptionStyleModel",
          "model_module_version": "1.5.0",
          "state": {
            "_model_module": "@jupyter-widgets/controls",
            "_model_module_version": "1.5.0",
            "_model_name": "DescriptionStyleModel",
            "_view_count": null,
            "_view_module": "@jupyter-widgets/base",
            "_view_module_version": "1.2.0",
            "_view_name": "StyleView",
            "description_width": ""
          }
        },
        "a6a43c2960e34e34838806478b5241cb": {
          "model_module": "@jupyter-widgets/controls",
          "model_name": "HBoxModel",
          "model_module_version": "1.5.0",
          "state": {
            "_dom_classes": [],
            "_model_module": "@jupyter-widgets/controls",
            "_model_module_version": "1.5.0",
            "_model_name": "HBoxModel",
            "_view_count": null,
            "_view_module": "@jupyter-widgets/controls",
            "_view_module_version": "1.5.0",
            "_view_name": "HBoxView",
            "box_style": "",
            "children": [
              "IPY_MODEL_ba24bc3b2e5e484fb067924a141291bb",
              "IPY_MODEL_ee3e762802a04386a798f824e8f78f46",
              "IPY_MODEL_96ad9de0506247b4ba18e17751bf0eda"
            ],
            "layout": "IPY_MODEL_1926106f5e774838bf16bfd24b8e8498"
          }
        },
        "ba24bc3b2e5e484fb067924a141291bb": {
          "model_module": "@jupyter-widgets/controls",
          "model_name": "HTMLModel",
          "model_module_version": "1.5.0",
          "state": {
            "_dom_classes": [],
            "_model_module": "@jupyter-widgets/controls",
            "_model_module_version": "1.5.0",
            "_model_name": "HTMLModel",
            "_view_count": null,
            "_view_module": "@jupyter-widgets/controls",
            "_view_module_version": "1.5.0",
            "_view_name": "HTMLView",
            "description": "",
            "description_tooltip": null,
            "layout": "IPY_MODEL_e0e4d0e3e9d649f18286c691f2a3b255",
            "placeholder": "​",
            "style": "IPY_MODEL_7ec046cce50141d4ae4c1565b9b29ac3",
            "value": ""
          }
        },
        "ee3e762802a04386a798f824e8f78f46": {
          "model_module": "@jupyter-widgets/controls",
          "model_name": "FloatProgressModel",
          "model_module_version": "1.5.0",
          "state": {
            "_dom_classes": [],
            "_model_module": "@jupyter-widgets/controls",
            "_model_module_version": "1.5.0",
            "_model_name": "FloatProgressModel",
            "_view_count": null,
            "_view_module": "@jupyter-widgets/controls",
            "_view_module_version": "1.5.0",
            "_view_name": "ProgressView",
            "bar_style": "success",
            "description": "",
            "description_tooltip": null,
            "layout": "IPY_MODEL_745a8ed1516c48dc9d588f189af653b1",
            "max": 4542,
            "min": 0,
            "orientation": "horizontal",
            "style": "IPY_MODEL_3ce5c482ac484d04aab5bd6bf50d4725",
            "value": 4542
          }
        },
        "96ad9de0506247b4ba18e17751bf0eda": {
          "model_module": "@jupyter-widgets/controls",
          "model_name": "HTMLModel",
          "model_module_version": "1.5.0",
          "state": {
            "_dom_classes": [],
            "_model_module": "@jupyter-widgets/controls",
            "_model_module_version": "1.5.0",
            "_model_name": "HTMLModel",
            "_view_count": null,
            "_view_module": "@jupyter-widgets/controls",
            "_view_module_version": "1.5.0",
            "_view_name": "HTMLView",
            "description": "",
            "description_tooltip": null,
            "layout": "IPY_MODEL_d97744787d97457f9fd30cd4d0e3418a",
            "placeholder": "​",
            "style": "IPY_MODEL_891ab884644e46bb86f4d2bdca27dc43",
            "value": " 5120/? [00:00&lt;00:00, 162233.41it/s]"
          }
        },
        "1926106f5e774838bf16bfd24b8e8498": {
          "model_module": "@jupyter-widgets/base",
          "model_name": "LayoutModel",
          "model_module_version": "1.2.0",
          "state": {
            "_model_module": "@jupyter-widgets/base",
            "_model_module_version": "1.2.0",
            "_model_name": "LayoutModel",
            "_view_count": null,
            "_view_module": "@jupyter-widgets/base",
            "_view_module_version": "1.2.0",
            "_view_name": "LayoutView",
            "align_content": null,
            "align_items": null,
            "align_self": null,
            "border": null,
            "bottom": null,
            "display": null,
            "flex": null,
            "flex_flow": null,
            "grid_area": null,
            "grid_auto_columns": null,
            "grid_auto_flow": null,
            "grid_auto_rows": null,
            "grid_column": null,
            "grid_gap": null,
            "grid_row": null,
            "grid_template_areas": null,
            "grid_template_columns": null,
            "grid_template_rows": null,
            "height": null,
            "justify_content": null,
            "justify_items": null,
            "left": null,
            "margin": null,
            "max_height": null,
            "max_width": null,
            "min_height": null,
            "min_width": null,
            "object_fit": null,
            "object_position": null,
            "order": null,
            "overflow": null,
            "overflow_x": null,
            "overflow_y": null,
            "padding": null,
            "right": null,
            "top": null,
            "visibility": null,
            "width": null
          }
        },
        "e0e4d0e3e9d649f18286c691f2a3b255": {
          "model_module": "@jupyter-widgets/base",
          "model_name": "LayoutModel",
          "model_module_version": "1.2.0",
          "state": {
            "_model_module": "@jupyter-widgets/base",
            "_model_module_version": "1.2.0",
            "_model_name": "LayoutModel",
            "_view_count": null,
            "_view_module": "@jupyter-widgets/base",
            "_view_module_version": "1.2.0",
            "_view_name": "LayoutView",
            "align_content": null,
            "align_items": null,
            "align_self": null,
            "border": null,
            "bottom": null,
            "display": null,
            "flex": null,
            "flex_flow": null,
            "grid_area": null,
            "grid_auto_columns": null,
            "grid_auto_flow": null,
            "grid_auto_rows": null,
            "grid_column": null,
            "grid_gap": null,
            "grid_row": null,
            "grid_template_areas": null,
            "grid_template_columns": null,
            "grid_template_rows": null,
            "height": null,
            "justify_content": null,
            "justify_items": null,
            "left": null,
            "margin": null,
            "max_height": null,
            "max_width": null,
            "min_height": null,
            "min_width": null,
            "object_fit": null,
            "object_position": null,
            "order": null,
            "overflow": null,
            "overflow_x": null,
            "overflow_y": null,
            "padding": null,
            "right": null,
            "top": null,
            "visibility": null,
            "width": null
          }
        },
        "7ec046cce50141d4ae4c1565b9b29ac3": {
          "model_module": "@jupyter-widgets/controls",
          "model_name": "DescriptionStyleModel",
          "model_module_version": "1.5.0",
          "state": {
            "_model_module": "@jupyter-widgets/controls",
            "_model_module_version": "1.5.0",
            "_model_name": "DescriptionStyleModel",
            "_view_count": null,
            "_view_module": "@jupyter-widgets/base",
            "_view_module_version": "1.2.0",
            "_view_name": "StyleView",
            "description_width": ""
          }
        },
        "745a8ed1516c48dc9d588f189af653b1": {
          "model_module": "@jupyter-widgets/base",
          "model_name": "LayoutModel",
          "model_module_version": "1.2.0",
          "state": {
            "_model_module": "@jupyter-widgets/base",
            "_model_module_version": "1.2.0",
            "_model_name": "LayoutModel",
            "_view_count": null,
            "_view_module": "@jupyter-widgets/base",
            "_view_module_version": "1.2.0",
            "_view_name": "LayoutView",
            "align_content": null,
            "align_items": null,
            "align_self": null,
            "border": null,
            "bottom": null,
            "display": null,
            "flex": null,
            "flex_flow": null,
            "grid_area": null,
            "grid_auto_columns": null,
            "grid_auto_flow": null,
            "grid_auto_rows": null,
            "grid_column": null,
            "grid_gap": null,
            "grid_row": null,
            "grid_template_areas": null,
            "grid_template_columns": null,
            "grid_template_rows": null,
            "height": null,
            "justify_content": null,
            "justify_items": null,
            "left": null,
            "margin": null,
            "max_height": null,
            "max_width": null,
            "min_height": null,
            "min_width": null,
            "object_fit": null,
            "object_position": null,
            "order": null,
            "overflow": null,
            "overflow_x": null,
            "overflow_y": null,
            "padding": null,
            "right": null,
            "top": null,
            "visibility": null,
            "width": null
          }
        },
        "3ce5c482ac484d04aab5bd6bf50d4725": {
          "model_module": "@jupyter-widgets/controls",
          "model_name": "ProgressStyleModel",
          "model_module_version": "1.5.0",
          "state": {
            "_model_module": "@jupyter-widgets/controls",
            "_model_module_version": "1.5.0",
            "_model_name": "ProgressStyleModel",
            "_view_count": null,
            "_view_module": "@jupyter-widgets/base",
            "_view_module_version": "1.2.0",
            "_view_name": "StyleView",
            "bar_color": null,
            "description_width": ""
          }
        },
        "d97744787d97457f9fd30cd4d0e3418a": {
          "model_module": "@jupyter-widgets/base",
          "model_name": "LayoutModel",
          "model_module_version": "1.2.0",
          "state": {
            "_model_module": "@jupyter-widgets/base",
            "_model_module_version": "1.2.0",
            "_model_name": "LayoutModel",
            "_view_count": null,
            "_view_module": "@jupyter-widgets/base",
            "_view_module_version": "1.2.0",
            "_view_name": "LayoutView",
            "align_content": null,
            "align_items": null,
            "align_self": null,
            "border": null,
            "bottom": null,
            "display": null,
            "flex": null,
            "flex_flow": null,
            "grid_area": null,
            "grid_auto_columns": null,
            "grid_auto_flow": null,
            "grid_auto_rows": null,
            "grid_column": null,
            "grid_gap": null,
            "grid_row": null,
            "grid_template_areas": null,
            "grid_template_columns": null,
            "grid_template_rows": null,
            "height": null,
            "justify_content": null,
            "justify_items": null,
            "left": null,
            "margin": null,
            "max_height": null,
            "max_width": null,
            "min_height": null,
            "min_width": null,
            "object_fit": null,
            "object_position": null,
            "order": null,
            "overflow": null,
            "overflow_x": null,
            "overflow_y": null,
            "padding": null,
            "right": null,
            "top": null,
            "visibility": null,
            "width": null
          }
        },
        "891ab884644e46bb86f4d2bdca27dc43": {
          "model_module": "@jupyter-widgets/controls",
          "model_name": "DescriptionStyleModel",
          "model_module_version": "1.5.0",
          "state": {
            "_model_module": "@jupyter-widgets/controls",
            "_model_module_version": "1.5.0",
            "_model_name": "DescriptionStyleModel",
            "_view_count": null,
            "_view_module": "@jupyter-widgets/base",
            "_view_module_version": "1.2.0",
            "_view_name": "StyleView",
            "description_width": ""
          }
        }
      }
    }
  },
  "cells": [
    {
      "cell_type": "markdown",
      "metadata": {
        "id": "view-in-github",
        "colab_type": "text"
      },
      "source": [
        "<a href=\"https://colab.research.google.com/github/pedromperezc/CEIA/blob/master/AP/Desafio_4.ipynb\" target=\"_parent\"><img src=\"https://colab.research.google.com/assets/colab-badge.svg\" alt=\"Open In Colab\"/></a>"
      ]
    },
    {
      "cell_type": "markdown",
      "metadata": {
        "id": "N9_1a5iymIvC"
      },
      "source": [
        "## EJERCICIO\n",
        "\n",
        "Vamos a armar una pequeña competición en el curso.\n",
        "El objetivo es armar una arquitectura de CNN que identifique el dataset MNIST.\n",
        "Se van a usar capas de convolución, de activación y de pooling a elección. Cada alumno eligirá su modelo y los respectivos hiperparámetros, lo entrenará y presentará los siguientes resultados:\n",
        "\n",
        "*   `test_acc` (del test final)\n",
        "*   `n_parameter`\n",
        "*   `n_layers` (conv + activacion + pooling = 1 capa)\n",
        "*   `n_epochs` de entrenamiento usadas.\n",
        "\n",
        "\n",
        "El modelo se deberá ajustar a los siguientes parámetros:\n",
        "\n",
        "*   train: 80%, validation: 10%, test: 10% (los datos serán dados así todos usan el mismo set para cada grupo. Están en el github el curso).\n",
        "*   capa final de salida será una softmax de 10 elementos.\n",
        "*   coss_function será `CrossEntropyLoss`.\n",
        "\n",
        "El ganador de la competencia será aquel que consiga el mayor `score` empleando la siguietne fórmula:\n",
        "\n",
        "$$ score = \\frac{1}{log_{10}(n\\_parameter)} * \\frac{10}{n\\_epochs}*test\\_acc*n\\_layers$$\n",
        "\n",
        "Deberan presentar su código colab funcionando y el score alcanzado (con los valores de cada variable que compone el score).\n",
        "\n",
        "Es una competencia fairplay y con fines didácticos, esta formula del ```score``` fué inventada.... no usar como referencia para definir qué modelo utilizar.\n",
        "\n",
        "\n",
        "\n",
        "\n",
        "\n"
      ]
    },
    {
      "cell_type": "code",
      "source": [
        "from google.colab import drive\n",
        "drive.mount('/content/drive')"
      ],
      "metadata": {
        "colab": {
          "base_uri": "https://localhost:8080/"
        },
        "id": "Jikv66Z-XLqs",
        "outputId": "db9aa4ba-9129-4c7c-b249-39d3c86a8a8f"
      },
      "execution_count": 1,
      "outputs": [
        {
          "output_type": "stream",
          "name": "stdout",
          "text": [
            "Mounted at /content/drive\n"
          ]
        }
      ]
    },
    {
      "cell_type": "markdown",
      "metadata": {
        "id": "_wIQ8hjDpdVi"
      },
      "source": [
        "#### Importar lo necesario"
      ]
    },
    {
      "cell_type": "code",
      "metadata": {
        "id": "uHQUjDs12DLW"
      },
      "source": [
        "import torch\n",
        "import torchvision\n",
        "import numpy as np\n",
        "import random\n",
        "import matplotlib.pyplot as plt\n",
        "import pickle\n",
        "from torch.utils.data import TensorDataset, DataLoader, Dataset\n",
        "from torchvision import transforms\n",
        "from torchvision.datasets import MNIST\n",
        "import torch.nn.functional as F\n",
        "import tqdm"
      ],
      "execution_count": 2,
      "outputs": []
    },
    {
      "cell_type": "markdown",
      "metadata": {
        "id": "QeJy8fjPn4wi"
      },
      "source": [
        "#### configuramos el `device` acorde al device disponible\n",
        "\n",
        "\n"
      ]
    },
    {
      "cell_type": "code",
      "metadata": {
        "id": "lOV9xybtn4I3"
      },
      "source": [
        "device = \"cuda\" if torch.cuda.is_available() else \"cpu\""
      ],
      "execution_count": 3,
      "outputs": []
    },
    {
      "cell_type": "markdown",
      "metadata": {
        "id": "1nQ-MLk6Do8e"
      },
      "source": [
        "1. Cargar base de datos"
      ]
    },
    {
      "cell_type": "code",
      "source": [
        "train= pickle.load( open( \"/content/drive/MyDrive/DEEP_LEARNING/train.pkl\", \"rb\" ) )\n",
        "train_label= pickle.load( open( \"/content/drive/MyDrive/DEEP_LEARNING/train_label.pkl\", \"rb\" ) )"
      ],
      "metadata": {
        "id": "WjDIkTWgXmc7"
      },
      "execution_count": 4,
      "outputs": []
    },
    {
      "cell_type": "code",
      "source": [
        "train = train.reshape(56000, 1, 28,28)"
      ],
      "metadata": {
        "id": "T_2g4Slny4Gg"
      },
      "execution_count": 5,
      "outputs": []
    },
    {
      "cell_type": "code",
      "source": [
        "train.shape, train_label.shape"
      ],
      "metadata": {
        "colab": {
          "base_uri": "https://localhost:8080/"
        },
        "id": "PxUrsqIaYSOk",
        "outputId": "758f58e4-ad45-46cc-e140-5405f13435ab"
      },
      "execution_count": 6,
      "outputs": [
        {
          "output_type": "execute_result",
          "data": {
            "text/plain": [
              "((56000, 1, 28, 28), (56000,))"
            ]
          },
          "metadata": {},
          "execution_count": 6
        }
      ]
    },
    {
      "cell_type": "code",
      "source": [
        "test= pickle.load( open( \"/content/drive/MyDrive/DEEP_LEARNING/test.pkl\", \"rb\" ) )\n",
        "test_label= pickle.load( open( \"/content/drive/MyDrive/DEEP_LEARNING/test_label.pkl\", \"rb\" ) )"
      ],
      "metadata": {
        "id": "rneP_BWFYELE"
      },
      "execution_count": 7,
      "outputs": []
    },
    {
      "cell_type": "code",
      "source": [
        "test.shape, test_label.shape"
      ],
      "metadata": {
        "colab": {
          "base_uri": "https://localhost:8080/"
        },
        "id": "GUqIb9ptYYji",
        "outputId": "5110bcaf-3226-4364-ee94-ad8d27eac98e"
      },
      "execution_count": 8,
      "outputs": [
        {
          "output_type": "execute_result",
          "data": {
            "text/plain": [
              "((7000, 28, 28), (7000,))"
            ]
          },
          "metadata": {},
          "execution_count": 8
        }
      ]
    },
    {
      "cell_type": "code",
      "source": [
        "test = test.reshape(7000, 1, 28,28)"
      ],
      "metadata": {
        "id": "LIXUrZJazPds"
      },
      "execution_count": 9,
      "outputs": []
    },
    {
      "cell_type": "code",
      "source": [
        "val= pickle.load( open( \"/content/drive/MyDrive/DEEP_LEARNING/val.pkl\", \"rb\" ) )\n",
        "val_label= pickle.load( open( \"/content/drive/MyDrive/DEEP_LEARNING/val_label.pkl\", \"rb\" ) )"
      ],
      "metadata": {
        "id": "rBXg9PbSYJdE"
      },
      "execution_count": 10,
      "outputs": []
    },
    {
      "cell_type": "code",
      "source": [
        "val.shape, val_label.shape"
      ],
      "metadata": {
        "colab": {
          "base_uri": "https://localhost:8080/"
        },
        "id": "eOqFuu9zYcQL",
        "outputId": "18bfadd7-cf5e-4171-90fe-50840a0972ce"
      },
      "execution_count": 11,
      "outputs": [
        {
          "output_type": "execute_result",
          "data": {
            "text/plain": [
              "((7000, 28, 28), (7000,))"
            ]
          },
          "metadata": {},
          "execution_count": 11
        }
      ]
    },
    {
      "cell_type": "code",
      "source": [
        "val = val.reshape(7000, 1, 28,28)"
      ],
      "metadata": {
        "id": "2lCoi1rYzVWD"
      },
      "execution_count": 12,
      "outputs": []
    },
    {
      "cell_type": "markdown",
      "source": [
        ""
      ],
      "metadata": {
        "id": "I4sPWqupuOzU"
      }
    },
    {
      "cell_type": "markdown",
      "source": [
        "## Transformaciones:"
      ],
      "metadata": {
        "id": "ZinY6rqmtkz4"
      }
    },
    {
      "cell_type": "code",
      "source": [
        "trainset = torchvision.datasets.MNIST(root='./data', train=True, download=True)\n",
        "print('Min Pixel Value: {} \\nMax Pixel Value: {}'.format(trainset.data.min(), trainset.data.max()))\n",
        "print('Mean Pixel Value {} \\nPixel Values Std: {}'.format(trainset.data.float().mean(), trainset.data.float().std()))\n",
        "print('Scaled Mean Pixel Value {} \\nScaled Pixel Values Std: {}'.format(trainset.data.float().mean() / 255, trainset.data.float().std() / 255))"
      ],
      "metadata": {
        "colab": {
          "base_uri": "https://localhost:8080/",
          "height": 526,
          "referenced_widgets": [
            "70271cd86a844ac0bef290a03f252a04",
            "ca510b5910f54af7be8bcf5f3f743eb7",
            "a2e6ffda89ef44f29b457b3f501af763",
            "c61cec51f7d34be284485dce81e151e5",
            "24a6a9f1da6d489d8eecd7ecbeef0653",
            "a77ef1513c624b678684bc6776a8952a",
            "d15933303fa44658b7c2849b940d7672",
            "7f3cddef54c34c0dbbfb28e77c7ec9b2",
            "627f328dfacb4f038996a16f4896caf9",
            "8c7ac3de81dd4295905bd1dbdbbb8e3c",
            "78d4c3ca5f124ba69f96840804765719",
            "f497e4165ab14671b41b078f9bc6abd5",
            "1f96dcd8bc2948338af22e798eaede46",
            "f8c501eb02924dceb5b7597699541e2e",
            "3c6f8849f1784015b9241d7d87bfd937",
            "b1de845813834d6aac5c308ef2369d0c",
            "798ebf62991c476fbe7a1271ae4f251d",
            "775740166d3b41489d88238d396c0f2c",
            "81d79adf33eb4e5e85724fbc2daf5dc5",
            "27a1d98706b942de80d67ea541dc2216",
            "cf33fb26eecd4e69baac65ab900e2e24",
            "54872dfab1a545e18c658f52c932fd42",
            "f5b9db4fc6bc496898e958ae58c9d8ff",
            "1f925ab05cf9449e9a7feadbc22ded0c",
            "e0a7556a5e8646bfa4afd7975e97f20e",
            "9403885d03e74b44bd1e2ae207782500",
            "443dd82df87d4a32889be82949ab35e7",
            "47b286c9667b468bb4915836ad427f66",
            "42d7e9f8b6364f4eaf443ff1110f722f",
            "8b2b346584c545fdbc384db8cf1b0d2d",
            "c47d0f94f64b43aa8710955d2c04b9d8",
            "96168a25356741339715e4729f7a1e0d",
            "be2b093caf454432adc050b968fc363c",
            "a6a43c2960e34e34838806478b5241cb",
            "ba24bc3b2e5e484fb067924a141291bb",
            "ee3e762802a04386a798f824e8f78f46",
            "96ad9de0506247b4ba18e17751bf0eda",
            "1926106f5e774838bf16bfd24b8e8498",
            "e0e4d0e3e9d649f18286c691f2a3b255",
            "7ec046cce50141d4ae4c1565b9b29ac3",
            "745a8ed1516c48dc9d588f189af653b1",
            "3ce5c482ac484d04aab5bd6bf50d4725",
            "d97744787d97457f9fd30cd4d0e3418a",
            "891ab884644e46bb86f4d2bdca27dc43"
          ]
        },
        "id": "_U0RkpBVtsqR",
        "outputId": "643b7401-6653-46e6-d461-40505a9c87db"
      },
      "execution_count": 13,
      "outputs": [
        {
          "output_type": "stream",
          "name": "stdout",
          "text": [
            "Downloading http://yann.lecun.com/exdb/mnist/train-images-idx3-ubyte.gz\n",
            "Downloading http://yann.lecun.com/exdb/mnist/train-images-idx3-ubyte.gz to ./data/MNIST/raw/train-images-idx3-ubyte.gz\n"
          ]
        },
        {
          "output_type": "display_data",
          "data": {
            "text/plain": [
              "  0%|          | 0/9912422 [00:00<?, ?it/s]"
            ],
            "application/vnd.jupyter.widget-view+json": {
              "version_major": 2,
              "version_minor": 0,
              "model_id": "70271cd86a844ac0bef290a03f252a04"
            }
          },
          "metadata": {}
        },
        {
          "output_type": "stream",
          "name": "stdout",
          "text": [
            "Extracting ./data/MNIST/raw/train-images-idx3-ubyte.gz to ./data/MNIST/raw\n",
            "\n",
            "Downloading http://yann.lecun.com/exdb/mnist/train-labels-idx1-ubyte.gz\n",
            "Downloading http://yann.lecun.com/exdb/mnist/train-labels-idx1-ubyte.gz to ./data/MNIST/raw/train-labels-idx1-ubyte.gz\n"
          ]
        },
        {
          "output_type": "display_data",
          "data": {
            "text/plain": [
              "  0%|          | 0/28881 [00:00<?, ?it/s]"
            ],
            "application/vnd.jupyter.widget-view+json": {
              "version_major": 2,
              "version_minor": 0,
              "model_id": "f497e4165ab14671b41b078f9bc6abd5"
            }
          },
          "metadata": {}
        },
        {
          "output_type": "stream",
          "name": "stdout",
          "text": [
            "Extracting ./data/MNIST/raw/train-labels-idx1-ubyte.gz to ./data/MNIST/raw\n",
            "\n",
            "Downloading http://yann.lecun.com/exdb/mnist/t10k-images-idx3-ubyte.gz\n",
            "Downloading http://yann.lecun.com/exdb/mnist/t10k-images-idx3-ubyte.gz to ./data/MNIST/raw/t10k-images-idx3-ubyte.gz\n"
          ]
        },
        {
          "output_type": "display_data",
          "data": {
            "text/plain": [
              "  0%|          | 0/1648877 [00:00<?, ?it/s]"
            ],
            "application/vnd.jupyter.widget-view+json": {
              "version_major": 2,
              "version_minor": 0,
              "model_id": "f5b9db4fc6bc496898e958ae58c9d8ff"
            }
          },
          "metadata": {}
        },
        {
          "output_type": "stream",
          "name": "stdout",
          "text": [
            "Extracting ./data/MNIST/raw/t10k-images-idx3-ubyte.gz to ./data/MNIST/raw\n",
            "\n",
            "Downloading http://yann.lecun.com/exdb/mnist/t10k-labels-idx1-ubyte.gz\n",
            "Downloading http://yann.lecun.com/exdb/mnist/t10k-labels-idx1-ubyte.gz to ./data/MNIST/raw/t10k-labels-idx1-ubyte.gz\n"
          ]
        },
        {
          "output_type": "display_data",
          "data": {
            "text/plain": [
              "  0%|          | 0/4542 [00:00<?, ?it/s]"
            ],
            "application/vnd.jupyter.widget-view+json": {
              "version_major": 2,
              "version_minor": 0,
              "model_id": "a6a43c2960e34e34838806478b5241cb"
            }
          },
          "metadata": {}
        },
        {
          "output_type": "stream",
          "name": "stdout",
          "text": [
            "Extracting ./data/MNIST/raw/t10k-labels-idx1-ubyte.gz to ./data/MNIST/raw\n",
            "\n",
            "Min Pixel Value: 0 \n",
            "Max Pixel Value: 255\n",
            "Mean Pixel Value 33.31842041015625 \n",
            "Pixel Values Std: 78.56748962402344\n",
            "Scaled Mean Pixel Value 0.13066047430038452 \n",
            "Scaled Pixel Values Std: 0.30810779333114624\n"
          ]
        }
      ]
    },
    {
      "cell_type": "code",
      "source": [
        "print('Mean Pixel Value {} \\nPixel Values Std: {}'.format(train.float().mean(), train.float().std()))\n"
      ],
      "metadata": {
        "id": "nK1rBenim7wm"
      },
      "execution_count": null,
      "outputs": []
    },
    {
      "cell_type": "code",
      "source": [
        "transformacion = transforms.Compose([\n",
        "          transforms.Resize((32, 32)),\n",
        "          transforms.Normalize((0.1306),(0.3081))\n",
        "          ])"
      ],
      "metadata": {
        "id": "J4cW6WVQp0rE"
      },
      "execution_count": 14,
      "outputs": []
    },
    {
      "cell_type": "markdown",
      "source": [
        "## Dataset"
      ],
      "metadata": {
        "id": "k8BXzpzzuTUB"
      }
    },
    {
      "cell_type": "code",
      "source": [
        "class CustomTensorDataset(Dataset):\n",
        "  def __init__(self, dataset, transform_list=None):\n",
        "    [data_X, data_y] = dataset\n",
        "    X_tensor, y_tensor = torch.tensor(data_X), torch.tensor(data_y)\n",
        "    #X_tensor, y_tensor = Tensor(data_X), Tensor(data_y)\n",
        "    tensors = (X_tensor, y_tensor)\n",
        "    assert all(tensors[0].size(0) == tensor.size(0) for tensor in tensors)\n",
        "    self.tensors = tensors\n",
        "    self.transforms = transform_list\n",
        "\n",
        "  def __getitem__(self, index):\n",
        "    x = self.tensors[0][index]\n",
        "\n",
        "    if self.transforms:\n",
        "      #for transform in self.transforms: \n",
        "      #  x = transform(x)\n",
        "      x = self.transforms(x)\n",
        "\n",
        "    y = self.tensors[1][index]\n",
        "\n",
        "    return x, y\n",
        "\n",
        "  def __len__(self):\n",
        "    return self.tensors[0].size(0)"
      ],
      "metadata": {
        "id": "4fT_SiS8vtl7"
      },
      "execution_count": 15,
      "outputs": []
    },
    {
      "cell_type": "code",
      "source": [
        "train_dataset = CustomTensorDataset((torch.Tensor(train).to(device), torch.Tensor(train_label).to(device)),transform_list=transformacion )\n",
        "test_dataset = CustomTensorDataset((torch.Tensor(test).to(device), torch.Tensor(test_label).to(device)),transform_list=transformacion )\n",
        "val_dataset = CustomTensorDataset((torch.Tensor(val).to(device), torch.Tensor(val_label).to(device)),transform_list=transformacion )"
      ],
      "metadata": {
        "colab": {
          "base_uri": "https://localhost:8080/"
        },
        "id": "vr6ArCtjay9G",
        "outputId": "2ef1382a-68fd-4de1-dcb4-849220e8d4e0"
      },
      "execution_count": 16,
      "outputs": [
        {
          "output_type": "stream",
          "name": "stderr",
          "text": [
            "/usr/local/lib/python3.7/dist-packages/ipykernel_launcher.py:4: UserWarning: To copy construct from a tensor, it is recommended to use sourceTensor.clone().detach() or sourceTensor.clone().detach().requires_grad_(True), rather than torch.tensor(sourceTensor).\n",
            "  after removing the cwd from sys.path.\n"
          ]
        }
      ]
    },
    {
      "cell_type": "code",
      "source": [
        "# ahora el dataloader\n",
        "dataloader = {\n",
        "    'train': torch.utils.data.DataLoader(train_dataset, batch_size=256, shuffle=True),\n",
        "    'test': torch.utils.data.DataLoader(test_dataset, batch_size=256, shuffle=False),\n",
        "    'val': torch.utils.data.DataLoader(val_dataset, batch_size=256, shuffle=False)\n",
        "\n",
        "}"
      ],
      "metadata": {
        "id": "UeJQchadYqwt"
      },
      "execution_count": 17,
      "outputs": []
    },
    {
      "cell_type": "markdown",
      "metadata": {
        "id": "oikthAE4Dteb"
      },
      "source": [
        "2. Ver que la base de datos esté OK"
      ]
    },
    {
      "cell_type": "code",
      "metadata": {
        "colab": {
          "base_uri": "https://localhost:8080/"
        },
        "id": "cyq2UFIl-Qjy",
        "outputId": "306d180e-034c-46a6-a784-143d7b8e077d"
      },
      "source": [
        "print(type(dataloader))\n",
        "print(type(dataloader['train']))"
      ],
      "execution_count": 18,
      "outputs": [
        {
          "output_type": "stream",
          "name": "stdout",
          "text": [
            "<class 'dict'>\n",
            "<class 'torch.utils.data.dataloader.DataLoader'>\n"
          ]
        }
      ]
    },
    {
      "cell_type": "code",
      "metadata": {
        "colab": {
          "base_uri": "https://localhost:8080/",
          "height": 353
        },
        "id": "p2fs6Qdivs1H",
        "outputId": "d2487fb6-41e1-4d82-8766-97d9df2fa289"
      },
      "source": [
        "# Display image and label from dataloader (dataloader -> una herramienta para hacer batches de datasets)\n",
        "train_features, train_labels = next(iter(dataloader['train']))\n",
        "\n",
        "print(f\"Feature batch shape: {train_features.size()}\")\n",
        "print(f\"Labels batch shape: {train_labels.size()}\")\n",
        "\n",
        "img = train_features[0]\n",
        "print('tamaño de 1 imagen: ', img.shape)\n",
        "# le QUITO 1 dimension (la del tamaño del batch) para poder graficar\n",
        "img = train_features[0].squeeze()\n",
        "print('tamaño 1 imagen DESPUES de squeeze: ', img.shape)\n",
        "label = train_labels[0]\n",
        "plt.imshow(img.cpu() , cmap=\"gray\")\n",
        "plt.show()\n",
        "print(f\"Label: {label}\")"
      ],
      "execution_count": 19,
      "outputs": [
        {
          "output_type": "stream",
          "name": "stdout",
          "text": [
            "Feature batch shape: torch.Size([256, 1, 32, 32])\n",
            "Labels batch shape: torch.Size([256])\n",
            "tamaño de 1 imagen:  torch.Size([1, 32, 32])\n",
            "tamaño 1 imagen DESPUES de squeeze:  torch.Size([32, 32])\n"
          ]
        },
        {
          "output_type": "display_data",
          "data": {
            "text/plain": [
              "<Figure size 432x288 with 1 Axes>"
            ],
            "image/png": "[encoded data removed]"
          },
          "metadata": {
            "needs_background": "light"
          }
        },
        {
          "output_type": "stream",
          "name": "stdout",
          "text": [
            "Label: 6.0\n"
          ]
        }
      ]
    },
    {
      "cell_type": "markdown",
      "metadata": {
        "id": "EY0TN4erDxRd"
      },
      "source": [
        "3. Arquitectura LeNet5 "
      ]
    },
    {
      "cell_type": "markdown",
      "source": [
        "![image.png](data:image/png;base64,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)"
      ],
      "metadata": {
        "id": "v4MPrP4KBIrX"
      }
    },
    {
      "cell_type": "code",
      "source": [
        "class LeNet5_norm(torch.nn.Module):\n",
        "\n",
        "    def __init__(self):\n",
        "        super(LeNet5_norm, self).__init__()\n",
        "        \n",
        "        self.convolutional_layer = torch.nn.Sequential(            \n",
        "            torch.nn.Conv2d(in_channels=1, out_channels=6, kernel_size=5, stride=1),\n",
        "            torch.nn.ReLU(),\n",
        "            \n",
        "            torch.nn.MaxPool2d(kernel_size=2, stride=2, padding=0),\n",
        "            torch.nn.BatchNorm2d(6),\n",
        "\n",
        "            torch.nn.Conv2d(in_channels=6, out_channels=16, kernel_size=5, stride=1),\n",
        "            torch.nn.ReLU(),\n",
        "            torch.nn.MaxPool2d(kernel_size=2, stride=2, padding=0),\n",
        "            torch.nn.Conv2d(in_channels=16, out_channels=120, kernel_size=5, stride=1),\n",
        "            torch.nn.ReLU()\n",
        "        )\n",
        "\n",
        "        self.linear_layer = torch.nn.Sequential(\n",
        "            torch.nn.Linear(in_features=120, out_features=84),\n",
        "            torch.nn.ReLU(),\n",
        "            torch.nn.BatchNorm1d(84),\n",
        "            torch.nn.Linear(in_features=84, out_features=10),\n",
        "        )\n",
        "\n",
        "        # Me fijo en el número de capas\n",
        "        i=0\n",
        "        for layer in self.children():\n",
        "            i=i+1\n",
        "        print('Número total de capas de CNN (conv+act+polling) + finales : ', i)\n",
        "        \n",
        "        # Me fijo en el número de parámetros entrenables\n",
        "        pytorch_total_params = sum(p.numel() for p in self.parameters() if p.requires_grad)\n",
        "        print('Número total de parámetros a entrenar: ', pytorch_total_params)\n",
        "\n",
        "    def forward(self, x):\n",
        "        x = self.convolutional_layer(x)\n",
        "        x = torch.flatten(x, 1)\n",
        "        x = self.linear_layer(x)\n",
        "        x = F.softmax(x, dim=1)\n",
        "        return x"
      ],
      "metadata": {
        "id": "hfqaCZffZf_U"
      },
      "execution_count": 20,
      "outputs": []
    },
    {
      "cell_type": "code",
      "source": [
        "model2 = LeNet5_norm().to(device)"
      ],
      "metadata": {
        "colab": {
          "base_uri": "https://localhost:8080/"
        },
        "id": "XXjVWROAZs3s",
        "outputId": "d16ceef8-f47e-4e3a-d29d-e649fe4c22e6"
      },
      "execution_count": 25,
      "outputs": [
        {
          "output_type": "stream",
          "name": "stdout",
          "text": [
            "Número total de capas de CNN (conv+act+polling) + finales :  2\n",
            "Número total de parámetros a entrenar:  61886\n"
          ]
        }
      ]
    },
    {
      "cell_type": "code",
      "source": [
        "model2"
      ],
      "metadata": {
        "colab": {
          "base_uri": "https://localhost:8080/"
        },
        "id": "3YqNCEDyboQ1",
        "outputId": "7d3f7d39-02c6-4d03-f8fe-58b317087b7f"
      },
      "execution_count": 26,
      "outputs": [
        {
          "output_type": "execute_result",
          "data": {
            "text/plain": [
              "LeNet5_norm(\n",
              "  (convolutional_layer): Sequential(\n",
              "    (0): Conv2d(1, 6, kernel_size=(5, 5), stride=(1, 1))\n",
              "    (1): ReLU()\n",
              "    (2): MaxPool2d(kernel_size=2, stride=2, padding=0, dilation=1, ceil_mode=False)\n",
              "    (3): BatchNorm2d(6, eps=1e-05, momentum=0.1, affine=True, track_running_stats=True)\n",
              "    (4): Conv2d(6, 16, kernel_size=(5, 5), stride=(1, 1))\n",
              "    (5): ReLU()\n",
              "    (6): MaxPool2d(kernel_size=2, stride=2, padding=0, dilation=1, ceil_mode=False)\n",
              "    (7): Conv2d(16, 120, kernel_size=(5, 5), stride=(1, 1))\n",
              "    (8): ReLU()\n",
              "  )\n",
              "  (linear_layer): Sequential(\n",
              "    (0): Linear(in_features=120, out_features=84, bias=True)\n",
              "    (1): ReLU()\n",
              "    (2): BatchNorm1d(84, eps=1e-05, momentum=0.1, affine=True, track_running_stats=True)\n",
              "    (3): Linear(in_features=84, out_features=10, bias=True)\n",
              "  )\n",
              ")"
            ]
          },
          "metadata": {},
          "execution_count": 26
        }
      ]
    },
    {
      "cell_type": "code",
      "source": [
        "from tqdm import tqdm # <- para graficar la barra de avance\n",
        "\n",
        "\n",
        "def fit(model, dataloader, epochs=15):\n",
        "    model.to(device)\n",
        "    optimizer = torch.optim.Adam(model.parameters(), lr=0.01)\n",
        "    criterion = torch.nn.CrossEntropyLoss()\n",
        "    for epoch in range(1, epochs+1):\n",
        "        model.train()\n",
        "        train_loss, train_acc = [], []\n",
        "        bar = tqdm(dataloader['train'])\n",
        "        for batch in bar:\n",
        "            X, y = batch\n",
        "            X, y = X.to(device), y.to(device)\n",
        "            optimizer.zero_grad()\n",
        "            y_hat = model(X)\n",
        "            loss = criterion(y_hat, y.long())\n",
        "            loss.backward()\n",
        "            optimizer.step()\n",
        "            train_loss.append(loss.item())\n",
        "            ####\n",
        "            acc = (y == torch.argmax(y_hat, axis=1)).sum().item() / len(y)\n",
        "            train_acc.append(acc)\n",
        "            bar.set_description(f\"loss {np.mean(train_loss):.5f} acc {np.mean(train_acc):.5f}\")\n",
        "        bar = tqdm(dataloader['test'])\n",
        "        val_loss, val_acc = [], []\n",
        "        model.eval()\n",
        "        with torch.no_grad():\n",
        "            for batch in bar:\n",
        "                X, y = batch\n",
        "                X, y = X.to(device), y.to(device)\n",
        "                y_hat = model(X)\n",
        "                loss = criterion(y_hat, y.long())\n",
        "                val_loss.append(loss.item())\n",
        "                acc = (y == torch.argmax(y_hat, axis=1)).sum().item() / len(y)\n",
        "                val_acc.append(acc)\n",
        "                bar.set_description(f\"val_loss {np.mean(val_loss):.5f} val_acc {np.mean(val_acc):.5f}\")\n",
        "        print(f\"Epoch {epoch}/{epochs} loss {np.mean(train_loss):.5f} val_loss {np.mean(val_loss):.5f} acc {np.mean(train_acc):.5f} val_acc {np.mean(val_acc):.5f}\")\n"
      ],
      "metadata": {
        "id": "gzn44OARGnOf"
      },
      "execution_count": 27,
      "outputs": []
    },
    {
      "cell_type": "code",
      "source": [
        "fit(model2, dataloader)"
      ],
      "metadata": {
        "colab": {
          "base_uri": "https://localhost:8080/"
        },
        "id": "1EI7KDOcQDMB",
        "outputId": "7007e1e0-8c54-453d-cbeb-b94ff808ced3"
      },
      "execution_count": 28,
      "outputs": [
        {
          "output_type": "stream",
          "name": "stderr",
          "text": [
            "loss 1.51662 acc 0.95793: 100%|██████████| 219/219 [00:14<00:00, 15.32it/s]\n",
            "val_loss 1.50874 val_acc 0.95442: 100%|██████████| 28/28 [00:01<00:00, 16.81it/s]\n"
          ]
        },
        {
          "output_type": "stream",
          "name": "stdout",
          "text": [
            "Epoch 1/15 loss 1.51662 val_loss 1.50874 acc 0.95793 val_acc 0.95442\n"
          ]
        },
        {
          "output_type": "stream",
          "name": "stderr",
          "text": [
            "loss 1.48133 acc 0.98105: 100%|██████████| 219/219 [00:14<00:00, 15.39it/s]\n",
            "val_loss 1.49247 val_acc 0.96976: 100%|██████████| 28/28 [00:01<00:00, 17.19it/s]\n"
          ]
        },
        {
          "output_type": "stream",
          "name": "stdout",
          "text": [
            "Epoch 2/15 loss 1.48133 val_loss 1.49247 acc 0.98105 val_acc 0.96976\n"
          ]
        },
        {
          "output_type": "stream",
          "name": "stderr",
          "text": [
            "loss 1.47916 acc 0.98275: 100%|██████████| 219/219 [00:14<00:00, 15.17it/s]\n",
            "val_loss 1.47964 val_acc 0.98203: 100%|██████████| 28/28 [00:01<00:00, 16.99it/s]\n"
          ]
        },
        {
          "output_type": "stream",
          "name": "stdout",
          "text": [
            "Epoch 3/15 loss 1.47916 val_loss 1.47964 acc 0.98275 val_acc 0.98203\n"
          ]
        },
        {
          "output_type": "stream",
          "name": "stderr",
          "text": [
            "loss 1.47532 acc 0.98630: 100%|██████████| 219/219 [00:14<00:00, 15.30it/s]\n",
            "val_loss 1.48359 val_acc 0.97824: 100%|██████████| 28/28 [00:01<00:00, 16.24it/s]\n"
          ]
        },
        {
          "output_type": "stream",
          "name": "stdout",
          "text": [
            "Epoch 4/15 loss 1.47532 val_loss 1.48359 acc 0.98630 val_acc 0.97824\n"
          ]
        },
        {
          "output_type": "stream",
          "name": "stderr",
          "text": [
            "loss 1.47502 acc 0.98633: 100%|██████████| 219/219 [00:14<00:00, 15.26it/s]\n",
            "val_loss 1.47753 val_acc 0.98370: 100%|██████████| 28/28 [00:01<00:00, 16.94it/s]\n"
          ]
        },
        {
          "output_type": "stream",
          "name": "stdout",
          "text": [
            "Epoch 5/15 loss 1.47502 val_loss 1.47753 acc 0.98633 val_acc 0.98370\n"
          ]
        },
        {
          "output_type": "stream",
          "name": "stderr",
          "text": [
            "loss 1.47345 acc 0.98765: 100%|██████████| 219/219 [00:21<00:00, 10.23it/s]\n",
            "val_loss 1.47667 val_acc 0.98426: 100%|██████████| 28/28 [00:01<00:00, 16.94it/s]\n"
          ]
        },
        {
          "output_type": "stream",
          "name": "stdout",
          "text": [
            "Epoch 6/15 loss 1.47345 val_loss 1.47667 acc 0.98765 val_acc 0.98426\n"
          ]
        },
        {
          "output_type": "stream",
          "name": "stderr",
          "text": [
            "loss 1.47304 acc 0.98819: 100%|██████████| 219/219 [00:16<00:00, 13.04it/s]\n",
            "val_loss 1.47633 val_acc 0.98465: 100%|██████████| 28/28 [00:01<00:00, 16.96it/s]\n"
          ]
        },
        {
          "output_type": "stream",
          "name": "stdout",
          "text": [
            "Epoch 7/15 loss 1.47304 val_loss 1.47633 acc 0.98819 val_acc 0.98465\n"
          ]
        },
        {
          "output_type": "stream",
          "name": "stderr",
          "text": [
            "loss 1.47207 acc 0.98929: 100%|██████████| 219/219 [00:14<00:00, 15.20it/s]\n",
            "val_loss 1.47440 val_acc 0.98704: 100%|██████████| 28/28 [00:01<00:00, 16.82it/s]\n"
          ]
        },
        {
          "output_type": "stream",
          "name": "stdout",
          "text": [
            "Epoch 8/15 loss 1.47207 val_loss 1.47440 acc 0.98929 val_acc 0.98704\n"
          ]
        },
        {
          "output_type": "stream",
          "name": "stderr",
          "text": [
            "loss 1.47235 acc 0.98901: 100%|██████████| 219/219 [00:14<00:00, 15.31it/s]\n",
            "val_loss 1.47789 val_acc 0.98355: 100%|██████████| 28/28 [00:01<00:00, 17.02it/s]\n"
          ]
        },
        {
          "output_type": "stream",
          "name": "stdout",
          "text": [
            "Epoch 9/15 loss 1.47235 val_loss 1.47789 acc 0.98901 val_acc 0.98355\n"
          ]
        },
        {
          "output_type": "stream",
          "name": "stderr",
          "text": [
            "loss 1.47213 acc 0.98923: 100%|██████████| 219/219 [00:15<00:00, 14.47it/s]\n",
            "val_loss 1.47491 val_acc 0.98634: 100%|██████████| 28/28 [00:01<00:00, 16.85it/s]\n"
          ]
        },
        {
          "output_type": "stream",
          "name": "stdout",
          "text": [
            "Epoch 10/15 loss 1.47213 val_loss 1.47491 acc 0.98923 val_acc 0.98634\n"
          ]
        },
        {
          "output_type": "stream",
          "name": "stderr",
          "text": [
            "loss 1.47118 acc 0.98990: 100%|██████████| 219/219 [00:14<00:00, 15.31it/s]\n",
            "val_loss 1.48119 val_acc 0.97964: 100%|██████████| 28/28 [00:01<00:00, 16.67it/s]\n"
          ]
        },
        {
          "output_type": "stream",
          "name": "stdout",
          "text": [
            "Epoch 11/15 loss 1.47118 val_loss 1.48119 acc 0.98990 val_acc 0.97964\n"
          ]
        },
        {
          "output_type": "stream",
          "name": "stderr",
          "text": [
            "loss 1.47152 acc 0.98979: 100%|██████████| 219/219 [00:14<00:00, 15.11it/s]\n",
            "val_loss 1.47515 val_acc 0.98635: 100%|██████████| 28/28 [00:01<00:00, 17.27it/s]\n"
          ]
        },
        {
          "output_type": "stream",
          "name": "stdout",
          "text": [
            "Epoch 12/15 loss 1.47152 val_loss 1.47515 acc 0.98979 val_acc 0.98635\n"
          ]
        },
        {
          "output_type": "stream",
          "name": "stderr",
          "text": [
            "loss 1.47268 acc 0.98855: 100%|██████████| 219/219 [00:14<00:00, 14.60it/s]\n",
            "val_loss 1.47520 val_acc 0.98564: 100%|██████████| 28/28 [00:01<00:00, 16.48it/s]\n"
          ]
        },
        {
          "output_type": "stream",
          "name": "stdout",
          "text": [
            "Epoch 13/15 loss 1.47268 val_loss 1.47520 acc 0.98855 val_acc 0.98564\n"
          ]
        },
        {
          "output_type": "stream",
          "name": "stderr",
          "text": [
            "loss 1.47086 acc 0.99026: 100%|██████████| 219/219 [00:14<00:00, 15.19it/s]\n",
            "val_loss 1.47395 val_acc 0.98717: 100%|██████████| 28/28 [00:01<00:00, 16.51it/s]\n"
          ]
        },
        {
          "output_type": "stream",
          "name": "stdout",
          "text": [
            "Epoch 14/15 loss 1.47086 val_loss 1.47395 acc 0.99026 val_acc 0.98717\n"
          ]
        },
        {
          "output_type": "stream",
          "name": "stderr",
          "text": [
            "loss 1.47131 acc 0.98987: 100%|██████████| 219/219 [00:14<00:00, 15.19it/s]\n",
            "val_loss 1.47419 val_acc 0.98689: 100%|██████████| 28/28 [00:01<00:00, 16.88it/s]"
          ]
        },
        {
          "output_type": "stream",
          "name": "stdout",
          "text": [
            "Epoch 15/15 loss 1.47131 val_loss 1.47419 acc 0.98987 val_acc 0.98689\n"
          ]
        },
        {
          "output_type": "stream",
          "name": "stderr",
          "text": [
            "\n"
          ]
        }
      ]
    },
    {
      "cell_type": "markdown",
      "source": [
        "# score final"
      ],
      "metadata": {
        "id": "1aQ5n86Kwk7B"
      }
    },
    {
      "cell_type": "markdown",
      "source": [
        "![image.png](data:image/png;base64,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)"
      ],
      "metadata": {
        "id": "wfPKWtyDnwVA"
      }
    },
    {
      "cell_type": "code",
      "source": [
        "score = 1 / np.log(61886) * 10/15 *  0.99026  * 2"
      ],
      "metadata": {
        "id": "YN4TLGX0GSIh"
      },
      "execution_count": 31,
      "outputs": []
    },
    {
      "cell_type": "code",
      "source": [
        "#mejor score:\n",
        "score"
      ],
      "metadata": {
        "colab": {
          "base_uri": "https://localhost:8080/"
        },
        "id": "RWxIvVxXofsw",
        "outputId": "eb6b21e5-d083-45d0-be52-3c057a274fb9"
      },
      "execution_count": 32,
      "outputs": [
        {
          "output_type": "execute_result",
          "data": {
            "text/plain": [
              "0.11967196332861223"
            ]
          },
          "metadata": {},
          "execution_count": 32
        }
      ]
    },
    {
      "cell_type": "code",
      "source": [
        ""
      ],
      "metadata": {
        "id": "sX1jD8Ucotm4"
      },
      "execution_count": null,
      "outputs": []
    }
  ]
}