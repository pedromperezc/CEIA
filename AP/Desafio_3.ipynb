{
  "nbformat": 4,
  "nbformat_minor": 0,
  "metadata": {
    "colab": {
      "name": "Desafio_3.ipynb",
      "provenance": [],
      "collapsed_sections": [],
      "authorship_tag": "ABX9TyOnIythttTtxxo7ZE4mmOrS",
      "include_colab_link": true
    },
    "kernelspec": {
      "name": "python3",
      "display_name": "Python 3"
    },
    "language_info": {
      "name": "python"
    },
    "accelerator": "GPU"
  },
  "cells": [
    {
      "cell_type": "markdown",
      "metadata": {
        "id": "view-in-github",
        "colab_type": "text"
      },
      "source": [
        "<a href=\"https://colab.research.google.com/github/pedromperezc/CEIA/blob/master/AP/Desafio_3.ipynb\" target=\"_parent\"><img src=\"https://colab.research.google.com/assets/colab-badge.svg\" alt=\"Open In Colab\"/></a>"
      ]
    },
    {
      "cell_type": "markdown",
      "source": [
        "# Red Neuronal Feed Forward en PyTorch\n",
        "\n",
        "Resolver el ejercicio 2 de la Clase 2 utilizando una red neuronal feed forward en PyTorch. Pueden usar los notebooks de la clase de referencia."
      ],
      "metadata": {
        "id": "kyUAygD4mT2b"
      }
    },
    {
      "cell_type": "code",
      "execution_count": null,
      "metadata": {
        "id": "0SGQd1FYdb5j"
      },
      "outputs": [],
      "source": [
        "%matplotlib inline\n",
        "import numpy as np\n",
        "import torch\n",
        "import torch.optim as optim\n",
        "import torch.nn as nn\n",
        "import matplotlib.pylab as plt\n",
        "\n",
        "torch.set_printoptions(edgeitems=2, linewidth=75)"
      ]
    },
    {
      "cell_type": "code",
      "source": [
        "# a. Dataset sintetico:\n",
        "X = torch.tensor(np.linspace(0,4,10000))\n",
        "y = -1*(X-2)**2 + 3 + 0.2 * np.sin(16 * X)\n",
        "\n",
        "plt.plot(X, y)"
      ],
      "metadata": {
        "colab": {
          "base_uri": "https://localhost:8080/",
          "height": 283
        },
        "id": "DA8IvCaNkRJ5",
        "outputId": "1f82c4ef-ce3b-4680-e791-c62f605fc8be"
      },
      "execution_count": null,
      "outputs": [
        {
          "output_type": "execute_result",
          "data": {
            "text/plain": [
              "[<matplotlib.lines.Line2D at 0x7fede4de6f10>]"
            ]
          },
          "metadata": {},
          "execution_count": 2
        },
        {
          "output_type": "display_data",
          "data": {
            "text/plain": [
              "<Figure size 432x288 with 1 Axes>"
            ],
            "image/png": "[encoded data removed]"
          },
          "metadata": {
            "needs_background": "light"
          }
        }
      ]
    },
    {
      "cell_type": "code",
      "source": [
        "# size of input \n",
        "n_x = X.shape[0]\n",
        "# size of hidden layer \n",
        "n_h = 5\n",
        "# number of outputs \n",
        "n_y = 1\n",
        "# learning rate \n",
        "learning_rate = 0.5"
      ],
      "metadata": {
        "id": "_tUwbW_ohAGT"
      },
      "execution_count": null,
      "outputs": []
    },
    {
      "cell_type": "code",
      "source": [
        "class Net(nn.Module):\n",
        "    def __init__(self, n_x, n_h, n_y):\n",
        "        super().__init__()  # <1>\n",
        "        \n",
        "        self.hidden_linear = nn.Linear(n_x, n_h)\n",
        "        self.hidden_activation = nn.Sigmoid()\n",
        "        self.output_linear = nn.Linear(n_h, n_x)\n",
        "        \n",
        "    def forward(self, input):\n",
        "        x = self.hidden_linear(input)\n",
        "        x = self.hidden_activation(x)\n",
        "        x = self.hidden_linear(input)\n",
        "        x = self.hidden_activation(x)\n",
        "        x = self.output_linear(x)\n",
        "        \n",
        "        return x\n",
        "    \n",
        "model = Net(n_x, n_h, n_y)\n",
        "model"
      ],
      "metadata": {
        "id": "T9f7Ao5hdcZ_",
        "colab": {
          "base_uri": "https://localhost:8080/"
        },
        "outputId": "78e85fe6-c8b4-4bc5-9e5e-fa08694869bd"
      },
      "execution_count": null,
      "outputs": [
        {
          "output_type": "execute_result",
          "data": {
            "text/plain": [
              "Net(\n",
              "  (hidden_linear): Linear(in_features=10000, out_features=5, bias=True)\n",
              "  (hidden_activation): Sigmoid()\n",
              "  (output_linear): Linear(in_features=5, out_features=10000, bias=True)\n",
              ")"
            ]
          },
          "metadata": {},
          "execution_count": 4
        }
      ]
    },
    {
      "cell_type": "code",
      "source": [
        "optimizer = optim.SGD(model.parameters(), lr=learning_rate)\n",
        "loss = nn.MSELoss()"
      ],
      "metadata": {
        "id": "x8TVk1v2fTlm"
      },
      "execution_count": null,
      "outputs": []
    },
    {
      "cell_type": "code",
      "source": [
        "def train(X, y, model, optimizer, loss, epochs):\n",
        "    cost = []\n",
        "    total=0\n",
        "    for epoch in range(epochs):\n",
        "        yhat = model(X.float())\n",
        "        output = loss(y.float(), yhat)\n",
        "        output.backward()\n",
        "        optimizer.step()\n",
        "        optimizer.zero_grad()\n",
        "        cost.append(output.item())\n",
        "\n",
        "    return cost"
      ],
      "metadata": {
        "id": "o2S3DBVNgUZD"
      },
      "execution_count": null,
      "outputs": []
    },
    {
      "cell_type": "code",
      "source": [
        "cost_cross = train(X, y, model, optimizer, loss, epochs=30000)\n",
        "#plot the loss\n",
        "plt.plot(cost_cross)\n",
        "plt.xlabel('epoch')\n",
        "plt.title('cross entropy loss')"
      ],
      "metadata": {
        "colab": {
          "base_uri": "https://localhost:8080/",
          "height": 313
        },
        "id": "qfTI8HhaeTmZ",
        "outputId": "7c9e0d53-baa6-4008-97db-20189cdf10a2"
      },
      "execution_count": null,
      "outputs": [
        {
          "output_type": "execute_result",
          "data": {
            "text/plain": [
              "Text(0.5, 1.0, 'cross entropy loss')"
            ]
          },
          "metadata": {},
          "execution_count": 7
        },
        {
          "output_type": "display_data",
          "data": {
            "text/plain": [
              "<Figure size 432x288 with 1 Axes>"
            ],
            "image/png": "[encoded data removed]"
          },
          "metadata": {
            "needs_background": "light"
          }
        }
      ]
    },
    {
      "cell_type": "code",
      "source": [
        "y_hat = model(X.float())\n",
        "\n",
        "plt.plot(X, y)\n",
        "plt.plot(X, y_hat.detach().numpy())\n",
        "plt.show()\n"
      ],
      "metadata": {
        "colab": {
          "base_uri": "https://localhost:8080/",
          "height": 265
        },
        "id": "G8oeT7ugy1dI",
        "outputId": "08153d55-ff68-4f29-ab16-341941311f97"
      },
      "execution_count": null,
      "outputs": [
        {
          "output_type": "display_data",
          "data": {
            "text/plain": [
              "<Figure size 432x288 with 1 Axes>"
            ],
            "image/png": "[encoded data removed]"
          },
          "metadata": {
            "needs_background": "light"
          }
        }
      ]
    },
    {
      "cell_type": "code",
      "source": [
        ""
      ],
      "metadata": {
        "id": "UfcYs1xezF4n"
      },
      "execution_count": null,
      "outputs": []
    }
  ]
}